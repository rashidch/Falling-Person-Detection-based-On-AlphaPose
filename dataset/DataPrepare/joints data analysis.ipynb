{
 "cells": [
  {
   "cell_type": "code",
   "execution_count": 40,
   "metadata": {},
   "outputs": [],
   "source": [
    "import pandas as pd\n",
    "import numpy as np\n",
    "import os\n",
    "import matplotlib.pyplot as plt\n",
    "import skimage.io\n",
    "import cv2\n",
    "import imblearn"
   ]
  },
  {
   "cell_type": "code",
   "execution_count": 29,
   "metadata": {},
   "outputs": [
    {
     "name": "stdout",
     "output_type": "stream",
     "text": [
      "Collecting imbalanced-learn\n",
      "  Downloading imbalanced_learn-0.8.0-py3-none-any.whl (206 kB)\n",
      "\u001b[K     |████████████████████████████████| 206 kB 2.8 MB/s eta 0:00:01\n",
      "\u001b[?25hRequirement already satisfied: scikit-learn>=0.24 in /home/rasho/anaconda3/envs/alphapose/lib/python3.6/site-packages (from imbalanced-learn) (0.24.2)\n",
      "Requirement already satisfied: numpy>=1.13.3 in /home/rasho/anaconda3/envs/alphapose/lib/python3.6/site-packages (from imbalanced-learn) (1.19.2)\n",
      "Requirement already satisfied: scipy>=0.19.1 in /home/rasho/.local/lib/python3.6/site-packages/scipy-1.1.0-py3.6-linux-x86_64.egg (from imbalanced-learn) (1.1.0)\n",
      "Requirement already satisfied: joblib>=0.11 in /home/rasho/anaconda3/envs/alphapose/lib/python3.6/site-packages (from imbalanced-learn) (1.0.1)\n",
      "Requirement already satisfied: threadpoolctl>=2.0.0 in /home/rasho/anaconda3/envs/alphapose/lib/python3.6/site-packages (from scikit-learn>=0.24->imbalanced-learn) (2.2.0)\n",
      "Installing collected packages: imbalanced-learn\n",
      "Successfully installed imbalanced-learn-0.8.0\n"
     ]
    }
   ],
   "source": [
    "!pip install imbalanced-learn"
   ]
  },
  {
   "cell_type": "code",
   "execution_count": 31,
   "metadata": {},
   "outputs": [
    {
     "name": "stdout",
     "output_type": "stream",
     "text": [
      "/home/rasho/Falling-Person-Detection-based-On-AlphaPose\n"
     ]
    }
   ],
   "source": [
    "curr_dir = os.getcwd()\n",
    "path = os.path.dirname(curr_dir)\n",
    "print(path)\n",
    "csv_file_path = os.path.join(path, 'dataset/DataCSV/multicam_full_h36m.csv')"
   ]
  },
  {
   "cell_type": "code",
   "execution_count": 32,
   "metadata": {},
   "outputs": [],
   "source": [
    "df = pd.read_csv(csv_file_path)\n",
    "df = df.drop(['Unnamed: 0','idx'], axis=1)\n",
    "#df = df.sort_values(['score'],ascending=False)"
   ]
  },
  {
   "cell_type": "code",
   "execution_count": null,
   "metadata": {},
   "outputs": [],
   "source": [
    "#df = df.drop_duplicates(subset = ['image_id','pos_class'], keep = 'first')\n",
    "#df = df.sort_index()"
   ]
  },
  {
   "cell_type": "code",
   "execution_count": 33,
   "metadata": {},
   "outputs": [
    {
     "data": {
      "text/plain": [
       "Standing    37657\n",
       "Falling     17286\n",
       "Name: pos_class, dtype: int64"
      ]
     },
     "execution_count": 33,
     "metadata": {},
     "output_type": "execute_result"
    }
   ],
   "source": [
    "df['pos_class'].value_counts()"
   ]
  },
  {
   "cell_type": "code",
   "execution_count": 36,
   "metadata": {},
   "outputs": [
    {
     "data": {
      "text/plain": [
       "Index(['image_id', 'pos_class', 'box', 'score', 'Hip_x', 'Hip_y', 'RHip_x',\n",
       "       'RHip_y', 'RKnee_x', 'RKnee_y', 'RFoot_x', 'RFoot_y', 'LHip_x',\n",
       "       'LHip_y', 'LKnee_x', 'LKnee_y', 'LFoot_x', 'LFoot_y', 'Spine_x',\n",
       "       'Spine_y', 'Thorax_x', 'Thorax_y', 'Nose_x', 'Nose_y', 'Head_x',\n",
       "       'Head_y', 'LShoulder_x', 'LShoulder_y', 'LElbow_x', 'LElbow_y',\n",
       "       'LWrist_x', 'LWrist_y', 'RShoulder_x', 'RShoulder_y', 'RElbow_x',\n",
       "       'RElbow_y', 'RWrist_x', 'RWrist_y'],\n",
       "      dtype='object')"
      ]
     },
     "execution_count": 36,
     "metadata": {},
     "output_type": "execute_result"
    }
   ],
   "source": [
    "df.columns"
   ]
  },
  {
   "cell_type": "code",
   "execution_count": 37,
   "metadata": {},
   "outputs": [
    {
     "data": {
      "text/html": [
       "<div>\n",
       "<style scoped>\n",
       "    .dataframe tbody tr th:only-of-type {\n",
       "        vertical-align: middle;\n",
       "    }\n",
       "\n",
       "    .dataframe tbody tr th {\n",
       "        vertical-align: top;\n",
       "    }\n",
       "\n",
       "    .dataframe thead th {\n",
       "        text-align: right;\n",
       "    }\n",
       "</style>\n",
       "<table border=\"1\" class=\"dataframe\">\n",
       "  <thead>\n",
       "    <tr style=\"text-align: right;\">\n",
       "      <th></th>\n",
       "      <th>image_id</th>\n",
       "      <th>pos_class</th>\n",
       "      <th>box</th>\n",
       "      <th>score</th>\n",
       "      <th>Hip_x</th>\n",
       "      <th>Hip_y</th>\n",
       "      <th>RHip_x</th>\n",
       "      <th>RHip_y</th>\n",
       "      <th>RKnee_x</th>\n",
       "      <th>RKnee_y</th>\n",
       "      <th>...</th>\n",
       "      <th>LElbow_x</th>\n",
       "      <th>LElbow_y</th>\n",
       "      <th>LWrist_x</th>\n",
       "      <th>LWrist_y</th>\n",
       "      <th>RShoulder_x</th>\n",
       "      <th>RShoulder_y</th>\n",
       "      <th>RElbow_x</th>\n",
       "      <th>RElbow_y</th>\n",
       "      <th>RWrist_x</th>\n",
       "      <th>RWrist_y</th>\n",
       "    </tr>\n",
       "  </thead>\n",
       "  <tbody>\n",
       "    <tr>\n",
       "      <th>0</th>\n",
       "      <td>01095.jpg</td>\n",
       "      <td>Falling</td>\n",
       "      <td>[264.7388000488281, 97.85186004638672, 174.059...</td>\n",
       "      <td>2.473748</td>\n",
       "      <td>372.166229</td>\n",
       "      <td>201.207169</td>\n",
       "      <td>380.098633</td>\n",
       "      <td>201.207169</td>\n",
       "      <td>409.561859</td>\n",
       "      <td>242.002396</td>\n",
       "      <td>...</td>\n",
       "      <td>293.975372</td>\n",
       "      <td>130.948700</td>\n",
       "      <td>255.446533</td>\n",
       "      <td>140.014313</td>\n",
       "      <td>364.233826</td>\n",
       "      <td>133.215103</td>\n",
       "      <td>389.164246</td>\n",
       "      <td>128.682297</td>\n",
       "      <td>411.828278</td>\n",
       "      <td>103.751877</td>\n",
       "    </tr>\n",
       "    <tr>\n",
       "      <th>1</th>\n",
       "      <td>01096.jpg</td>\n",
       "      <td>Falling</td>\n",
       "      <td>[270.8756103515625, 90.72824096679688, 167.931...</td>\n",
       "      <td>2.418112</td>\n",
       "      <td>365.774277</td>\n",
       "      <td>202.608543</td>\n",
       "      <td>373.427399</td>\n",
       "      <td>201.515244</td>\n",
       "      <td>404.039856</td>\n",
       "      <td>240.874130</td>\n",
       "      <td>...</td>\n",
       "      <td>279.403351</td>\n",
       "      <td>135.917068</td>\n",
       "      <td>254.257401</td>\n",
       "      <td>139.196991</td>\n",
       "      <td>353.747955</td>\n",
       "      <td>138.103683</td>\n",
       "      <td>377.800598</td>\n",
       "      <td>127.170654</td>\n",
       "      <td>395.293457</td>\n",
       "      <td>103.117996</td>\n",
       "    </tr>\n",
       "    <tr>\n",
       "      <th>2</th>\n",
       "      <td>01097.jpg</td>\n",
       "      <td>Falling</td>\n",
       "      <td>[205.35069274902344, 93.36463165283203, 236.03...</td>\n",
       "      <td>2.625777</td>\n",
       "      <td>361.788422</td>\n",
       "      <td>201.726387</td>\n",
       "      <td>361.788422</td>\n",
       "      <td>203.263107</td>\n",
       "      <td>398.669617</td>\n",
       "      <td>243.217728</td>\n",
       "      <td>...</td>\n",
       "      <td>364.861847</td>\n",
       "      <td>123.353851</td>\n",
       "      <td>383.302460</td>\n",
       "      <td>101.839813</td>\n",
       "      <td>315.686920</td>\n",
       "      <td>135.647583</td>\n",
       "      <td>275.732300</td>\n",
       "      <td>141.794449</td>\n",
       "      <td>238.851105</td>\n",
       "      <td>147.941315</td>\n",
       "    </tr>\n",
       "    <tr>\n",
       "      <th>3</th>\n",
       "      <td>01098.jpg</td>\n",
       "      <td>Falling</td>\n",
       "      <td>[207.93246459960938, 113.12434387207031, 227.2...</td>\n",
       "      <td>2.519368</td>\n",
       "      <td>354.134201</td>\n",
       "      <td>201.688332</td>\n",
       "      <td>355.613983</td>\n",
       "      <td>203.168106</td>\n",
       "      <td>394.088104</td>\n",
       "      <td>241.642258</td>\n",
       "      <td>...</td>\n",
       "      <td>352.654419</td>\n",
       "      <td>123.260284</td>\n",
       "      <td>367.452179</td>\n",
       "      <td>105.502991</td>\n",
       "      <td>326.018494</td>\n",
       "      <td>146.936676</td>\n",
       "      <td>346.735321</td>\n",
       "      <td>126.219833</td>\n",
       "      <td>367.452179</td>\n",
       "      <td>105.502991</td>\n",
       "    </tr>\n",
       "    <tr>\n",
       "      <th>4</th>\n",
       "      <td>01099.jpg</td>\n",
       "      <td>Falling</td>\n",
       "      <td>[206.1958465576172, 104.33092498779297, 230.08...</td>\n",
       "      <td>2.612864</td>\n",
       "      <td>349.700714</td>\n",
       "      <td>212.788422</td>\n",
       "      <td>355.692566</td>\n",
       "      <td>211.290466</td>\n",
       "      <td>385.651825</td>\n",
       "      <td>241.249725</td>\n",
       "      <td>...</td>\n",
       "      <td>241.847382</td>\n",
       "      <td>148.376007</td>\n",
       "      <td>217.879974</td>\n",
       "      <td>157.363800</td>\n",
       "      <td>325.733307</td>\n",
       "      <td>145.380096</td>\n",
       "      <td>343.708862</td>\n",
       "      <td>118.416756</td>\n",
       "      <td>355.692566</td>\n",
       "      <td>100.441200</td>\n",
       "    </tr>\n",
       "  </tbody>\n",
       "</table>\n",
       "<p>5 rows × 38 columns</p>\n",
       "</div>"
      ],
      "text/plain": [
       "    image_id pos_class                                                box  \\\n",
       "0  01095.jpg   Falling  [264.7388000488281, 97.85186004638672, 174.059...   \n",
       "1  01096.jpg   Falling  [270.8756103515625, 90.72824096679688, 167.931...   \n",
       "2  01097.jpg   Falling  [205.35069274902344, 93.36463165283203, 236.03...   \n",
       "3  01098.jpg   Falling  [207.93246459960938, 113.12434387207031, 227.2...   \n",
       "4  01099.jpg   Falling  [206.1958465576172, 104.33092498779297, 230.08...   \n",
       "\n",
       "      score       Hip_x       Hip_y      RHip_x      RHip_y     RKnee_x  \\\n",
       "0  2.473748  372.166229  201.207169  380.098633  201.207169  409.561859   \n",
       "1  2.418112  365.774277  202.608543  373.427399  201.515244  404.039856   \n",
       "2  2.625777  361.788422  201.726387  361.788422  203.263107  398.669617   \n",
       "3  2.519368  354.134201  201.688332  355.613983  203.168106  394.088104   \n",
       "4  2.612864  349.700714  212.788422  355.692566  211.290466  385.651825   \n",
       "\n",
       "      RKnee_y  ...    LElbow_x    LElbow_y    LWrist_x    LWrist_y  \\\n",
       "0  242.002396  ...  293.975372  130.948700  255.446533  140.014313   \n",
       "1  240.874130  ...  279.403351  135.917068  254.257401  139.196991   \n",
       "2  243.217728  ...  364.861847  123.353851  383.302460  101.839813   \n",
       "3  241.642258  ...  352.654419  123.260284  367.452179  105.502991   \n",
       "4  241.249725  ...  241.847382  148.376007  217.879974  157.363800   \n",
       "\n",
       "   RShoulder_x  RShoulder_y    RElbow_x    RElbow_y    RWrist_x    RWrist_y  \n",
       "0   364.233826   133.215103  389.164246  128.682297  411.828278  103.751877  \n",
       "1   353.747955   138.103683  377.800598  127.170654  395.293457  103.117996  \n",
       "2   315.686920   135.647583  275.732300  141.794449  238.851105  147.941315  \n",
       "3   326.018494   146.936676  346.735321  126.219833  367.452179  105.502991  \n",
       "4   325.733307   145.380096  343.708862  118.416756  355.692566  100.441200  \n",
       "\n",
       "[5 rows x 38 columns]"
      ]
     },
     "execution_count": 37,
     "metadata": {},
     "output_type": "execute_result"
    }
   ],
   "source": [
    "df.head()"
   ]
  },
  {
   "cell_type": "code",
   "execution_count": 38,
   "metadata": {},
   "outputs": [],
   "source": [
    "# Class count\n",
    "count_class_0, count_class_1 = df.pos_class.value_counts()\n",
    "# Divide by class\n",
    "df_class_1 = df[df['pos_class']=='Falling']\n",
    "df_class_0 = df[df['pos_class']=='Standing']"
   ]
  },
  {
   "cell_type": "code",
   "execution_count": 39,
   "metadata": {},
   "outputs": [
    {
     "name": "stdout",
     "output_type": "stream",
     "text": [
      "Random under-sampling:\n",
      "Standing    17286\n",
      "Falling     17286\n",
      "Name: pos_class, dtype: int64\n"
     ]
    },
    {
     "data": {
      "image/png": "[encoded data removed]",
      "text/plain": [
       "<Figure size 432x288 with 1 Axes>"
      ]
     },
     "metadata": {
      "needs_background": "light"
     },
     "output_type": "display_data"
    }
   ],
   "source": [
    "df_class_0_under = df_class_0.sample(count_class_1)\n",
    "df_test_under = pd.concat([df_class_0_under, df_class_1], axis=0)\n",
    "\n",
    "print('Random under-sampling:')\n",
    "print(df_test_under.pos_class.value_counts())\n",
    "\n",
    "df_test_under.pos_class.value_counts().plot(kind='bar', title='Count (target)');"
   ]
  },
  {
   "cell_type": "code",
   "execution_count": 41,
   "metadata": {},
   "outputs": [
    {
     "name": "stdout",
     "output_type": "stream",
     "text": [
      "Random over-sampling:\n",
      "Standing    37657\n",
      "Falling     37657\n",
      "Name: pos_class, dtype: int64\n"
     ]
    },
    {
     "data": {
      "image/png": "[encoded data removed]",
      "text/plain": [
       "<Figure size 432x288 with 1 Axes>"
      ]
     },
     "metadata": {
      "needs_background": "light"
     },
     "output_type": "display_data"
    }
   ],
   "source": [
    "df_class_1_over = df_class_1.sample(count_class_0, replace=True)\n",
    "df_test_over = pd.concat([df_class_0, df_class_1_over], axis=0)\n",
    "\n",
    "print('Random over-sampling:')\n",
    "print(df_test_over.pos_class.value_counts())\n",
    "\n",
    "df_test_over.pos_class.value_counts().plot(kind='bar', title='Count (target)');"
   ]
  },
  {
   "cell_type": "code",
   "execution_count": 56,
   "metadata": {},
   "outputs": [],
   "source": [
    "y = np.array(df['pos_class'].astype('category').cat.codes)"
   ]
  },
  {
   "cell_type": "code",
   "execution_count": 67,
   "metadata": {},
   "outputs": [],
   "source": [
    "y = np.array(df['pos_class'])"
   ]
  },
  {
   "cell_type": "code",
   "execution_count": 68,
   "metadata": {},
   "outputs": [
    {
     "data": {
      "text/plain": [
       "array(['Falling', 'Falling', 'Falling', ..., 'Standing', 'Standing',\n",
       "       'Standing'], dtype=object)"
      ]
     },
     "execution_count": 68,
     "metadata": {},
     "output_type": "execute_result"
    }
   ],
   "source": [
    "y"
   ]
  },
  {
   "cell_type": "code",
   "execution_count": 69,
   "metadata": {},
   "outputs": [],
   "source": [
    "X = np.array(df.iloc[:,4:])"
   ]
  },
  {
   "cell_type": "code",
   "execution_count": 70,
   "metadata": {},
   "outputs": [
    {
     "data": {
      "text/plain": [
       "array([[372.16622925, 201.20716858, 380.09863281, ..., 128.68229675,\n",
       "        411.82827759, 103.75187683],\n",
       "       [365.77427673, 202.6085434 , 373.42739868, ..., 127.1706543 ,\n",
       "        395.29345703, 103.11799622],\n",
       "       [361.78842163, 201.72638702, 361.78842163, ..., 141.79444885,\n",
       "        238.85110474, 147.9413147 ],\n",
       "       ...,\n",
       "       [321.99333191,  97.27463531, 315.50271606, ...,  94.3899231 ,\n",
       "        350.11932373, 110.25587463],\n",
       "       [689.22851562, 150.07591248, 697.78985596, ..., 139.44802856,\n",
       "        702.5133667 , 149.48547363],\n",
       "       [325.82437134,  95.53025055, 318.26855469, ...,  94.01908875,\n",
       "        348.49182129, 115.17538452]])"
      ]
     },
     "execution_count": 70,
     "metadata": {},
     "output_type": "execute_result"
    }
   ],
   "source": [
    "X"
   ]
  },
  {
   "cell_type": "code",
   "execution_count": 71,
   "metadata": {},
   "outputs": [
    {
     "data": {
      "text/plain": [
       "(54943, 34)"
      ]
     },
     "execution_count": 71,
     "metadata": {},
     "output_type": "execute_result"
    }
   ],
   "source": [
    "X.shape"
   ]
  },
  {
   "cell_type": "code",
   "execution_count": 72,
   "metadata": {},
   "outputs": [],
   "source": [
    "def plot_2d_space(X, y, label='Classes'):   \n",
    "    colors = ['#1F77B4', '#FF7F0E']\n",
    "    markers = ['o', 's']\n",
    "    plt.figure(figsize=(14,10))\n",
    "    for l, c, m in zip(np.unique(y), colors, markers):\n",
    "        plt.scatter(\n",
    "            X[y==l, 0],\n",
    "            X[y==l, 1],\n",
    "            c=c, label=l, marker=m\n",
    "        )\n",
    "    plt.title(label)\n",
    "    plt.legend(loc='upper right')\n",
    "    plt.show()"
   ]
  },
  {
   "cell_type": "code",
   "execution_count": 76,
   "metadata": {},
   "outputs": [
    {
     "data": {
      "image/png": "[encoded data removed]",
      "text/plain": [
       "<Figure size 1008x720 with 1 Axes>"
      ]
     },
     "metadata": {
      "needs_background": "light"
     },
     "output_type": "display_data"
    }
   ],
   "source": [
    "from sklearn.decomposition import PCA\n",
    "pca = PCA(n_components=2)\n",
    "X = pca.fit_transform(X)\n",
    "\n",
    "plot_2d_space(X, y, 'Imbalanced dataset (2 PCA components)')"
   ]
  },
  {
   "cell_type": "code",
   "execution_count": 87,
   "metadata": {},
   "outputs": [
    {
     "name": "stdout",
     "output_type": "stream",
     "text": [
      "Counter({'Standing': 37657, 'Falling': 17286})\n",
      "Counter({'Falling': 17286, 'Standing': 17286})\n"
     ]
    },
    {
     "data": {
      "image/png": "[encoded data removed]",
      "text/plain": [
       "<Figure size 1008x720 with 1 Axes>"
      ]
     },
     "metadata": {
      "needs_background": "light"
     },
     "output_type": "display_data"
    }
   ],
   "source": [
    "from imblearn.under_sampling import RandomUnderSampler\n",
    "from collections import Counter\n",
    "print(Counter(y))\n",
    "undersample = RandomUnderSampler(sampling_strategy='majority')\n",
    "X_rus, y_rus= rus.fit_resample(X, y)\n",
    "print(Counter(y_rus))\n",
    "plot_2d_space(X_rus, y_rus, 'Random under-sampling')"
   ]
  },
  {
   "cell_type": "code",
   "execution_count": 97,
   "metadata": {},
   "outputs": [
    {
     "name": "stdout",
     "output_type": "stream",
     "text": [
      "Resampled dataset shape Counter({'Standing': 35187, 'Falling': 17286})\n"
     ]
    },
    {
     "data": {
      "image/png": "[encoded data removed]",
      "text/plain": [
       "<Figure size 1008x720 with 1 Axes>"
      ]
     },
     "metadata": {
      "needs_background": "light"
     },
     "output_type": "display_data"
    }
   ],
   "source": [
    "from imblearn.under_sampling import TomekLinks\n",
    "\n",
    "tl = TomekLinks(sampling_strategy='majority')\n",
    "X_res, y_res = tl.fit_resample(X, y)\n",
    "print('Resampled dataset shape %s' % Counter(y_res))\n",
    "plot_2d_space(X_tl, y_tl, 'Tomek links under-sampling')"
   ]
  },
  {
   "cell_type": "code",
   "execution_count": 94,
   "metadata": {},
   "outputs": [
    {
     "name": "stdout",
     "output_type": "stream",
     "text": [
      "Resampled dataset shape Counter({'Falling': 17286, 'Standing': 17286})\n"
     ]
    }
   ],
   "source": [
    "from imblearn.under_sampling import ClusterCentroids \n",
    "cc = ClusterCentroids(random_state=42)\n",
    "X_res, y_res= cc.fit_resample(X, y)\n",
    "print('Resampled dataset shape %s' % Counter(y_res))"
   ]
  },
  {
   "cell_type": "code",
   "execution_count": 96,
   "metadata": {},
   "outputs": [
    {
     "data": {
      "image/png": "[encoded data removed]",
      "text/plain": [
       "<Figure size 1008x720 with 1 Axes>"
      ]
     },
     "metadata": {
      "needs_background": "light"
     },
     "output_type": "display_data"
    }
   ],
   "source": [
    "plot_2d_space(X_res, y_res, 'ClusterCentroids-resampling')"
   ]
  },
  {
   "cell_type": "code",
   "execution_count": 25,
   "metadata": {},
   "outputs": [],
   "source": [
    "csv_file_path = os.path.join(path, 'dataset/DataCSV/multicam_fblc_h36m.csv')\n",
    "df_test_under.to_csv(csv_file_path)"
   ]
  },
  {
   "cell_type": "code",
   "execution_count": 28,
   "metadata": {},
   "outputs": [],
   "source": [
    "csv_file_path = os.path.join(path, 'dataset/DataCSV/multicam_fovblc_h36m.csv')\n",
    "df_test_over.to_csv(csv_file_path)"
   ]
  },
  {
   "cell_type": "code",
   "execution_count": null,
   "metadata": {},
   "outputs": [],
   "source": [
    "#df = df.drop(['nose_x','nose_y','LEye_x',\n",
    "#       'LEye_y', 'REye_x', 'REye_y', 'LEar_x', 'LEar_y', 'REar_x', 'REar_y'], axis=1)"
   ]
  },
  {
   "cell_type": "code",
   "execution_count": null,
   "metadata": {},
   "outputs": [],
   "source": [
    "# Load a random image from the images folder\n",
    "#file_names = next(os.walk(IMAGE_DIR))[2]\n",
    "\n",
    "#image = skimage.io.imread(os.path.join(IMAGE_DIR, random.choice(file_names)))\n",
    "image = skimage.io.imread('/home/rasho/Falling-Person-Detection-based-On-AlphaPose/input/Falling_Standing/FallingDown_01/00400.png')\n",
    "image.shape"
   ]
  },
  {
   "cell_type": "code",
   "execution_count": null,
   "metadata": {},
   "outputs": [],
   "source": [
    "box = df['box'][400]\n",
    "box"
   ]
  },
  {
   "cell_type": "code",
   "execution_count": null,
   "metadata": {},
   "outputs": [],
   "source": [
    "x = float(box.strip('[,]').split(',')[0])\n",
    "y = float(box.strip('[,]').split(',')[1])\n",
    "w = float(box.strip('[,]').split(',')[2])\n",
    "h = float(box.strip('[,]').split(',')[3])"
   ]
  },
  {
   "cell_type": "code",
   "execution_count": null,
   "metadata": {},
   "outputs": [],
   "source": [
    "plt.imshow(image)"
   ]
  },
  {
   "cell_type": "code",
   "execution_count": null,
   "metadata": {},
   "outputs": [],
   "source": [
    "bbox = [x,x+w,y,y+h] #xmin,xmax,ymin,ymax\n",
    "cv2.rectangle(image, (int(bbox[0]), int(bbox[2])), (int(bbox[1]),int(bbox[3])), (0,255), 3)\n",
    "plt.imshow(image)"
   ]
  },
  {
   "cell_type": "code",
   "execution_count": null,
   "metadata": {},
   "outputs": [],
   "source": [
    "import math\n",
    "def get_angle(x,y):\n",
    "    #return angle in degrees\n",
    "    return (math.atan2(y,x)*(180/math.pi))"
   ]
  },
  {
   "cell_type": "code",
   "execution_count": null,
   "metadata": {},
   "outputs": [],
   "source": []
  },
  {
   "cell_type": "code",
   "execution_count": null,
   "metadata": {},
   "outputs": [],
   "source": [
    "df['foot_x'] = df['RFoot_x']-df['LFoot_x']\n",
    "df['foot_y'] = df['RFoot_y']-df['LFoot_y']\n",
    "df['angle_x']= df['Head_x']-df['foot_x']\n",
    "df['angle_y']= df['Head_y']-df['foot_y']"
   ]
  },
  {
   "cell_type": "code",
   "execution_count": null,
   "metadata": {},
   "outputs": [],
   "source": [
    "df[['angle_x','angle_y']]"
   ]
  },
  {
   "cell_type": "code",
   "execution_count": null,
   "metadata": {},
   "outputs": [],
   "source": [
    "df['angle']= df.apply(lambda row: get_angle(x = row['angle_x'], y = row['angle_y']), axis=1)"
   ]
  },
  {
   "cell_type": "code",
   "execution_count": null,
   "metadata": {},
   "outputs": [],
   "source": [
    "df.head()"
   ]
  },
  {
   "cell_type": "code",
   "execution_count": null,
   "metadata": {},
   "outputs": [],
   "source": [
    "df3 = df[['pos_class','angle']]\n",
    "falling_angle  = df3.loc[(df3['pos_class']=='Falling')]\n",
    "standing_angle = df3.loc[(df3['pos_class']=='Standing')]\n",
    "falling_angle  = falling_angle.iloc[:160].to_numpy()\n",
    "standing_angle = standing_angle.iloc[:160].to_numpy()"
   ]
  },
  {
   "cell_type": "code",
   "execution_count": null,
   "metadata": {},
   "outputs": [],
   "source": [
    "falling_angle"
   ]
  },
  {
   "cell_type": "code",
   "execution_count": null,
   "metadata": {},
   "outputs": [],
   "source": [
    "falling_angle[:,1].min()"
   ]
  },
  {
   "cell_type": "code",
   "execution_count": null,
   "metadata": {},
   "outputs": [],
   "source": [
    "falling_angle[:,1].max()"
   ]
  },
  {
   "cell_type": "code",
   "execution_count": null,
   "metadata": {},
   "outputs": [],
   "source": [
    "falling_angle[:,1].mean()"
   ]
  },
  {
   "cell_type": "code",
   "execution_count": null,
   "metadata": {},
   "outputs": [],
   "source": [
    "standing_angle"
   ]
  },
  {
   "cell_type": "code",
   "execution_count": null,
   "metadata": {},
   "outputs": [],
   "source": [
    "standing_angle[:,1].min()"
   ]
  },
  {
   "cell_type": "code",
   "execution_count": null,
   "metadata": {},
   "outputs": [],
   "source": [
    "standing_angle[:,1].max()"
   ]
  },
  {
   "cell_type": "code",
   "execution_count": null,
   "metadata": {},
   "outputs": [],
   "source": [
    "standing_angle[:,1].mean()"
   ]
  },
  {
   "cell_type": "code",
   "execution_count": null,
   "metadata": {},
   "outputs": [],
   "source": [
    "import matplotlib.pyplot as plt\n",
    "plt.figure(figsize=(12,6))\n",
    "frames = np.arange(0,len(falling_angle))\n",
    "plt.plot(frames,falling_angle[:,1],label='FallingDown')\n",
    "plt.plot(frames,standing_angle[:,1],label='Standing')\n",
    "plt.xlabel('Frames')\n",
    "plt.ylabel('Angle in degrees')\n",
    "plt.title('The angle between the center line of the Human and the Ground')\n",
    "plt.legend()\n",
    "plt.show()"
   ]
  },
  {
   "cell_type": "code",
   "execution_count": null,
   "metadata": {},
   "outputs": [],
   "source": [
    "df4 = df[['pos_class','score']]\n",
    "falling_dist = df4.loc[(df4['pos_class']=='Falling')]\n",
    "standing_dist = df4.loc[(df4['pos_class']=='Standing')]\n",
    "falling_dist  = falling_dist.iloc[:160].to_numpy()\n",
    "standing_dist = standing_dist.iloc[:160].to_numpy()"
   ]
  },
  {
   "cell_type": "code",
   "execution_count": null,
   "metadata": {},
   "outputs": [],
   "source": [
    "import matplotlib.pyplot as plt\n",
    "plt.figure(figsize=(12,6))\n",
    "frames = np.arange(0,len(falling_dist))\n",
    "plt.plot(frames,falling_dist[:,1],label='FallingDown')\n",
    "plt.plot(frames,standing_dist[:,1],label='Standing')\n",
    "plt.xlabel('Frames')\n",
    "plt.ylabel('Score')\n",
    "plt.title('Person Detection Confidence score')\n",
    "plt.legend()\n",
    "plt.show()"
   ]
  },
  {
   "cell_type": "code",
   "execution_count": null,
   "metadata": {},
   "outputs": [],
   "source": [
    "plt.figure(figsize=(8,5))\n",
    "num_bins = 50\n",
    "plt.hist(df4['score'],num_bins,density=True)\n",
    "#plt.hist(stand[:,0],num_bins,density=True)\n",
    "plt.show()"
   ]
  },
  {
   "cell_type": "code",
   "execution_count": null,
   "metadata": {},
   "outputs": [],
   "source": [
    "df['score'].mean()"
   ]
  },
  {
   "cell_type": "code",
   "execution_count": null,
   "metadata": {},
   "outputs": [],
   "source": [
    "df['score'].max()"
   ]
  },
  {
   "cell_type": "code",
   "execution_count": null,
   "metadata": {},
   "outputs": [],
   "source": [
    "df['score'].min()"
   ]
  },
  {
   "cell_type": "code",
   "execution_count": null,
   "metadata": {},
   "outputs": [],
   "source": [
    "plt.hist??"
   ]
  },
  {
   "cell_type": "code",
   "execution_count": null,
   "metadata": {},
   "outputs": [],
   "source": [
    "df['Knee_x'] = df['RKnee_x']- df['LKnee_x']\n",
    "df['Knee_y'] = df['RKnee_y']- df['LKnee_y']\n",
    "df['SK_x']= df['Spine_x']-df['Knee_x']\n",
    "df['SK_y']= df['Spine_y']-df['Knee_y']\n",
    "df['dist'] = np.sqrt(np.square(df['SK_x'])+np.square(df['SK_y']))"
   ]
  },
  {
   "cell_type": "code",
   "execution_count": null,
   "metadata": {},
   "outputs": [],
   "source": [
    "df4 = df[['pos_class','dist']]\n",
    "falling_dist = df4.loc[(df4['pos_class']=='Falling')]\n",
    "standing_dist = df4.loc[(df4['pos_class']=='Standing')]\n",
    "falling_dist  = falling_dist.iloc[:160].to_numpy()\n",
    "standing_dist = standing_dist.iloc[:160].to_numpy()"
   ]
  },
  {
   "cell_type": "code",
   "execution_count": null,
   "metadata": {},
   "outputs": [],
   "source": [
    "import matplotlib.pyplot as plt\n",
    "plt.figure(figsize=(12,6))\n",
    "frames = np.arange(0,len(falling_dist))\n",
    "plt.plot(frames,falling_dist[:,1],label='FallingDown')\n",
    "plt.plot(frames,standing_dist[:,1],label='Standing')\n",
    "plt.xlabel('Frames')\n",
    "plt.ylabel('Distance')\n",
    "plt.title('Distance between Spine and Knee center')\n",
    "plt.legend()\n",
    "plt.show()"
   ]
  },
  {
   "cell_type": "code",
   "execution_count": null,
   "metadata": {},
   "outputs": [],
   "source": [
    "df4['dist'].mean()"
   ]
  },
  {
   "cell_type": "code",
   "execution_count": null,
   "metadata": {},
   "outputs": [],
   "source": [
    "df4['dist'].min()"
   ]
  },
  {
   "cell_type": "code",
   "execution_count": null,
   "metadata": {},
   "outputs": [],
   "source": [
    "df4['dist'].max()"
   ]
  },
  {
   "cell_type": "code",
   "execution_count": null,
   "metadata": {},
   "outputs": [],
   "source": [
    "#df4.loc[(df4['pos_class']=='NotFalls')&(df4['dist']<300)]\n",
    "df4.loc[(df4['pos_class']=='Standing')&(df4['dist']<300)]"
   ]
  },
  {
   "cell_type": "code",
   "execution_count": null,
   "metadata": {},
   "outputs": [],
   "source": [
    "def get_ratio(box):\n",
    "    \n",
    "    x = float(box.strip('[,]').split(',')[0])\n",
    "    y = float(box.strip('[,]').split(',')[1])\n",
    "    w = float(box.strip('[,]').split(',')[2])\n",
    "    h = float(box.strip('[,]').split(',')[3])\n",
    "    return w/h"
   ]
  },
  {
   "cell_type": "code",
   "execution_count": null,
   "metadata": {},
   "outputs": [],
   "source": [
    "df['box_ratio']=df['box'].map(get_ratio)"
   ]
  },
  {
   "cell_type": "code",
   "execution_count": null,
   "metadata": {},
   "outputs": [],
   "source": [
    "df['box_ratio'][5273]"
   ]
  },
  {
   "cell_type": "raw",
   "metadata": {},
   "source": [
    "df5 = df[['pos_class','box_ratio']]\n",
    "falling_ratio  = df5.loc[(df5['pos_class']=='Falling')&(df5['box_ratio']>0.36)]\n",
    "standing_ratio = df5.loc[(df5['pos_class']=='Standing')&(df5['box_ratio']<0.36)]\n",
    "falling_ratio  = falling_ratio.iloc[:3300].to_numpy()\n",
    "standing_ratio = standing_ratio.iloc[:3300].to_numpy()"
   ]
  },
  {
   "cell_type": "code",
   "execution_count": null,
   "metadata": {},
   "outputs": [],
   "source": [
    "df5 = df[['pos_class','box_ratio']]\n",
    "falling_ratio  = df5.loc[(df5['pos_class']=='Falling')]\n",
    "standing_ratio = df5.loc[(df5['pos_class']=='Standing')]\n",
    "falling_ratio  = falling_ratio.iloc[:3300].to_numpy()\n",
    "standing_ratio = standing_ratio.iloc[:3300].to_numpy()"
   ]
  },
  {
   "cell_type": "code",
   "execution_count": null,
   "metadata": {},
   "outputs": [],
   "source": [
    "falling_ratio[:,1].mean()"
   ]
  },
  {
   "cell_type": "code",
   "execution_count": null,
   "metadata": {},
   "outputs": [],
   "source": [
    "falling_ratio[:,1].max()"
   ]
  },
  {
   "cell_type": "code",
   "execution_count": null,
   "metadata": {},
   "outputs": [],
   "source": [
    "falling_ratio[:,1].min()"
   ]
  },
  {
   "cell_type": "code",
   "execution_count": null,
   "metadata": {},
   "outputs": [],
   "source": [
    "standing_ratio[:,1].mean()"
   ]
  },
  {
   "cell_type": "code",
   "execution_count": null,
   "metadata": {},
   "outputs": [],
   "source": [
    "standing_ratio[:,1].max()"
   ]
  },
  {
   "cell_type": "code",
   "execution_count": null,
   "metadata": {},
   "outputs": [],
   "source": [
    "standing_ratio[:,1].min()"
   ]
  },
  {
   "cell_type": "code",
   "execution_count": null,
   "metadata": {},
   "outputs": [],
   "source": [
    "import matplotlib.pyplot as plt\n",
    "plt.figure(figsize=(14,7))\n",
    "frames = np.arange(0,len(falling_ratio ))\n",
    "plt.plot(frames[:160],falling_ratio[:160,1],label='FallingDown')\n",
    "plt.plot(frames[:160],standing_ratio[:160,1],label='Standing')\n",
    "plt.xlabel('Frames')\n",
    "plt.ylabel('Box W/H Ratio')\n",
    "plt.title('Box W/H Ratio for Falling and Standing person')\n",
    "plt.legend()\n",
    "plt.show()"
   ]
  },
  {
   "cell_type": "code",
   "execution_count": null,
   "metadata": {},
   "outputs": [],
   "source": [
    "df2 = df[['image_id','pos_class','box_ratio']]"
   ]
  },
  {
   "cell_type": "code",
   "execution_count": null,
   "metadata": {},
   "outputs": [],
   "source": [
    "df2.loc[(df2['pos_class']=='FallingDown')&(df2['box_ratio']>2)]"
   ]
  },
  {
   "cell_type": "code",
   "execution_count": null,
   "metadata": {},
   "outputs": [],
   "source": [
    "df2.loc[(df2['pos_class']=='FallingDown')&(df2['box_ratio']<2)]"
   ]
  },
  {
   "cell_type": "code",
   "execution_count": null,
   "metadata": {},
   "outputs": [],
   "source": [
    "df2.loc[(df2['pos_class']=='Standing')&(df2['box_ratio']>2)]"
   ]
  },
  {
   "cell_type": "code",
   "execution_count": null,
   "metadata": {},
   "outputs": [],
   "source": [
    "df2.loc[(df2['pos_class']=='FallingDown')& (df2['box_ratio']>0.95) | (df2['pos_class']=='Standing')& (df2['box_ratio']<0.95)]"
   ]
  },
  {
   "cell_type": "code",
   "execution_count": null,
   "metadata": {},
   "outputs": [],
   "source": [
    "df2['pos_class'].unique"
   ]
  },
  {
   "cell_type": "code",
   "execution_count": null,
   "metadata": {},
   "outputs": [],
   "source": [
    "x1_diff,y1_diff = feat_df['LShoulder_x']-feat_df['nose_x'],feat_df['LShoulder_y']-feat_df['nose_y']\n",
    "x1y1_len = np.sqrt(np.square(x1_diff)+np.square(y1_diff))\n",
    "x1,y1 = x1_diff/x1y1_len,y1_diff/x1y1_len\n",
    "df['x1'] = x1\n",
    "df['y1'] = y1"
   ]
  },
  {
   "cell_type": "code",
   "execution_count": null,
   "metadata": {},
   "outputs": [],
   "source": [
    "x2_diff, y2_diff = feat_df['RShoulder_x']-feat_df['nose_x'],feat_df['RShoulder_y']-feat_df['nose_y']\n",
    "x2y2_len = np.sqrt(np.square(x2_diff)+np.square(y2_diff))\n",
    "x2, y2 = x2_diff/x2y2_len, y2_diff/x2y2_len\n",
    "df['x2'] = x2\n",
    "df['y2'] = y2"
   ]
  },
  {
   "cell_type": "code",
   "execution_count": null,
   "metadata": {},
   "outputs": [],
   "source": [
    "df.columns"
   ]
  },
  {
   "cell_type": "code",
   "execution_count": null,
   "metadata": {},
   "outputs": [],
   "source": [
    "df"
   ]
  },
  {
   "cell_type": "code",
   "execution_count": null,
   "metadata": {},
   "outputs": [],
   "source": [
    "df[df.iloc[:,30:].isna().any(axis=1)]"
   ]
  },
  {
   "cell_type": "code",
   "execution_count": null,
   "metadata": {},
   "outputs": [],
   "source": [
    "df = df.dropna()"
   ]
  },
  {
   "cell_type": "code",
   "execution_count": null,
   "metadata": {},
   "outputs": [],
   "source": [
    "df.isna().any()"
   ]
  },
  {
   "cell_type": "code",
   "execution_count": null,
   "metadata": {},
   "outputs": [],
   "source": [
    "df.to_csv('data/victorized_res.csv')"
   ]
  },
  {
   "cell_type": "code",
   "execution_count": null,
   "metadata": {},
   "outputs": [],
   "source": []
  },
  {
   "cell_type": "code",
   "execution_count": null,
   "metadata": {},
   "outputs": [],
   "source": [
    "curr_dir = os.getcwd()\n",
    "csv_file_path = os.path.join(curr_dir, 'data/res_with_flips.csv')"
   ]
  },
  {
   "cell_type": "code",
   "execution_count": null,
   "metadata": {},
   "outputs": [],
   "source": [
    "df2 = pd.read_csv(csv_file_path)\n",
    "df2 = df2.drop(['Unnamed: 0','idx'], axis=1)\n",
    "df2 = df2.sort_values(['score'],ascending=False)"
   ]
  },
  {
   "cell_type": "code",
   "execution_count": null,
   "metadata": {},
   "outputs": [],
   "source": [
    "df2 = df2.drop_duplicates(subset = ['image_id','pos_class'], keep = 'first')\n",
    "df2 = df2.sort_index()\n",
    "df2.head()"
   ]
  },
  {
   "cell_type": "code",
   "execution_count": null,
   "metadata": {},
   "outputs": [],
   "source": [
    "df2"
   ]
  },
  {
   "cell_type": "code",
   "execution_count": null,
   "metadata": {},
   "outputs": [],
   "source": [
    "df2.to_csv('data/clean_res_with_flips.csv')"
   ]
  },
  {
   "cell_type": "code",
   "execution_count": null,
   "metadata": {},
   "outputs": [],
   "source": [
    "df.columns"
   ]
  },
  {
   "cell_type": "code",
   "execution_count": null,
   "metadata": {},
   "outputs": [],
   "source": [
    "def get_center(coord1, coord2):\n",
    "    return (coord1+coord2)/2"
   ]
  },
  {
   "cell_type": "code",
   "execution_count": null,
   "metadata": {},
   "outputs": [],
   "source": [
    "# get center of Right Hip joint and Left Hip joint\n",
    "df['HipCent_x'] = df.apply(lambda row: get_center(coord1=row['RHip_x'],coord2=row['LHip_x']), axis=1)\n",
    "df['HipCent_y'] = df.apply(lambda row: get_center(coord1=row['RHip_y'],coord2=row['LHip_y']), axis=1)"
   ]
  },
  {
   "cell_type": "code",
   "execution_count": null,
   "metadata": {},
   "outputs": [],
   "source": [
    "df.head()"
   ]
  },
  {
   "cell_type": "code",
   "execution_count": null,
   "metadata": {},
   "outputs": [],
   "source": [
    "def get_vector(p1_x,p1_y,p2_x,p2_y):\n",
    "    \n",
    "    return p2_x-p1_x, p2_y-p1_y"
   ]
  },
  {
   "cell_type": "code",
   "execution_count": null,
   "metadata": {},
   "outputs": [],
   "source": [
    "#get waist, Spine2, Right thigh, Left Thigh, Right Calf, Left Calf vectors.\n",
    "df['waist_x'], df['waist_y'] = zip(*df.apply(lambda row: get_vector(p1_x=row['RHip_x'],p1_y=row['RHip_y'],p2_x=row['LHip_x'],p2_y=row['LHip_y']), axis=1))\n",
    "df['Spine2_x'], df['Spine2_y'] = zip(*df.apply(lambda row: get_vector(p1_x=row['Thorax_x'],p1_y=row['Thorax_y'],p2_x=row['HipCent_x'],p2_y=row['HipCent_y']), axis=1))\n",
    "df['Rthigh_x'], df['Rthigh_y'] = zip(*df.apply(lambda row: get_vector(p1_x=row['RHip_x'],p1_y=row['RHip_y'],p2_x=row['RKnee_x'],p2_y=row['RKnee_y']), axis=1))\n",
    "df['Lthigh_x'], df['Lthigh_y'] = zip(*df.apply(lambda row: get_vector(p1_x=row['LHip_x'],p1_y=row['LHip_y'],p2_x=row['LKnee_x'],p2_y=row['LKnee_y']), axis=1))\n",
    "df['Rcalf_x'], df['Rcalf_y'] = zip(*df.apply(lambda row: get_vector(p1_x=row['RKnee_x'],p1_y=row['RKnee_y'],p2_x=row['RFoot_x'],p2_y=row['RFoot_y']), axis=1))\n",
    "df['Lcalf_x'], df['Lcalf_y'] = zip(*df.apply(lambda row: get_vector(p1_x=row['LKnee_x'],p1_y=row['LKnee_y'],p2_x=row['LFoot_x'],p2_y=row['LFoot_y']), axis=1))\n"
   ]
  },
  {
   "cell_type": "code",
   "execution_count": null,
   "metadata": {},
   "outputs": [],
   "source": [
    "def get_vectorRatio(p1_x,p1_y,p2_x,p2_y):\n",
    "    # add small number to numerator and denominator\n",
    "    p1_len = np.sqrt(np.square(p1_x)+np.square(p1_y))\n",
    "    p2_len = np.sqrt(np.square(p2_x)+np.square(p2_y))\n",
    "    return (p1_len+0.00001)/(p2_len+0.00001)"
   ]
  },
  {
   "cell_type": "code",
   "execution_count": null,
   "metadata": {},
   "outputs": [],
   "source": [
    "df['SRatio'] = df.apply(lambda row: get_vectorRatio(p1_x=row['Spine2_x'],p1_y=row['Spine2_y'],p2_x=row['waist_x'],p2_y=row['waist_y']), axis=1)"
   ]
  },
  {
   "cell_type": "code",
   "execution_count": null,
   "metadata": {},
   "outputs": [],
   "source": [
    "df2 = df[['SRatio','pos_class']]"
   ]
  },
  {
   "cell_type": "raw",
   "metadata": {},
   "source": [
    "fall = df2.loc[(df2['pos_class']=='Falls')]\n",
    "fall = fall.iloc[:4000].iloc[:,:1].to_numpy()"
   ]
  },
  {
   "cell_type": "code",
   "execution_count": null,
   "metadata": {},
   "outputs": [],
   "source": [
    "fall = df2.loc[(df2['pos_class']=='Falling')]\n",
    "fall = fall.iloc[:4000].iloc[:,:1].to_numpy()"
   ]
  },
  {
   "cell_type": "code",
   "execution_count": null,
   "metadata": {},
   "outputs": [],
   "source": [
    "fall"
   ]
  },
  {
   "cell_type": "raw",
   "metadata": {},
   "source": [
    "stand = df2.loc[(df2['pos_class']=='NotFalls')]\n",
    "stand = stand[:4000].iloc[:,:1].to_numpy()"
   ]
  },
  {
   "cell_type": "code",
   "execution_count": null,
   "metadata": {},
   "outputs": [],
   "source": [
    "stand = df2.loc[(df2['pos_class']=='Standing')]\n",
    "stand = stand[:4000].iloc[:,:1].to_numpy()"
   ]
  },
  {
   "cell_type": "code",
   "execution_count": null,
   "metadata": {},
   "outputs": [],
   "source": [
    "stand"
   ]
  },
  {
   "cell_type": "code",
   "execution_count": null,
   "metadata": {},
   "outputs": [],
   "source": [
    "import matplotlib.pyplot as plt\n",
    "plt.figure(figsize=(14,7))\n",
    "frames = np.arange(0,len(fall))\n",
    "plt.plot(frames[:160],fall[:160,0],label='FallingDown')\n",
    "plt.plot(frames[:160], stand[:160,0],label='Standing')\n",
    "plt.xlabel('Frames')\n",
    "plt.ylabel('Spine Ratio')\n",
    "plt.title('Spine Ratio for Standing and Falling')\n",
    "plt.legend()\n",
    "plt.show()"
   ]
  },
  {
   "cell_type": "code",
   "execution_count": null,
   "metadata": {},
   "outputs": [],
   "source": [
    "plt.figure(figsize=(8,5))\n",
    "num_bins = 5\n",
    "plt.hist(fall[:,0],num_bins,density=True)\n",
    "plt.hist(stand[:,0],num_bins,density=True)\n",
    "plt.show()"
   ]
  },
  {
   "cell_type": "code",
   "execution_count": null,
   "metadata": {},
   "outputs": [],
   "source": [
    "df.head()"
   ]
  },
  {
   "cell_type": "code",
   "execution_count": null,
   "metadata": {},
   "outputs": [],
   "source": [
    "df.columns"
   ]
  },
  {
   "cell_type": "code",
   "execution_count": null,
   "metadata": {},
   "outputs": [],
   "source": [
    "df['hip_v'] = df['HipCent_y'].diff(periods=5).abs()/4"
   ]
  },
  {
   "cell_type": "code",
   "execution_count": null,
   "metadata": {},
   "outputs": [],
   "source": [
    "df['spine_v'] = df['Spine_y'].diff(periods=5).abs()/4"
   ]
  },
  {
   "cell_type": "code",
   "execution_count": null,
   "metadata": {},
   "outputs": [],
   "source": [
    "df['head_v'] = df['Head_y'].diff(periods=5).abs()/4"
   ]
  },
  {
   "cell_type": "code",
   "execution_count": null,
   "metadata": {},
   "outputs": [],
   "source": [
    "df.isna().any()"
   ]
  },
  {
   "cell_type": "code",
   "execution_count": null,
   "metadata": {},
   "outputs": [],
   "source": [
    "df[df.iloc[:,30:].isna().any(axis=1)]"
   ]
  },
  {
   "cell_type": "code",
   "execution_count": null,
   "metadata": {},
   "outputs": [],
   "source": [
    "df = df.dropna()"
   ]
  },
  {
   "cell_type": "code",
   "execution_count": null,
   "metadata": {},
   "outputs": [],
   "source": [
    "df.isna().any()"
   ]
  },
  {
   "cell_type": "code",
   "execution_count": null,
   "metadata": {},
   "outputs": [],
   "source": [
    "df5 = df[['pos_class','hip_v','spine_v','head_v']]\n",
    "fall = df5.loc[(df5['pos_class']=='Falling')]\n",
    "stand = df5.loc[(df5['pos_class']=='Standing')]\n",
    "fall  = fall.iloc[:3300].to_numpy()\n",
    "stand  = stand.iloc[:3300].to_numpy()"
   ]
  },
  {
   "cell_type": "code",
   "execution_count": null,
   "metadata": {},
   "outputs": [],
   "source": [
    "fall[:,1].min()"
   ]
  },
  {
   "cell_type": "code",
   "execution_count": null,
   "metadata": {},
   "outputs": [],
   "source": [
    "fall[:,1].mean()"
   ]
  },
  {
   "cell_type": "code",
   "execution_count": null,
   "metadata": {},
   "outputs": [],
   "source": [
    "fall[:,1].max()"
   ]
  },
  {
   "cell_type": "code",
   "execution_count": null,
   "metadata": {},
   "outputs": [],
   "source": [
    "import matplotlib.pyplot as plt\n",
    "plt.figure(figsize=(14,7))\n",
    "frames = np.arange(0,len(fall))\n",
    "plt.plot(frames[:160],fall[:160,1],label='FallingDown')\n",
    "plt.plot(frames[:160], stand[:160,1],label='Standing')\n",
    "plt.xlabel('Frames')\n",
    "plt.ylabel('Hip Speed')\n",
    "plt.title('Hip Speed for Standing and Falling')\n",
    "plt.legend()\n",
    "plt.show()"
   ]
  },
  {
   "cell_type": "code",
   "execution_count": null,
   "metadata": {},
   "outputs": [],
   "source": [
    "import matplotlib.pyplot as plt\n",
    "plt.figure(figsize=(14,7))\n",
    "frames = np.arange(0,len(fall))\n",
    "plt.plot(frames[:160],fall[:160,2],label='FallingDown')\n",
    "plt.plot(frames[:160], stand[:160,2],label='Standing')\n",
    "plt.xlabel('Frames')\n",
    "plt.ylabel('Spine Speed')\n",
    "plt.title('Spine Speed for Standing and Falling')\n",
    "plt.legend()\n",
    "plt.show()"
   ]
  },
  {
   "cell_type": "code",
   "execution_count": null,
   "metadata": {},
   "outputs": [],
   "source": [
    "plt.figure(figsize=(14,7))\n",
    "frames = np.arange(0,len(fall))\n",
    "plt.plot(frames[:160],fall[:160,3],label='FallingDown')\n",
    "plt.plot(frames[:160], stand[:160,3],label='Standing')\n",
    "plt.xlabel('Frames')\n",
    "plt.ylabel('Head Speed')\n",
    "plt.title('Head Speed for Standing and Falling')\n",
    "plt.legend()\n",
    "plt.show()"
   ]
  },
  {
   "cell_type": "code",
   "execution_count": null,
   "metadata": {},
   "outputs": [],
   "source": [
    "n_frames = 5\n",
    "pose2d_size =34\n",
    "humanData = np.zeros([n_frames, pose2d_size])"
   ]
  },
  {
   "cell_type": "code",
   "execution_count": null,
   "metadata": {},
   "outputs": [],
   "source": [
    "humanData"
   ]
  },
  {
   "cell_type": "code",
   "execution_count": null,
   "metadata": {},
   "outputs": [],
   "source": [
    "pose = np.ones(34)"
   ]
  },
  {
   "cell_type": "code",
   "execution_count": null,
   "metadata": {},
   "outputs": [],
   "source": [
    "humanData[0,:]= pose"
   ]
  },
  {
   "cell_type": "code",
   "execution_count": null,
   "metadata": {},
   "outputs": [],
   "source": [
    "humanData"
   ]
  },
  {
   "cell_type": "code",
   "execution_count": null,
   "metadata": {},
   "outputs": [],
   "source": [
    "humanData[1:5,:]"
   ]
  },
  {
   "cell_type": "code",
   "execution_count": null,
   "metadata": {},
   "outputs": [],
   "source": []
  }
 ],
 "metadata": {
  "kernelspec": {
   "display_name": "Python 3",
   "language": "python",
   "name": "python3"
  },
  "language_info": {
   "codemirror_mode": {
    "name": "ipython",
    "version": 3
   },
   "file_extension": ".py",
   "mimetype": "text/x-python",
   "name": "python",
   "nbconvert_exporter": "python",
   "pygments_lexer": "ipython3",
   "version": "3.6.12"
  }
 },
 "nbformat": 4,
 "nbformat_minor": 4
}
