{
 "cells": [
  {
   "cell_type": "code",
   "execution_count": 45,
   "metadata": {},
   "outputs": [],
   "source": [
    "import os\n",
    "import cv2\n",
    "import sys\n",
    "import json\n",
    "import glob\n",
    "import shutil\n",
    "import codecs\n",
    "import zipfile"
   ]
  },
  {
   "cell_type": "code",
   "execution_count": 46,
   "metadata": {},
   "outputs": [
    {
     "data": {
      "text/plain": [
       "'/home/rasho/Falling-Person-Detection-based-On-AlphaPose/dataset/DataPrepare'"
      ]
     },
     "execution_count": 46,
     "metadata": {},
     "output_type": "execute_result"
    }
   ],
   "source": [
    "os.getcwd()"
   ]
  },
  {
   "cell_type": "code",
   "execution_count": 47,
   "metadata": {},
   "outputs": [],
   "source": [
    "path = '/home/rasho/Falling-Person-Detection-based-On-AlphaPose'\n",
    "multicam = os.path.join(path,'input/multicam_dataset')"
   ]
  },
  {
   "cell_type": "code",
   "execution_count": 49,
   "metadata": {},
   "outputs": [],
   "source": [
    "# Path where the videos are stored (in zip format, as in a fresh download)\n",
    "output_base_path =  os.path.join(path,'input/multicam600/')\n",
    "annotations_path = os.path.join(multicam,'annotations_multicam.json')\n",
    "delays_file = os.path.join(multicam,'delays_multicam.json')\n",
    "num_scenarios = 24\n",
    "num_cameras = 8\n",
    "W, H = 600, 600 # shape of new images (resize is applied)\n",
    "\n",
    "# Extract all files and organise them (if necessary)\n",
    "dir = glob.glob(multicam+'/*')"
   ]
  },
  {
   "cell_type": "code",
   "execution_count": 41,
   "metadata": {},
   "outputs": [
    {
     "data": {
      "text/plain": [
       "['/home/rasho/Falling-Person-Detection-based-On-AlphaPose/input/multicam_dataset/chute12',\n",
       " '/home/rasho/Falling-Person-Detection-based-On-AlphaPose/input/multicam_dataset/delays_multicam.json',\n",
       " '/home/rasho/Falling-Person-Detection-based-On-AlphaPose/input/multicam_dataset/chute03',\n",
       " '/home/rasho/Falling-Person-Detection-based-On-AlphaPose/input/multicam_dataset/chute15',\n",
       " '/home/rasho/Falling-Person-Detection-based-On-AlphaPose/input/multicam_dataset/chute24',\n",
       " '/home/rasho/Falling-Person-Detection-based-On-AlphaPose/input/multicam_dataset/chute07',\n",
       " '/home/rasho/Falling-Person-Detection-based-On-AlphaPose/input/multicam_dataset/chute22',\n",
       " '/home/rasho/Falling-Person-Detection-based-On-AlphaPose/input/multicam_dataset/annotations_multicam.json',\n",
       " '/home/rasho/Falling-Person-Detection-based-On-AlphaPose/input/multicam_dataset/chute19',\n",
       " '/home/rasho/Falling-Person-Detection-based-On-AlphaPose/input/multicam_dataset/chute23',\n",
       " '/home/rasho/Falling-Person-Detection-based-On-AlphaPose/input/multicam_dataset/chute06',\n",
       " '/home/rasho/Falling-Person-Detection-based-On-AlphaPose/input/multicam_dataset/chute21',\n",
       " '/home/rasho/Falling-Person-Detection-based-On-AlphaPose/input/multicam_dataset/chute09',\n",
       " '/home/rasho/Falling-Person-Detection-based-On-AlphaPose/input/multicam_dataset/chute02',\n",
       " '/home/rasho/Falling-Person-Detection-based-On-AlphaPose/input/multicam_dataset/chute11',\n",
       " '/home/rasho/Falling-Person-Detection-based-On-AlphaPose/input/multicam_dataset/chute13',\n",
       " '/home/rasho/Falling-Person-Detection-based-On-AlphaPose/input/multicam_dataset/chute16',\n",
       " '/home/rasho/Falling-Person-Detection-based-On-AlphaPose/input/multicam_dataset/chute08',\n",
       " '/home/rasho/Falling-Person-Detection-based-On-AlphaPose/input/multicam_dataset/chute14',\n",
       " '/home/rasho/Falling-Person-Detection-based-On-AlphaPose/input/multicam_dataset/chute04',\n",
       " '/home/rasho/Falling-Person-Detection-based-On-AlphaPose/input/multicam_dataset/chute18',\n",
       " '/home/rasho/Falling-Person-Detection-based-On-AlphaPose/input/multicam_dataset/chute20',\n",
       " '/home/rasho/Falling-Person-Detection-based-On-AlphaPose/input/multicam_dataset/chute01',\n",
       " '/home/rasho/Falling-Person-Detection-based-On-AlphaPose/input/multicam_dataset/chute10',\n",
       " '/home/rasho/Falling-Person-Detection-based-On-AlphaPose/input/multicam_dataset/chute05',\n",
       " '/home/rasho/Falling-Person-Detection-based-On-AlphaPose/input/multicam_dataset/chute17']"
      ]
     },
     "execution_count": 41,
     "metadata": {},
     "output_type": "execute_result"
    }
   ],
   "source": [
    "dir"
   ]
  },
  {
   "cell_type": "code",
   "execution_count": 50,
   "metadata": {},
   "outputs": [],
   "source": [
    "with open(annotations_path, 'r') as json_file:\n",
    "    annotations = json.load(json_file)\n",
    "    \n",
    "with open(delays_file, 'r') as json_file:\n",
    "    delays = json.load(json_file)"
   ]
  },
  {
   "cell_type": "code",
   "execution_count": 51,
   "metadata": {},
   "outputs": [
    {
     "data": {
      "text/plain": [
       "{'scenario1': {'reference': 11, 'start': [1080], 'end': [1108]},\n",
       " 'scenario2': {'reference': 4, 'start': [375], 'end': [399]},\n",
       " 'scenario3': {'reference': 11, 'start': [591], 'end': [625]},\n",
       " 'scenario4': {'reference': 6, 'start': [288], 'end': [314]},\n",
       " 'scenario5': {'reference': 11, 'start': [311], 'end': [336]},\n",
       " 'scenario6': {'reference': 1, 'start': [583], 'end': [629]},\n",
       " 'scenario7': {'reference': 6, 'start': [476], 'end': [507]},\n",
       " 'scenario8': {'reference': 4, 'start': [271], 'end': [298]},\n",
       " 'scenario9': {'reference': 11, 'start': [628], 'end': [651]},\n",
       " 'scenario10': {'reference': 11, 'start': [512], 'end': [530]},\n",
       " 'scenario11': {'reference': 7, 'start': [464], 'end': [489]},\n",
       " 'scenario12': {'reference': 11, 'start': [605], 'end': [653]},\n",
       " 'scenario13': {'reference': 4, 'start': [823], 'end': [863]},\n",
       " 'scenario14': {'reference': 6, 'start': [989], 'end': [1023]},\n",
       " 'scenario15': {'reference': 11, 'start': [755], 'end': [787]},\n",
       " 'scenario16': {'reference': 4, 'start': [891], 'end': [940]},\n",
       " 'scenario17': {'reference': 6, 'start': [730], 'end': [770]},\n",
       " 'scenario18': {'reference': 6, 'start': [571], 'end': [601]},\n",
       " 'scenario19': {'reference': 10, 'start': [499], 'end': [600]},\n",
       " 'scenario20': {'reference': 11, 'start': [545], 'end': [672]},\n",
       " 'scenario21': {'reference': 11, 'start': [864], 'end': [901]},\n",
       " 'scenario22': {'reference': 1, 'start': [767], 'end': [808]},\n",
       " 'scenario23': {'reference': 11, 'start': [1520, 3574], 'end': [1595, 3614]},\n",
       " 'scenario24': {'reference': 6, 'start': [], 'end': []}}"
      ]
     },
     "execution_count": 51,
     "metadata": {},
     "output_type": "execute_result"
    }
   ],
   "source": [
    " annotations "
   ]
  },
  {
   "cell_type": "code",
   "execution_count": 44,
   "metadata": {},
   "outputs": [
    {
     "name": "stdout",
     "output_type": "stream",
     "text": [
      "['/home/rasho/Falling-Person-Detection-based-On-AlphaPose/input/multicam_dataset/chute01/cam6.avi', '/home/rasho/Falling-Person-Detection-based-On-AlphaPose/input/multicam_dataset/chute01/cam1.avi', '/home/rasho/Falling-Person-Detection-based-On-AlphaPose/input/multicam_dataset/chute01/cam4.avi', '/home/rasho/Falling-Person-Detection-based-On-AlphaPose/input/multicam_dataset/chute01/cam2.avi', '/home/rasho/Falling-Person-Detection-based-On-AlphaPose/input/multicam_dataset/chute01/cam7.avi', '/home/rasho/Falling-Person-Detection-based-On-AlphaPose/input/multicam_dataset/chute01/cam5.avi', '/home/rasho/Falling-Person-Detection-based-On-AlphaPose/input/multicam_dataset/chute01/cam3.avi', '/home/rasho/Falling-Person-Detection-based-On-AlphaPose/input/multicam_dataset/chute01/cam8.avi']\n",
      "['/home/rasho/Falling-Person-Detection-based-On-AlphaPose/input/multicam_dataset/chute02/cam6.avi', '/home/rasho/Falling-Person-Detection-based-On-AlphaPose/input/multicam_dataset/chute02/cam1.avi', '/home/rasho/Falling-Person-Detection-based-On-AlphaPose/input/multicam_dataset/chute02/cam4.avi', '/home/rasho/Falling-Person-Detection-based-On-AlphaPose/input/multicam_dataset/chute02/cam2.avi', '/home/rasho/Falling-Person-Detection-based-On-AlphaPose/input/multicam_dataset/chute02/cam7.avi', '/home/rasho/Falling-Person-Detection-based-On-AlphaPose/input/multicam_dataset/chute02/cam5.avi', '/home/rasho/Falling-Person-Detection-based-On-AlphaPose/input/multicam_dataset/chute02/cam3.avi', '/home/rasho/Falling-Person-Detection-based-On-AlphaPose/input/multicam_dataset/chute02/cam8.avi']\n",
      "['/home/rasho/Falling-Person-Detection-based-On-AlphaPose/input/multicam_dataset/chute03/cam6.avi', '/home/rasho/Falling-Person-Detection-based-On-AlphaPose/input/multicam_dataset/chute03/cam1.avi', '/home/rasho/Falling-Person-Detection-based-On-AlphaPose/input/multicam_dataset/chute03/cam4.avi', '/home/rasho/Falling-Person-Detection-based-On-AlphaPose/input/multicam_dataset/chute03/cam2.avi', '/home/rasho/Falling-Person-Detection-based-On-AlphaPose/input/multicam_dataset/chute03/cam7.avi', '/home/rasho/Falling-Person-Detection-based-On-AlphaPose/input/multicam_dataset/chute03/cam5.avi', '/home/rasho/Falling-Person-Detection-based-On-AlphaPose/input/multicam_dataset/chute03/cam3.avi', '/home/rasho/Falling-Person-Detection-based-On-AlphaPose/input/multicam_dataset/chute03/cam8.avi']\n",
      "['/home/rasho/Falling-Person-Detection-based-On-AlphaPose/input/multicam_dataset/chute04/cam6.avi', '/home/rasho/Falling-Person-Detection-based-On-AlphaPose/input/multicam_dataset/chute04/cam1.avi', '/home/rasho/Falling-Person-Detection-based-On-AlphaPose/input/multicam_dataset/chute04/cam4.avi', '/home/rasho/Falling-Person-Detection-based-On-AlphaPose/input/multicam_dataset/chute04/cam2.avi', '/home/rasho/Falling-Person-Detection-based-On-AlphaPose/input/multicam_dataset/chute04/cam7.avi', '/home/rasho/Falling-Person-Detection-based-On-AlphaPose/input/multicam_dataset/chute04/cam5.avi', '/home/rasho/Falling-Person-Detection-based-On-AlphaPose/input/multicam_dataset/chute04/cam3.avi', '/home/rasho/Falling-Person-Detection-based-On-AlphaPose/input/multicam_dataset/chute04/cam8.avi']\n",
      "['/home/rasho/Falling-Person-Detection-based-On-AlphaPose/input/multicam_dataset/chute05/cam6.avi', '/home/rasho/Falling-Person-Detection-based-On-AlphaPose/input/multicam_dataset/chute05/cam1.avi', '/home/rasho/Falling-Person-Detection-based-On-AlphaPose/input/multicam_dataset/chute05/cam4.avi', '/home/rasho/Falling-Person-Detection-based-On-AlphaPose/input/multicam_dataset/chute05/cam2.avi', '/home/rasho/Falling-Person-Detection-based-On-AlphaPose/input/multicam_dataset/chute05/cam7.avi', '/home/rasho/Falling-Person-Detection-based-On-AlphaPose/input/multicam_dataset/chute05/cam5.avi', '/home/rasho/Falling-Person-Detection-based-On-AlphaPose/input/multicam_dataset/chute05/cam3.avi', '/home/rasho/Falling-Person-Detection-based-On-AlphaPose/input/multicam_dataset/chute05/cam8.avi']\n",
      "['/home/rasho/Falling-Person-Detection-based-On-AlphaPose/input/multicam_dataset/chute06/cam6.avi', '/home/rasho/Falling-Person-Detection-based-On-AlphaPose/input/multicam_dataset/chute06/cam1.avi', '/home/rasho/Falling-Person-Detection-based-On-AlphaPose/input/multicam_dataset/chute06/cam4.avi', '/home/rasho/Falling-Person-Detection-based-On-AlphaPose/input/multicam_dataset/chute06/cam2.avi', '/home/rasho/Falling-Person-Detection-based-On-AlphaPose/input/multicam_dataset/chute06/cam7.avi', '/home/rasho/Falling-Person-Detection-based-On-AlphaPose/input/multicam_dataset/chute06/cam5.avi', '/home/rasho/Falling-Person-Detection-based-On-AlphaPose/input/multicam_dataset/chute06/cam3.avi', '/home/rasho/Falling-Person-Detection-based-On-AlphaPose/input/multicam_dataset/chute06/cam8.avi']\n",
      "['/home/rasho/Falling-Person-Detection-based-On-AlphaPose/input/multicam_dataset/chute07/cam6.avi', '/home/rasho/Falling-Person-Detection-based-On-AlphaPose/input/multicam_dataset/chute07/cam1.avi', '/home/rasho/Falling-Person-Detection-based-On-AlphaPose/input/multicam_dataset/chute07/cam4.avi', '/home/rasho/Falling-Person-Detection-based-On-AlphaPose/input/multicam_dataset/chute07/cam2.avi', '/home/rasho/Falling-Person-Detection-based-On-AlphaPose/input/multicam_dataset/chute07/cam7.avi', '/home/rasho/Falling-Person-Detection-based-On-AlphaPose/input/multicam_dataset/chute07/cam5.avi', '/home/rasho/Falling-Person-Detection-based-On-AlphaPose/input/multicam_dataset/chute07/cam3.avi', '/home/rasho/Falling-Person-Detection-based-On-AlphaPose/input/multicam_dataset/chute07/cam8.avi']\n",
      "['/home/rasho/Falling-Person-Detection-based-On-AlphaPose/input/multicam_dataset/chute08/cam6.avi', '/home/rasho/Falling-Person-Detection-based-On-AlphaPose/input/multicam_dataset/chute08/cam1.avi', '/home/rasho/Falling-Person-Detection-based-On-AlphaPose/input/multicam_dataset/chute08/cam4.avi', '/home/rasho/Falling-Person-Detection-based-On-AlphaPose/input/multicam_dataset/chute08/cam2.avi', '/home/rasho/Falling-Person-Detection-based-On-AlphaPose/input/multicam_dataset/chute08/cam7.avi', '/home/rasho/Falling-Person-Detection-based-On-AlphaPose/input/multicam_dataset/chute08/cam5.avi', '/home/rasho/Falling-Person-Detection-based-On-AlphaPose/input/multicam_dataset/chute08/cam3.avi', '/home/rasho/Falling-Person-Detection-based-On-AlphaPose/input/multicam_dataset/chute08/cam8.avi']\n",
      "['/home/rasho/Falling-Person-Detection-based-On-AlphaPose/input/multicam_dataset/chute09/cam6.avi', '/home/rasho/Falling-Person-Detection-based-On-AlphaPose/input/multicam_dataset/chute09/cam1.avi', '/home/rasho/Falling-Person-Detection-based-On-AlphaPose/input/multicam_dataset/chute09/cam4.avi', '/home/rasho/Falling-Person-Detection-based-On-AlphaPose/input/multicam_dataset/chute09/cam2.avi', '/home/rasho/Falling-Person-Detection-based-On-AlphaPose/input/multicam_dataset/chute09/cam7.avi', '/home/rasho/Falling-Person-Detection-based-On-AlphaPose/input/multicam_dataset/chute09/cam5.avi', '/home/rasho/Falling-Person-Detection-based-On-AlphaPose/input/multicam_dataset/chute09/cam3.avi', '/home/rasho/Falling-Person-Detection-based-On-AlphaPose/input/multicam_dataset/chute09/cam8.avi']\n",
      "['/home/rasho/Falling-Person-Detection-based-On-AlphaPose/input/multicam_dataset/chute10/cam6.avi', '/home/rasho/Falling-Person-Detection-based-On-AlphaPose/input/multicam_dataset/chute10/cam1.avi', '/home/rasho/Falling-Person-Detection-based-On-AlphaPose/input/multicam_dataset/chute10/cam4.avi', '/home/rasho/Falling-Person-Detection-based-On-AlphaPose/input/multicam_dataset/chute10/cam2.avi', '/home/rasho/Falling-Person-Detection-based-On-AlphaPose/input/multicam_dataset/chute10/cam7.avi', '/home/rasho/Falling-Person-Detection-based-On-AlphaPose/input/multicam_dataset/chute10/cam5.avi', '/home/rasho/Falling-Person-Detection-based-On-AlphaPose/input/multicam_dataset/chute10/cam3.avi', '/home/rasho/Falling-Person-Detection-based-On-AlphaPose/input/multicam_dataset/chute10/cam8.avi']\n",
      "['/home/rasho/Falling-Person-Detection-based-On-AlphaPose/input/multicam_dataset/chute11/cam6.avi', '/home/rasho/Falling-Person-Detection-based-On-AlphaPose/input/multicam_dataset/chute11/cam1.avi', '/home/rasho/Falling-Person-Detection-based-On-AlphaPose/input/multicam_dataset/chute11/cam4.avi', '/home/rasho/Falling-Person-Detection-based-On-AlphaPose/input/multicam_dataset/chute11/cam2.avi', '/home/rasho/Falling-Person-Detection-based-On-AlphaPose/input/multicam_dataset/chute11/cam7.avi', '/home/rasho/Falling-Person-Detection-based-On-AlphaPose/input/multicam_dataset/chute11/cam5.avi', '/home/rasho/Falling-Person-Detection-based-On-AlphaPose/input/multicam_dataset/chute11/cam3.avi', '/home/rasho/Falling-Person-Detection-based-On-AlphaPose/input/multicam_dataset/chute11/cam8.avi']\n"
     ]
    },
    {
     "name": "stdout",
     "output_type": "stream",
     "text": [
      "['/home/rasho/Falling-Person-Detection-based-On-AlphaPose/input/multicam_dataset/chute12/cam6.avi', '/home/rasho/Falling-Person-Detection-based-On-AlphaPose/input/multicam_dataset/chute12/cam1.avi', '/home/rasho/Falling-Person-Detection-based-On-AlphaPose/input/multicam_dataset/chute12/cam4.avi', '/home/rasho/Falling-Person-Detection-based-On-AlphaPose/input/multicam_dataset/chute12/cam2.avi', '/home/rasho/Falling-Person-Detection-based-On-AlphaPose/input/multicam_dataset/chute12/cam7.avi', '/home/rasho/Falling-Person-Detection-based-On-AlphaPose/input/multicam_dataset/chute12/cam5.avi', '/home/rasho/Falling-Person-Detection-based-On-AlphaPose/input/multicam_dataset/chute12/cam3.avi', '/home/rasho/Falling-Person-Detection-based-On-AlphaPose/input/multicam_dataset/chute12/cam8.avi']\n",
      "['/home/rasho/Falling-Person-Detection-based-On-AlphaPose/input/multicam_dataset/chute13/cam6.avi', '/home/rasho/Falling-Person-Detection-based-On-AlphaPose/input/multicam_dataset/chute13/cam1.avi', '/home/rasho/Falling-Person-Detection-based-On-AlphaPose/input/multicam_dataset/chute13/cam4.avi', '/home/rasho/Falling-Person-Detection-based-On-AlphaPose/input/multicam_dataset/chute13/cam2.avi', '/home/rasho/Falling-Person-Detection-based-On-AlphaPose/input/multicam_dataset/chute13/cam7.avi', '/home/rasho/Falling-Person-Detection-based-On-AlphaPose/input/multicam_dataset/chute13/cam5.avi', '/home/rasho/Falling-Person-Detection-based-On-AlphaPose/input/multicam_dataset/chute13/cam3.avi', '/home/rasho/Falling-Person-Detection-based-On-AlphaPose/input/multicam_dataset/chute13/cam8.avi']\n",
      "['/home/rasho/Falling-Person-Detection-based-On-AlphaPose/input/multicam_dataset/chute14/cam6.avi', '/home/rasho/Falling-Person-Detection-based-On-AlphaPose/input/multicam_dataset/chute14/cam1.avi', '/home/rasho/Falling-Person-Detection-based-On-AlphaPose/input/multicam_dataset/chute14/cam4.avi', '/home/rasho/Falling-Person-Detection-based-On-AlphaPose/input/multicam_dataset/chute14/cam2.avi', '/home/rasho/Falling-Person-Detection-based-On-AlphaPose/input/multicam_dataset/chute14/cam7.avi', '/home/rasho/Falling-Person-Detection-based-On-AlphaPose/input/multicam_dataset/chute14/cam5.avi', '/home/rasho/Falling-Person-Detection-based-On-AlphaPose/input/multicam_dataset/chute14/cam3.avi', '/home/rasho/Falling-Person-Detection-based-On-AlphaPose/input/multicam_dataset/chute14/cam8.avi']\n",
      "['/home/rasho/Falling-Person-Detection-based-On-AlphaPose/input/multicam_dataset/chute15/cam6.avi', '/home/rasho/Falling-Person-Detection-based-On-AlphaPose/input/multicam_dataset/chute15/cam1.avi', '/home/rasho/Falling-Person-Detection-based-On-AlphaPose/input/multicam_dataset/chute15/cam4.avi', '/home/rasho/Falling-Person-Detection-based-On-AlphaPose/input/multicam_dataset/chute15/cam2.avi', '/home/rasho/Falling-Person-Detection-based-On-AlphaPose/input/multicam_dataset/chute15/cam7.avi', '/home/rasho/Falling-Person-Detection-based-On-AlphaPose/input/multicam_dataset/chute15/cam5.avi', '/home/rasho/Falling-Person-Detection-based-On-AlphaPose/input/multicam_dataset/chute15/cam3.avi', '/home/rasho/Falling-Person-Detection-based-On-AlphaPose/input/multicam_dataset/chute15/cam8.avi']\n",
      "['/home/rasho/Falling-Person-Detection-based-On-AlphaPose/input/multicam_dataset/chute16/cam6.avi', '/home/rasho/Falling-Person-Detection-based-On-AlphaPose/input/multicam_dataset/chute16/cam1.avi', '/home/rasho/Falling-Person-Detection-based-On-AlphaPose/input/multicam_dataset/chute16/cam4.avi', '/home/rasho/Falling-Person-Detection-based-On-AlphaPose/input/multicam_dataset/chute16/cam2.avi', '/home/rasho/Falling-Person-Detection-based-On-AlphaPose/input/multicam_dataset/chute16/cam7.avi', '/home/rasho/Falling-Person-Detection-based-On-AlphaPose/input/multicam_dataset/chute16/cam5.avi', '/home/rasho/Falling-Person-Detection-based-On-AlphaPose/input/multicam_dataset/chute16/cam3.avi', '/home/rasho/Falling-Person-Detection-based-On-AlphaPose/input/multicam_dataset/chute16/cam8.avi']\n",
      "['/home/rasho/Falling-Person-Detection-based-On-AlphaPose/input/multicam_dataset/chute17/cam6.avi', '/home/rasho/Falling-Person-Detection-based-On-AlphaPose/input/multicam_dataset/chute17/cam1.avi', '/home/rasho/Falling-Person-Detection-based-On-AlphaPose/input/multicam_dataset/chute17/cam4.avi', '/home/rasho/Falling-Person-Detection-based-On-AlphaPose/input/multicam_dataset/chute17/cam2.avi', '/home/rasho/Falling-Person-Detection-based-On-AlphaPose/input/multicam_dataset/chute17/cam7.avi', '/home/rasho/Falling-Person-Detection-based-On-AlphaPose/input/multicam_dataset/chute17/cam5.avi', '/home/rasho/Falling-Person-Detection-based-On-AlphaPose/input/multicam_dataset/chute17/cam3.avi', '/home/rasho/Falling-Person-Detection-based-On-AlphaPose/input/multicam_dataset/chute17/cam8.avi']\n",
      "['/home/rasho/Falling-Person-Detection-based-On-AlphaPose/input/multicam_dataset/chute18/cam6.avi', '/home/rasho/Falling-Person-Detection-based-On-AlphaPose/input/multicam_dataset/chute18/cam1.avi', '/home/rasho/Falling-Person-Detection-based-On-AlphaPose/input/multicam_dataset/chute18/cam4.avi', '/home/rasho/Falling-Person-Detection-based-On-AlphaPose/input/multicam_dataset/chute18/cam2.avi', '/home/rasho/Falling-Person-Detection-based-On-AlphaPose/input/multicam_dataset/chute18/cam7.avi', '/home/rasho/Falling-Person-Detection-based-On-AlphaPose/input/multicam_dataset/chute18/cam5.avi', '/home/rasho/Falling-Person-Detection-based-On-AlphaPose/input/multicam_dataset/chute18/cam3.avi', '/home/rasho/Falling-Person-Detection-based-On-AlphaPose/input/multicam_dataset/chute18/cam8.avi']\n",
      "['/home/rasho/Falling-Person-Detection-based-On-AlphaPose/input/multicam_dataset/chute19/cam6.avi', '/home/rasho/Falling-Person-Detection-based-On-AlphaPose/input/multicam_dataset/chute19/cam1.avi', '/home/rasho/Falling-Person-Detection-based-On-AlphaPose/input/multicam_dataset/chute19/cam4.avi', '/home/rasho/Falling-Person-Detection-based-On-AlphaPose/input/multicam_dataset/chute19/cam2.avi', '/home/rasho/Falling-Person-Detection-based-On-AlphaPose/input/multicam_dataset/chute19/cam7.avi', '/home/rasho/Falling-Person-Detection-based-On-AlphaPose/input/multicam_dataset/chute19/cam5.avi', '/home/rasho/Falling-Person-Detection-based-On-AlphaPose/input/multicam_dataset/chute19/cam3.avi', '/home/rasho/Falling-Person-Detection-based-On-AlphaPose/input/multicam_dataset/chute19/cam8.avi']\n",
      "['/home/rasho/Falling-Person-Detection-based-On-AlphaPose/input/multicam_dataset/chute20/cam6.avi', '/home/rasho/Falling-Person-Detection-based-On-AlphaPose/input/multicam_dataset/chute20/cam1.avi', '/home/rasho/Falling-Person-Detection-based-On-AlphaPose/input/multicam_dataset/chute20/cam4.avi', '/home/rasho/Falling-Person-Detection-based-On-AlphaPose/input/multicam_dataset/chute20/cam2.avi', '/home/rasho/Falling-Person-Detection-based-On-AlphaPose/input/multicam_dataset/chute20/cam7.avi', '/home/rasho/Falling-Person-Detection-based-On-AlphaPose/input/multicam_dataset/chute20/cam5.avi', '/home/rasho/Falling-Person-Detection-based-On-AlphaPose/input/multicam_dataset/chute20/cam3.avi', '/home/rasho/Falling-Person-Detection-based-On-AlphaPose/input/multicam_dataset/chute20/cam8.avi']\n",
      "['/home/rasho/Falling-Person-Detection-based-On-AlphaPose/input/multicam_dataset/chute21/cam6.avi', '/home/rasho/Falling-Person-Detection-based-On-AlphaPose/input/multicam_dataset/chute21/cam1.avi', '/home/rasho/Falling-Person-Detection-based-On-AlphaPose/input/multicam_dataset/chute21/cam4.avi', '/home/rasho/Falling-Person-Detection-based-On-AlphaPose/input/multicam_dataset/chute21/cam2.avi', '/home/rasho/Falling-Person-Detection-based-On-AlphaPose/input/multicam_dataset/chute21/cam7.avi', '/home/rasho/Falling-Person-Detection-based-On-AlphaPose/input/multicam_dataset/chute21/cam5.avi', '/home/rasho/Falling-Person-Detection-based-On-AlphaPose/input/multicam_dataset/chute21/cam3.avi', '/home/rasho/Falling-Person-Detection-based-On-AlphaPose/input/multicam_dataset/chute21/cam8.avi']\n",
      "['/home/rasho/Falling-Person-Detection-based-On-AlphaPose/input/multicam_dataset/chute22/cam6.avi', '/home/rasho/Falling-Person-Detection-based-On-AlphaPose/input/multicam_dataset/chute22/cam1.avi', '/home/rasho/Falling-Person-Detection-based-On-AlphaPose/input/multicam_dataset/chute22/cam4.avi', '/home/rasho/Falling-Person-Detection-based-On-AlphaPose/input/multicam_dataset/chute22/cam2.avi', '/home/rasho/Falling-Person-Detection-based-On-AlphaPose/input/multicam_dataset/chute22/cam7.avi', '/home/rasho/Falling-Person-Detection-based-On-AlphaPose/input/multicam_dataset/chute22/cam5.avi', '/home/rasho/Falling-Person-Detection-based-On-AlphaPose/input/multicam_dataset/chute22/cam3.avi', '/home/rasho/Falling-Person-Detection-based-On-AlphaPose/input/multicam_dataset/chute22/cam8.avi']\n"
     ]
    },
    {
     "name": "stdout",
     "output_type": "stream",
     "text": [
      "['/home/rasho/Falling-Person-Detection-based-On-AlphaPose/input/multicam_dataset/chute23/cam6.avi', '/home/rasho/Falling-Person-Detection-based-On-AlphaPose/input/multicam_dataset/chute23/cam1.avi', '/home/rasho/Falling-Person-Detection-based-On-AlphaPose/input/multicam_dataset/chute23/cam4.avi', '/home/rasho/Falling-Person-Detection-based-On-AlphaPose/input/multicam_dataset/chute23/cam2.avi', '/home/rasho/Falling-Person-Detection-based-On-AlphaPose/input/multicam_dataset/chute23/cam7.avi', '/home/rasho/Falling-Person-Detection-based-On-AlphaPose/input/multicam_dataset/chute23/cam5.avi', '/home/rasho/Falling-Person-Detection-based-On-AlphaPose/input/multicam_dataset/chute23/cam3.avi', '/home/rasho/Falling-Person-Detection-based-On-AlphaPose/input/multicam_dataset/chute23/cam8.avi']\n",
      "['/home/rasho/Falling-Person-Detection-based-On-AlphaPose/input/multicam_dataset/chute24/cam6.avi', '/home/rasho/Falling-Person-Detection-based-On-AlphaPose/input/multicam_dataset/chute24/cam1.avi', '/home/rasho/Falling-Person-Detection-based-On-AlphaPose/input/multicam_dataset/chute24/cam4.avi', '/home/rasho/Falling-Person-Detection-based-On-AlphaPose/input/multicam_dataset/chute24/cam2.avi', '/home/rasho/Falling-Person-Detection-based-On-AlphaPose/input/multicam_dataset/chute24/cam7.avi', '/home/rasho/Falling-Person-Detection-based-On-AlphaPose/input/multicam_dataset/chute24/cam5.avi', '/home/rasho/Falling-Person-Detection-based-On-AlphaPose/input/multicam_dataset/chute24/cam3.avi', '/home/rasho/Falling-Person-Detection-based-On-AlphaPose/input/multicam_dataset/chute24/cam8.avi']\n"
     ]
    }
   ],
   "source": [
    "# For each scenario\n",
    "for s in range(1,num_scenarios+1):\n",
    "    # Get all videos (one per camera)\n",
    "    videos = glob.glob(multicam + '/chute{:02}/*'.format(s))\n",
    "    print(videos)\n",
    "    videos.sort()\n",
    "    starts = annotations['scenario{}'.format(s)]['start']\n",
    "    ends = annotations['scenario{}'.format(s)]['end']\n",
    "\n",
    "    for cam, video in enumerate(videos, 1):\n",
    "        cap = cv2.VideoCapture(video)\n",
    "        length = int(cap.get(cv2.CAP_PROP_FRAME_COUNT))\n",
    "        # Delay of this camara for this scenario\n",
    "        delay = delays['camera{}'.format(cam)][str(s)]\n",
    "        for start, end in zip(starts, ends):\n",
    "            # Apply the delay\n",
    "            start += delay\n",
    "            end += delay\n",
    "            cap.set(cv2.CAP_PROP_POS_FRAMES, 0)\n",
    "\n",
    "            # Read the pre-fall part\n",
    "            pos = 0\n",
    "            while pos < start:\n",
    "                ret, frame = cap.read()\n",
    "                pos += 1\n",
    "                output_path = (\n",
    "                    output_base_path +\n",
    "                    'chute{:02}/NotFalls/camera{}_pre/'.format(\n",
    "                    s, cam\n",
    "                ))\n",
    "                if not os.path.exists(output_path):\n",
    "                    os.makedirs(output_path)\n",
    "                cv2.imwrite(output_path + 'img_{:05d}.jpg'.format(int(pos)),\n",
    "                        cv2.resize(frame, (W,H)),\n",
    "                        [int(cv2.IMWRITE_JPEG_QUALITY), 95])\n",
    "  \n",
    "            # Read the fall part\n",
    "            assert cap.get(cv2.CAP_PROP_POS_FRAMES) == start\n",
    "            while pos <= end:\n",
    "                ret, frame = cap.read()\n",
    "                pos += 1\n",
    "                output_path = (\n",
    "                    output_base_path +\n",
    "                    'chute{:02}/Falls/camera{}/'.format(\n",
    "                    s, cam\n",
    "                ))\n",
    "                if not os.path.exists(output_path):\n",
    "                    os.makedirs(output_path)\n",
    "                cv2.imwrite(output_path + 'img_{:05d}.jpg'.format(int(pos)),\n",
    "                        cv2.resize(frame, (W,H)),\n",
    "                        [int(cv2.IMWRITE_JPEG_QUALITY), 95])\n",
    "            # Read the post-fall part\n",
    "            assert cap.get(cv2.CAP_PROP_POS_FRAMES) == end + 1\n",
    "            while pos < length:\n",
    "                ret, frame = cap.read()\n",
    "                pos += 1\n",
    "                output_path = (\n",
    "                    output_base_path +\n",
    "                    'chute{:02}/NotFalls/camera{}_post/'.format(\n",
    "                    s, cam\n",
    "                ))\n",
    "                if not os.path.exists(output_path):\n",
    "                    os.makedirs(output_path)\n",
    "                cv2.imwrite(output_path + 'img_{:05d}.jpg'.format(int(pos)),\n",
    "                        cv2.resize(frame, (W,H)),\n",
    "                        [int(cv2.IMWRITE_JPEG_QUALITY), 95])\n",
    "        # If there was no fall\n",
    "        if len(starts) == 0 and len(ends) == 0:\n",
    "            pos = 0\n",
    "            while pos < length:\n",
    "                ret, frame = cap.read()\n",
    "                pos += 1\n",
    "                output_path = (\n",
    "                    output_base_path +\n",
    "                    'chute{:02}/NotFalls/camera{}_full/'.format(\n",
    "                    s, cam\n",
    "                ))\n",
    "                if not os.path.exists(output_path):\n",
    "                    os.makedirs(output_path)\n",
    "                cv2.imwrite(output_path + 'img_{:05d}.jpg'.format(int(pos)),\n",
    "                        cv2.resize(frame, (W,H)),\n",
    "                        [int(cv2.IMWRITE_JPEG_QUALITY), 95])"
   ]
  },
  {
   "cell_type": "code",
   "execution_count": 54,
   "metadata": {},
   "outputs": [
    {
     "name": "stdout",
     "output_type": "stream",
     "text": [
      "['/home/rasho/Falling-Person-Detection-based-On-AlphaPose/input/multicam_dataset/chute01/cam6.avi', '/home/rasho/Falling-Person-Detection-based-On-AlphaPose/input/multicam_dataset/chute01/cam1.avi', '/home/rasho/Falling-Person-Detection-based-On-AlphaPose/input/multicam_dataset/chute01/cam4.avi', '/home/rasho/Falling-Person-Detection-based-On-AlphaPose/input/multicam_dataset/chute01/cam2.avi', '/home/rasho/Falling-Person-Detection-based-On-AlphaPose/input/multicam_dataset/chute01/cam7.avi', '/home/rasho/Falling-Person-Detection-based-On-AlphaPose/input/multicam_dataset/chute01/cam5.avi', '/home/rasho/Falling-Person-Detection-based-On-AlphaPose/input/multicam_dataset/chute01/cam3.avi', '/home/rasho/Falling-Person-Detection-based-On-AlphaPose/input/multicam_dataset/chute01/cam8.avi']\n",
      "['/home/rasho/Falling-Person-Detection-based-On-AlphaPose/input/multicam_dataset/chute02/cam6.avi', '/home/rasho/Falling-Person-Detection-based-On-AlphaPose/input/multicam_dataset/chute02/cam1.avi', '/home/rasho/Falling-Person-Detection-based-On-AlphaPose/input/multicam_dataset/chute02/cam4.avi', '/home/rasho/Falling-Person-Detection-based-On-AlphaPose/input/multicam_dataset/chute02/cam2.avi', '/home/rasho/Falling-Person-Detection-based-On-AlphaPose/input/multicam_dataset/chute02/cam7.avi', '/home/rasho/Falling-Person-Detection-based-On-AlphaPose/input/multicam_dataset/chute02/cam5.avi', '/home/rasho/Falling-Person-Detection-based-On-AlphaPose/input/multicam_dataset/chute02/cam3.avi', '/home/rasho/Falling-Person-Detection-based-On-AlphaPose/input/multicam_dataset/chute02/cam8.avi']\n",
      "['/home/rasho/Falling-Person-Detection-based-On-AlphaPose/input/multicam_dataset/chute03/cam6.avi', '/home/rasho/Falling-Person-Detection-based-On-AlphaPose/input/multicam_dataset/chute03/cam1.avi', '/home/rasho/Falling-Person-Detection-based-On-AlphaPose/input/multicam_dataset/chute03/cam4.avi', '/home/rasho/Falling-Person-Detection-based-On-AlphaPose/input/multicam_dataset/chute03/cam2.avi', '/home/rasho/Falling-Person-Detection-based-On-AlphaPose/input/multicam_dataset/chute03/cam7.avi', '/home/rasho/Falling-Person-Detection-based-On-AlphaPose/input/multicam_dataset/chute03/cam5.avi', '/home/rasho/Falling-Person-Detection-based-On-AlphaPose/input/multicam_dataset/chute03/cam3.avi', '/home/rasho/Falling-Person-Detection-based-On-AlphaPose/input/multicam_dataset/chute03/cam8.avi']\n",
      "['/home/rasho/Falling-Person-Detection-based-On-AlphaPose/input/multicam_dataset/chute04/cam6.avi', '/home/rasho/Falling-Person-Detection-based-On-AlphaPose/input/multicam_dataset/chute04/cam1.avi', '/home/rasho/Falling-Person-Detection-based-On-AlphaPose/input/multicam_dataset/chute04/cam4.avi', '/home/rasho/Falling-Person-Detection-based-On-AlphaPose/input/multicam_dataset/chute04/cam2.avi', '/home/rasho/Falling-Person-Detection-based-On-AlphaPose/input/multicam_dataset/chute04/cam7.avi', '/home/rasho/Falling-Person-Detection-based-On-AlphaPose/input/multicam_dataset/chute04/cam5.avi', '/home/rasho/Falling-Person-Detection-based-On-AlphaPose/input/multicam_dataset/chute04/cam3.avi', '/home/rasho/Falling-Person-Detection-based-On-AlphaPose/input/multicam_dataset/chute04/cam8.avi']\n",
      "['/home/rasho/Falling-Person-Detection-based-On-AlphaPose/input/multicam_dataset/chute05/cam6.avi', '/home/rasho/Falling-Person-Detection-based-On-AlphaPose/input/multicam_dataset/chute05/cam1.avi', '/home/rasho/Falling-Person-Detection-based-On-AlphaPose/input/multicam_dataset/chute05/cam4.avi', '/home/rasho/Falling-Person-Detection-based-On-AlphaPose/input/multicam_dataset/chute05/cam2.avi', '/home/rasho/Falling-Person-Detection-based-On-AlphaPose/input/multicam_dataset/chute05/cam7.avi', '/home/rasho/Falling-Person-Detection-based-On-AlphaPose/input/multicam_dataset/chute05/cam5.avi', '/home/rasho/Falling-Person-Detection-based-On-AlphaPose/input/multicam_dataset/chute05/cam3.avi', '/home/rasho/Falling-Person-Detection-based-On-AlphaPose/input/multicam_dataset/chute05/cam8.avi']\n",
      "['/home/rasho/Falling-Person-Detection-based-On-AlphaPose/input/multicam_dataset/chute06/cam6.avi', '/home/rasho/Falling-Person-Detection-based-On-AlphaPose/input/multicam_dataset/chute06/cam1.avi', '/home/rasho/Falling-Person-Detection-based-On-AlphaPose/input/multicam_dataset/chute06/cam4.avi', '/home/rasho/Falling-Person-Detection-based-On-AlphaPose/input/multicam_dataset/chute06/cam2.avi', '/home/rasho/Falling-Person-Detection-based-On-AlphaPose/input/multicam_dataset/chute06/cam7.avi', '/home/rasho/Falling-Person-Detection-based-On-AlphaPose/input/multicam_dataset/chute06/cam5.avi', '/home/rasho/Falling-Person-Detection-based-On-AlphaPose/input/multicam_dataset/chute06/cam3.avi', '/home/rasho/Falling-Person-Detection-based-On-AlphaPose/input/multicam_dataset/chute06/cam8.avi']\n",
      "['/home/rasho/Falling-Person-Detection-based-On-AlphaPose/input/multicam_dataset/chute07/cam6.avi', '/home/rasho/Falling-Person-Detection-based-On-AlphaPose/input/multicam_dataset/chute07/cam1.avi', '/home/rasho/Falling-Person-Detection-based-On-AlphaPose/input/multicam_dataset/chute07/cam4.avi', '/home/rasho/Falling-Person-Detection-based-On-AlphaPose/input/multicam_dataset/chute07/cam2.avi', '/home/rasho/Falling-Person-Detection-based-On-AlphaPose/input/multicam_dataset/chute07/cam7.avi', '/home/rasho/Falling-Person-Detection-based-On-AlphaPose/input/multicam_dataset/chute07/cam5.avi', '/home/rasho/Falling-Person-Detection-based-On-AlphaPose/input/multicam_dataset/chute07/cam3.avi', '/home/rasho/Falling-Person-Detection-based-On-AlphaPose/input/multicam_dataset/chute07/cam8.avi']\n",
      "['/home/rasho/Falling-Person-Detection-based-On-AlphaPose/input/multicam_dataset/chute08/cam6.avi', '/home/rasho/Falling-Person-Detection-based-On-AlphaPose/input/multicam_dataset/chute08/cam1.avi', '/home/rasho/Falling-Person-Detection-based-On-AlphaPose/input/multicam_dataset/chute08/cam4.avi', '/home/rasho/Falling-Person-Detection-based-On-AlphaPose/input/multicam_dataset/chute08/cam2.avi', '/home/rasho/Falling-Person-Detection-based-On-AlphaPose/input/multicam_dataset/chute08/cam7.avi', '/home/rasho/Falling-Person-Detection-based-On-AlphaPose/input/multicam_dataset/chute08/cam5.avi', '/home/rasho/Falling-Person-Detection-based-On-AlphaPose/input/multicam_dataset/chute08/cam3.avi', '/home/rasho/Falling-Person-Detection-based-On-AlphaPose/input/multicam_dataset/chute08/cam8.avi']\n",
      "['/home/rasho/Falling-Person-Detection-based-On-AlphaPose/input/multicam_dataset/chute09/cam6.avi', '/home/rasho/Falling-Person-Detection-based-On-AlphaPose/input/multicam_dataset/chute09/cam1.avi', '/home/rasho/Falling-Person-Detection-based-On-AlphaPose/input/multicam_dataset/chute09/cam4.avi', '/home/rasho/Falling-Person-Detection-based-On-AlphaPose/input/multicam_dataset/chute09/cam2.avi', '/home/rasho/Falling-Person-Detection-based-On-AlphaPose/input/multicam_dataset/chute09/cam7.avi', '/home/rasho/Falling-Person-Detection-based-On-AlphaPose/input/multicam_dataset/chute09/cam5.avi', '/home/rasho/Falling-Person-Detection-based-On-AlphaPose/input/multicam_dataset/chute09/cam3.avi', '/home/rasho/Falling-Person-Detection-based-On-AlphaPose/input/multicam_dataset/chute09/cam8.avi']\n",
      "['/home/rasho/Falling-Person-Detection-based-On-AlphaPose/input/multicam_dataset/chute10/cam6.avi', '/home/rasho/Falling-Person-Detection-based-On-AlphaPose/input/multicam_dataset/chute10/cam1.avi', '/home/rasho/Falling-Person-Detection-based-On-AlphaPose/input/multicam_dataset/chute10/cam4.avi', '/home/rasho/Falling-Person-Detection-based-On-AlphaPose/input/multicam_dataset/chute10/cam2.avi', '/home/rasho/Falling-Person-Detection-based-On-AlphaPose/input/multicam_dataset/chute10/cam7.avi', '/home/rasho/Falling-Person-Detection-based-On-AlphaPose/input/multicam_dataset/chute10/cam5.avi', '/home/rasho/Falling-Person-Detection-based-On-AlphaPose/input/multicam_dataset/chute10/cam3.avi', '/home/rasho/Falling-Person-Detection-based-On-AlphaPose/input/multicam_dataset/chute10/cam8.avi']\n",
      "['/home/rasho/Falling-Person-Detection-based-On-AlphaPose/input/multicam_dataset/chute11/cam6.avi', '/home/rasho/Falling-Person-Detection-based-On-AlphaPose/input/multicam_dataset/chute11/cam1.avi', '/home/rasho/Falling-Person-Detection-based-On-AlphaPose/input/multicam_dataset/chute11/cam4.avi', '/home/rasho/Falling-Person-Detection-based-On-AlphaPose/input/multicam_dataset/chute11/cam2.avi', '/home/rasho/Falling-Person-Detection-based-On-AlphaPose/input/multicam_dataset/chute11/cam7.avi', '/home/rasho/Falling-Person-Detection-based-On-AlphaPose/input/multicam_dataset/chute11/cam5.avi', '/home/rasho/Falling-Person-Detection-based-On-AlphaPose/input/multicam_dataset/chute11/cam3.avi', '/home/rasho/Falling-Person-Detection-based-On-AlphaPose/input/multicam_dataset/chute11/cam8.avi']\n"
     ]
    },
    {
     "name": "stdout",
     "output_type": "stream",
     "text": [
      "['/home/rasho/Falling-Person-Detection-based-On-AlphaPose/input/multicam_dataset/chute12/cam6.avi', '/home/rasho/Falling-Person-Detection-based-On-AlphaPose/input/multicam_dataset/chute12/cam1.avi', '/home/rasho/Falling-Person-Detection-based-On-AlphaPose/input/multicam_dataset/chute12/cam4.avi', '/home/rasho/Falling-Person-Detection-based-On-AlphaPose/input/multicam_dataset/chute12/cam2.avi', '/home/rasho/Falling-Person-Detection-based-On-AlphaPose/input/multicam_dataset/chute12/cam7.avi', '/home/rasho/Falling-Person-Detection-based-On-AlphaPose/input/multicam_dataset/chute12/cam5.avi', '/home/rasho/Falling-Person-Detection-based-On-AlphaPose/input/multicam_dataset/chute12/cam3.avi', '/home/rasho/Falling-Person-Detection-based-On-AlphaPose/input/multicam_dataset/chute12/cam8.avi']\n",
      "['/home/rasho/Falling-Person-Detection-based-On-AlphaPose/input/multicam_dataset/chute13/cam6.avi', '/home/rasho/Falling-Person-Detection-based-On-AlphaPose/input/multicam_dataset/chute13/cam1.avi', '/home/rasho/Falling-Person-Detection-based-On-AlphaPose/input/multicam_dataset/chute13/cam4.avi', '/home/rasho/Falling-Person-Detection-based-On-AlphaPose/input/multicam_dataset/chute13/cam2.avi', '/home/rasho/Falling-Person-Detection-based-On-AlphaPose/input/multicam_dataset/chute13/cam7.avi', '/home/rasho/Falling-Person-Detection-based-On-AlphaPose/input/multicam_dataset/chute13/cam5.avi', '/home/rasho/Falling-Person-Detection-based-On-AlphaPose/input/multicam_dataset/chute13/cam3.avi', '/home/rasho/Falling-Person-Detection-based-On-AlphaPose/input/multicam_dataset/chute13/cam8.avi']\n",
      "['/home/rasho/Falling-Person-Detection-based-On-AlphaPose/input/multicam_dataset/chute14/cam6.avi', '/home/rasho/Falling-Person-Detection-based-On-AlphaPose/input/multicam_dataset/chute14/cam1.avi', '/home/rasho/Falling-Person-Detection-based-On-AlphaPose/input/multicam_dataset/chute14/cam4.avi', '/home/rasho/Falling-Person-Detection-based-On-AlphaPose/input/multicam_dataset/chute14/cam2.avi', '/home/rasho/Falling-Person-Detection-based-On-AlphaPose/input/multicam_dataset/chute14/cam7.avi', '/home/rasho/Falling-Person-Detection-based-On-AlphaPose/input/multicam_dataset/chute14/cam5.avi', '/home/rasho/Falling-Person-Detection-based-On-AlphaPose/input/multicam_dataset/chute14/cam3.avi', '/home/rasho/Falling-Person-Detection-based-On-AlphaPose/input/multicam_dataset/chute14/cam8.avi']\n",
      "['/home/rasho/Falling-Person-Detection-based-On-AlphaPose/input/multicam_dataset/chute15/cam6.avi', '/home/rasho/Falling-Person-Detection-based-On-AlphaPose/input/multicam_dataset/chute15/cam1.avi', '/home/rasho/Falling-Person-Detection-based-On-AlphaPose/input/multicam_dataset/chute15/cam4.avi', '/home/rasho/Falling-Person-Detection-based-On-AlphaPose/input/multicam_dataset/chute15/cam2.avi', '/home/rasho/Falling-Person-Detection-based-On-AlphaPose/input/multicam_dataset/chute15/cam7.avi', '/home/rasho/Falling-Person-Detection-based-On-AlphaPose/input/multicam_dataset/chute15/cam5.avi', '/home/rasho/Falling-Person-Detection-based-On-AlphaPose/input/multicam_dataset/chute15/cam3.avi', '/home/rasho/Falling-Person-Detection-based-On-AlphaPose/input/multicam_dataset/chute15/cam8.avi']\n",
      "['/home/rasho/Falling-Person-Detection-based-On-AlphaPose/input/multicam_dataset/chute16/cam6.avi', '/home/rasho/Falling-Person-Detection-based-On-AlphaPose/input/multicam_dataset/chute16/cam1.avi', '/home/rasho/Falling-Person-Detection-based-On-AlphaPose/input/multicam_dataset/chute16/cam4.avi', '/home/rasho/Falling-Person-Detection-based-On-AlphaPose/input/multicam_dataset/chute16/cam2.avi', '/home/rasho/Falling-Person-Detection-based-On-AlphaPose/input/multicam_dataset/chute16/cam7.avi', '/home/rasho/Falling-Person-Detection-based-On-AlphaPose/input/multicam_dataset/chute16/cam5.avi', '/home/rasho/Falling-Person-Detection-based-On-AlphaPose/input/multicam_dataset/chute16/cam3.avi', '/home/rasho/Falling-Person-Detection-based-On-AlphaPose/input/multicam_dataset/chute16/cam8.avi']\n",
      "['/home/rasho/Falling-Person-Detection-based-On-AlphaPose/input/multicam_dataset/chute17/cam6.avi', '/home/rasho/Falling-Person-Detection-based-On-AlphaPose/input/multicam_dataset/chute17/cam1.avi', '/home/rasho/Falling-Person-Detection-based-On-AlphaPose/input/multicam_dataset/chute17/cam4.avi', '/home/rasho/Falling-Person-Detection-based-On-AlphaPose/input/multicam_dataset/chute17/cam2.avi', '/home/rasho/Falling-Person-Detection-based-On-AlphaPose/input/multicam_dataset/chute17/cam7.avi', '/home/rasho/Falling-Person-Detection-based-On-AlphaPose/input/multicam_dataset/chute17/cam5.avi', '/home/rasho/Falling-Person-Detection-based-On-AlphaPose/input/multicam_dataset/chute17/cam3.avi', '/home/rasho/Falling-Person-Detection-based-On-AlphaPose/input/multicam_dataset/chute17/cam8.avi']\n",
      "['/home/rasho/Falling-Person-Detection-based-On-AlphaPose/input/multicam_dataset/chute18/cam6.avi', '/home/rasho/Falling-Person-Detection-based-On-AlphaPose/input/multicam_dataset/chute18/cam1.avi', '/home/rasho/Falling-Person-Detection-based-On-AlphaPose/input/multicam_dataset/chute18/cam4.avi', '/home/rasho/Falling-Person-Detection-based-On-AlphaPose/input/multicam_dataset/chute18/cam2.avi', '/home/rasho/Falling-Person-Detection-based-On-AlphaPose/input/multicam_dataset/chute18/cam7.avi', '/home/rasho/Falling-Person-Detection-based-On-AlphaPose/input/multicam_dataset/chute18/cam5.avi', '/home/rasho/Falling-Person-Detection-based-On-AlphaPose/input/multicam_dataset/chute18/cam3.avi', '/home/rasho/Falling-Person-Detection-based-On-AlphaPose/input/multicam_dataset/chute18/cam8.avi']\n",
      "['/home/rasho/Falling-Person-Detection-based-On-AlphaPose/input/multicam_dataset/chute19/cam6.avi', '/home/rasho/Falling-Person-Detection-based-On-AlphaPose/input/multicam_dataset/chute19/cam1.avi', '/home/rasho/Falling-Person-Detection-based-On-AlphaPose/input/multicam_dataset/chute19/cam4.avi', '/home/rasho/Falling-Person-Detection-based-On-AlphaPose/input/multicam_dataset/chute19/cam2.avi', '/home/rasho/Falling-Person-Detection-based-On-AlphaPose/input/multicam_dataset/chute19/cam7.avi', '/home/rasho/Falling-Person-Detection-based-On-AlphaPose/input/multicam_dataset/chute19/cam5.avi', '/home/rasho/Falling-Person-Detection-based-On-AlphaPose/input/multicam_dataset/chute19/cam3.avi', '/home/rasho/Falling-Person-Detection-based-On-AlphaPose/input/multicam_dataset/chute19/cam8.avi']\n",
      "['/home/rasho/Falling-Person-Detection-based-On-AlphaPose/input/multicam_dataset/chute20/cam6.avi', '/home/rasho/Falling-Person-Detection-based-On-AlphaPose/input/multicam_dataset/chute20/cam1.avi', '/home/rasho/Falling-Person-Detection-based-On-AlphaPose/input/multicam_dataset/chute20/cam4.avi', '/home/rasho/Falling-Person-Detection-based-On-AlphaPose/input/multicam_dataset/chute20/cam2.avi', '/home/rasho/Falling-Person-Detection-based-On-AlphaPose/input/multicam_dataset/chute20/cam7.avi', '/home/rasho/Falling-Person-Detection-based-On-AlphaPose/input/multicam_dataset/chute20/cam5.avi', '/home/rasho/Falling-Person-Detection-based-On-AlphaPose/input/multicam_dataset/chute20/cam3.avi', '/home/rasho/Falling-Person-Detection-based-On-AlphaPose/input/multicam_dataset/chute20/cam8.avi']\n",
      "['/home/rasho/Falling-Person-Detection-based-On-AlphaPose/input/multicam_dataset/chute21/cam6.avi', '/home/rasho/Falling-Person-Detection-based-On-AlphaPose/input/multicam_dataset/chute21/cam1.avi', '/home/rasho/Falling-Person-Detection-based-On-AlphaPose/input/multicam_dataset/chute21/cam4.avi', '/home/rasho/Falling-Person-Detection-based-On-AlphaPose/input/multicam_dataset/chute21/cam2.avi', '/home/rasho/Falling-Person-Detection-based-On-AlphaPose/input/multicam_dataset/chute21/cam7.avi', '/home/rasho/Falling-Person-Detection-based-On-AlphaPose/input/multicam_dataset/chute21/cam5.avi', '/home/rasho/Falling-Person-Detection-based-On-AlphaPose/input/multicam_dataset/chute21/cam3.avi', '/home/rasho/Falling-Person-Detection-based-On-AlphaPose/input/multicam_dataset/chute21/cam8.avi']\n",
      "['/home/rasho/Falling-Person-Detection-based-On-AlphaPose/input/multicam_dataset/chute22/cam6.avi', '/home/rasho/Falling-Person-Detection-based-On-AlphaPose/input/multicam_dataset/chute22/cam1.avi', '/home/rasho/Falling-Person-Detection-based-On-AlphaPose/input/multicam_dataset/chute22/cam4.avi', '/home/rasho/Falling-Person-Detection-based-On-AlphaPose/input/multicam_dataset/chute22/cam2.avi', '/home/rasho/Falling-Person-Detection-based-On-AlphaPose/input/multicam_dataset/chute22/cam7.avi', '/home/rasho/Falling-Person-Detection-based-On-AlphaPose/input/multicam_dataset/chute22/cam5.avi', '/home/rasho/Falling-Person-Detection-based-On-AlphaPose/input/multicam_dataset/chute22/cam3.avi', '/home/rasho/Falling-Person-Detection-based-On-AlphaPose/input/multicam_dataset/chute22/cam8.avi']\n"
     ]
    },
    {
     "name": "stdout",
     "output_type": "stream",
     "text": [
      "['/home/rasho/Falling-Person-Detection-based-On-AlphaPose/input/multicam_dataset/chute23/cam6.avi', '/home/rasho/Falling-Person-Detection-based-On-AlphaPose/input/multicam_dataset/chute23/cam1.avi', '/home/rasho/Falling-Person-Detection-based-On-AlphaPose/input/multicam_dataset/chute23/cam4.avi', '/home/rasho/Falling-Person-Detection-based-On-AlphaPose/input/multicam_dataset/chute23/cam2.avi', '/home/rasho/Falling-Person-Detection-based-On-AlphaPose/input/multicam_dataset/chute23/cam7.avi', '/home/rasho/Falling-Person-Detection-based-On-AlphaPose/input/multicam_dataset/chute23/cam5.avi', '/home/rasho/Falling-Person-Detection-based-On-AlphaPose/input/multicam_dataset/chute23/cam3.avi', '/home/rasho/Falling-Person-Detection-based-On-AlphaPose/input/multicam_dataset/chute23/cam8.avi']\n",
      "['/home/rasho/Falling-Person-Detection-based-On-AlphaPose/input/multicam_dataset/chute24/cam6.avi', '/home/rasho/Falling-Person-Detection-based-On-AlphaPose/input/multicam_dataset/chute24/cam1.avi', '/home/rasho/Falling-Person-Detection-based-On-AlphaPose/input/multicam_dataset/chute24/cam4.avi', '/home/rasho/Falling-Person-Detection-based-On-AlphaPose/input/multicam_dataset/chute24/cam2.avi', '/home/rasho/Falling-Person-Detection-based-On-AlphaPose/input/multicam_dataset/chute24/cam7.avi', '/home/rasho/Falling-Person-Detection-based-On-AlphaPose/input/multicam_dataset/chute24/cam5.avi', '/home/rasho/Falling-Person-Detection-based-On-AlphaPose/input/multicam_dataset/chute24/cam3.avi', '/home/rasho/Falling-Person-Detection-based-On-AlphaPose/input/multicam_dataset/chute24/cam8.avi']\n"
     ]
    }
   ],
   "source": [
    "# For each scenario\n",
    "for s in range(1,num_scenarios+1):\n",
    "    # Get all videos (one per camera)\n",
    "    videos = glob.glob(multicam + '/chute{:02}/*'.format(s))\n",
    "    print(videos)\n",
    "    videos.sort()\n",
    "    starts = annotations['scenario{}'.format(s)]['start']\n",
    "    ends = annotations['scenario{}'.format(s)]['end']\n",
    "    index = 0\n",
    "    for cam, video in enumerate(videos, 1):\n",
    "        cap = cv2.VideoCapture(video)\n",
    "        length = int(cap.get(cv2.CAP_PROP_FRAME_COUNT))\n",
    "        # Delay of this camara for this scenario\n",
    "        delay = delays['camera{}'.format(cam)][str(s)]\n",
    "        for start, end in zip(starts, ends):\n",
    "            # Apply the delay\n",
    "            start += delay\n",
    "            end += delay\n",
    "            cap.set(cv2.CAP_PROP_POS_FRAMES, 0)\n",
    "\n",
    "            # Read the pre-fall part\n",
    "            pos = 0\n",
    "            while pos < start:\n",
    "                ret, frame = cap.read()\n",
    "                pos += 1\n",
    "                index +=1\n",
    "                output_path = (output_base_path +'/NotFalls/')\n",
    "                if not os.path.exists(output_path):\n",
    "                    os.makedirs(output_path)\n",
    "                cv2.imwrite(output_path + 'img_{:05d}.jpg'.format(int(index)),\n",
    "                        cv2.resize(frame, (W,H)),\n",
    "                        [int(cv2.IMWRITE_JPEG_QUALITY), 95])\n",
    "  \n",
    "            # Read the fall part\n",
    "            assert cap.get(cv2.CAP_PROP_POS_FRAMES) == start\n",
    "            while pos <= end:\n",
    "                ret, frame = cap.read()\n",
    "                pos += 1\n",
    "                index +=1\n",
    "                output_path = (output_base_path+'/Falls/')\n",
    "                if not os.path.exists(output_path):\n",
    "                    os.makedirs(output_path)\n",
    "                cv2.imwrite(output_path + 'img_{:05d}.jpg'.format(int(index)),\n",
    "                        cv2.resize(frame, (W,H)),\n",
    "                        [int(cv2.IMWRITE_JPEG_QUALITY), 95])\n",
    "            # Read the post-fall part\n",
    "            assert cap.get(cv2.CAP_PROP_POS_FRAMES) == end + 1\n",
    "            while pos < length:\n",
    "                ret, frame = cap.read()\n",
    "                pos += 1\n",
    "                index +=1\n",
    "                output_path = (\n",
    "                    output_base_path +'/NotFalls/')\n",
    "                if not os.path.exists(output_path):\n",
    "                    os.makedirs(output_path)\n",
    "                cv2.imwrite(output_path + 'img_{:05d}.jpg'.format(int(index)),\n",
    "                        cv2.resize(frame, (W,H)),\n",
    "                        [int(cv2.IMWRITE_JPEG_QUALITY), 95])\n",
    "        # If there was no fall\n",
    "        if len(starts) == 0 and len(ends) == 0:\n",
    "            pos = 0\n",
    "            index +=1\n",
    "            while pos < length:\n",
    "                ret, frame = cap.read()\n",
    "                pos += 1\n",
    "                index +=1\n",
    "                output_path = (output_base_path +'/NotFalls/')\n",
    "                if not os.path.exists(output_path):\n",
    "                    os.makedirs(output_path)\n",
    "                cv2.imwrite(output_path + 'img_{:05d}.jpg'.format(int(index)),\n",
    "                        cv2.resize(frame, (W,H)),\n",
    "                        [int(cv2.IMWRITE_JPEG_QUALITY), 95])"
   ]
  },
  {
   "cell_type": "code",
   "execution_count": null,
   "metadata": {},
   "outputs": [],
   "source": []
  },
  {
   "cell_type": "code",
   "execution_count": null,
   "metadata": {},
   "outputs": [],
   "source": []
  },
  {
   "cell_type": "code",
   "execution_count": null,
   "metadata": {},
   "outputs": [],
   "source": []
  },
  {
   "cell_type": "code",
   "execution_count": null,
   "metadata": {},
   "outputs": [],
   "source": []
  },
  {
   "cell_type": "code",
   "execution_count": null,
   "metadata": {},
   "outputs": [],
   "source": []
  },
  {
   "cell_type": "code",
   "execution_count": null,
   "metadata": {},
   "outputs": [],
   "source": []
  },
  {
   "cell_type": "code",
   "execution_count": null,
   "metadata": {},
   "outputs": [],
   "source": []
  },
  {
   "cell_type": "code",
   "execution_count": null,
   "metadata": {},
   "outputs": [],
   "source": []
  },
  {
   "cell_type": "code",
   "execution_count": null,
   "metadata": {},
   "outputs": [],
   "source": []
  },
  {
   "cell_type": "code",
   "execution_count": null,
   "metadata": {},
   "outputs": [],
   "source": []
  },
  {
   "cell_type": "code",
   "execution_count": null,
   "metadata": {},
   "outputs": [],
   "source": []
  },
  {
   "cell_type": "code",
   "execution_count": null,
   "metadata": {},
   "outputs": [],
   "source": []
  },
  {
   "cell_type": "code",
   "execution_count": null,
   "metadata": {},
   "outputs": [],
   "source": []
  }
 ],
 "metadata": {
  "kernelspec": {
   "display_name": "Python [conda env:alphapose] *",
   "language": "python",
   "name": "conda-env-alphapose-py"
  },
  "language_info": {
   "codemirror_mode": {
    "name": "ipython",
    "version": 3
   },
   "file_extension": ".py",
   "mimetype": "text/x-python",
   "name": "python",
   "nbconvert_exporter": "python",
   "pygments_lexer": "ipython3",
   "version": "3.6.12"
  }
 },
 "nbformat": 4,
 "nbformat_minor": 4
}
