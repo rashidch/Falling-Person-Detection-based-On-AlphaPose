{
 "cells": [
  {
   "cell_type": "code",
   "execution_count": 1,
   "id": "001829c4",
   "metadata": {},
   "outputs": [],
   "source": [
    "\"\"\"\n",
    "Purposes of this code is to create pickle label for every video inside ../examples/demo/test/\n",
    "\"\"\"\n",
    "\n",
    "import glob\n",
    "import pickle\n",
    "\n"
   ]
  },
  {
   "cell_type": "code",
   "execution_count": 2,
   "id": "ecfcc0c7",
   "metadata": {},
   "outputs": [],
   "source": [
    "files=glob.glob(\"../examples/demo/test/*/*/*.jpg\")"
   ]
  },
  {
   "cell_type": "code",
   "execution_count": 3,
   "id": "021c1f65",
   "metadata": {},
   "outputs": [
    {
     "name": "stdout",
     "output_type": "stream",
     "text": [
      "1\n",
      "Dict saved and cleaned, now tmp is:  12_Merge\n",
      "12_Merge\n",
      "Dict saved and cleaned, now tmp is:  2\n",
      "2\n",
      "Dict saved and cleaned, now tmp is:  3\n",
      "3\n",
      "Dict saved and cleaned, now tmp is:  34_Merge\n",
      "34_Merge\n",
      "Dict saved and cleaned, now tmp is:  4\n",
      "4\n",
      "Dict saved and cleaned, now tmp is:  5\n",
      "5\n",
      "Dict saved and cleaned, now tmp is:  56_Merge\n",
      "56_Merge\n",
      "Dict saved and cleaned, now tmp is:  6\n",
      "6\n",
      "All dict saved\n"
     ]
    }
   ],
   "source": [
    "dictionary={}\n",
    "tmp=None\n",
    "for a in files:\n",
    "    files_summary=a.split(\"test\")[1].split(\"\\\\\")\n",
    "    dictfile_name=files_summary[1]\n",
    "    frame_name=files_summary[3].split(\".\")[0]\n",
    "    label=files_summary[2]\n",
    "    \n",
    "    if(tmp==dictfile_name):\n",
    "        dictionary[frame_name]=label\n",
    "    elif(tmp==None):\n",
    "        tmp=dictfile_name\n",
    "        dictionary[frame_name]=label\n",
    "    else:\n",
    "        with open(tmp+'.pickle', 'wb') as handle:\n",
    "            pickle.dump(dictionary, handle, protocol=pickle.HIGHEST_PROTOCOL)\n",
    "        dictionary={}\n",
    "        dictionary[frame_name]=label\n",
    "        print(tmp)\n",
    "        tmp=dictfile_name\n",
    "        print(\"Dict saved and cleaned, now tmp is: \",tmp)\n",
    "        \n",
    "print(tmp)\n",
    "with open(tmp+'.pickle', 'wb') as handle:\n",
    "    pickle.dump(dictionary, handle, protocol=pickle.HIGHEST_PROTOCOL)\n",
    "dictionary={}\n",
    "print(\"All dict saved\")\n"
   ]
  },
  {
   "cell_type": "code",
   "execution_count": 4,
   "id": "439f3471",
   "metadata": {},
   "outputs": [],
   "source": [
    "with open('12_Merge.pickle', 'rb') as handle:\n",
    "    b = pickle.load(handle)"
   ]
  },
  {
   "cell_type": "code",
   "execution_count": 5,
   "id": "ccdceb4c",
   "metadata": {},
   "outputs": [
    {
     "data": {
      "text/plain": [
       "4444"
      ]
     },
     "execution_count": 5,
     "metadata": {},
     "output_type": "execute_result"
    }
   ],
   "source": [
    "len(b)"
   ]
  },
  {
   "cell_type": "code",
   "execution_count": 9,
   "id": "2e26c108",
   "metadata": {},
   "outputs": [
    {
     "data": {
      "text/plain": [
       "'Fall'"
      ]
     },
     "execution_count": 9,
     "metadata": {},
     "output_type": "execute_result"
    }
   ],
   "source": [
    "b['02396']"
   ]
  },
  {
   "cell_type": "code",
   "execution_count": null,
   "id": "100e3768",
   "metadata": {},
   "outputs": [],
   "source": []
  },
  {
   "cell_type": "code",
   "execution_count": null,
   "id": "4d300c2d",
   "metadata": {},
   "outputs": [],
   "source": []
  }
 ],
 "metadata": {
  "kernelspec": {
   "display_name": "Python 3",
   "language": "python",
   "name": "python3"
  },
  "language_info": {
   "codemirror_mode": {
    "name": "ipython",
    "version": 3
   },
   "file_extension": ".py",
   "mimetype": "text/x-python",
   "name": "python",
   "nbconvert_exporter": "python",
   "pygments_lexer": "ipython3",
   "version": "3.7.10"
  }
 },
 "nbformat": 4,
 "nbformat_minor": 5
}
