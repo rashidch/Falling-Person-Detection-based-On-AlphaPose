{
 "cells": [
  {
   "cell_type": "code",
   "execution_count": 1,
   "metadata": {},
   "outputs": [],
   "source": [
    "# DATA_PATH = 'data/hdmb'\n",
    "DATA_PATH = ['data',]\n",
    "### csv must be  id|xxx|xxx|nose|LEye.......\n",
    "\n",
    "\n",
    "alphaI2W = [ \"nose\",\"LEye\",\"REye\",\"LEar\",\"REar\",\"LShoulder\",\"RShoulder\", \"LElbow\",\"RElbow\",\\\n",
    "\"LWrist\", \"RWrist\",\"LHip\",\"RHip\", \"LKnee\",\"Rknee\", \"LAnkle\",\"RAnkle\"]\n",
    "\n",
    "# tagI2W = [\"jump\",\"run\",\"sit\",\"stand\",\"walk\"] # 5\n",
    "tagI2W = [\"FallingDown\",\"Standing\"] # 9\n",
    "tagW2I = {w:i for i,w in enumerate(tagI2W)}"
   ]
  },
  {
   "cell_type": "code",
   "execution_count": 2,
   "metadata": {},
   "outputs": [
    {
     "data": {
      "text/plain": [
       "<torch._C.Generator at 0x7fddf56ec7b0>"
      ]
     },
     "execution_count": 2,
     "metadata": {},
     "output_type": "execute_result"
    }
   ],
   "source": [
    "import os\n",
    "import pandas as pd \n",
    "import numpy as np\n",
    "import sys\n",
    "\n",
    "import torch\n",
    "import torch.nn as nn\n",
    "import torch.nn.functional as F\n",
    "import torch.optim as optim\n",
    "from torch.utils.data import DataLoader\n",
    "\n",
    "parpath = os.path.dirname(os.getcwd())\n",
    "sys.path.append(parpath)\n",
    "\n",
    "torch.manual_seed(42)"
   ]
  },
  {
   "cell_type": "code",
   "execution_count": 3,
   "metadata": {},
   "outputs": [],
   "source": [
    "N_EPOCHS = 1000\n",
    "BATCH_SIZE = 32\n",
    "SHUFFLE = True\n",
    "INPUT_DIM = 34\n",
    "CLASS_NUM = len(tagI2W)\n",
    "# device = 'cpu'\n",
    "device = torch.device(\"cuda\" if torch.cuda.is_available() else \"cpu\")"
   ]
  },
  {
   "cell_type": "code",
   "execution_count": 4,
   "metadata": {},
   "outputs": [
    {
     "data": {
      "text/plain": [
       "FcLstm(\n",
       "  (fc1): Linear(in_features=34, out_features=64, bias=True)\n",
       "  (fc2): Linear(in_features=128, out_features=64, bias=True)\n",
       "  (lstm): LSTM(64, 64, batch_first=True)\n",
       "  (fc3): Linear(in_features=64, out_features=16, bias=True)\n",
       "  (fc4): Linear(in_features=16, out_features=2, bias=True)\n",
       ")"
      ]
     },
     "execution_count": 4,
     "metadata": {},
     "output_type": "execute_result"
    }
   ],
   "source": [
    "from actRec.models import FcLstm\n",
    "model = FcLstm(INPUT_DIM,CLASS_NUM,initrange=1.5).to(device)\n",
    "criterion = nn.CrossEntropyLoss().to(device)\n",
    "# model.double()\n",
    "# model.cuda()\n",
    "model"
   ]
  },
  {
   "cell_type": "code",
   "execution_count": 5,
   "metadata": {},
   "outputs": [],
   "source": [
    "from dataset import SeqDataset\n",
    "from actRec.F import normalize_min_\n",
    "class PoseActDataFromCsvDir():\n",
    "    def __init__(self, csvdirpaths,use_large=True):\n",
    "        data  = []\n",
    "        label = []\n",
    "        for csv_dir_path in csvdirpaths:\n",
    "            csvlist = os.listdir(csv_dir_path)\n",
    "            for fname in csvlist:\n",
    "                if(os.path.isdir(fname)):continue\n",
    "                if(os.path.splitext(fname)[1] != '.csv'):continue\n",
    "                    \n",
    "                csvf = os.path.join(csv_dir_path,fname)\n",
    "                df = pd.read_csv(csvf)\n",
    "                features = df.iloc[:,4:].values\n",
    "                pose_class = df['pos_class'].values\n",
    "                normalize_min_(features)\n",
    "                \n",
    "                for feats, lbs in zip(features, pose_class):\n",
    "                    data.append(feats)\n",
    "                    label.append(tagW2I[lbs])\n",
    "\n",
    "        self.dataset = np.array(data)\n",
    "        self.labels  = np.array(label)\n",
    "\n",
    "    def __len__(self):\n",
    "        return len(self.dataset)\n",
    "    \n",
    "    def split(self,test_size=0.2, random_state=42):\n",
    "        X_train, X_test, Y_train, Y_test = train_test_split(self.dataset, self.labels, test_size=test_size, random_state=random_state)\n",
    "        return SeqDataset(X_train,Y_train),SeqDataset(X_test,Y_test)"
   ]
  },
  {
   "cell_type": "code",
   "execution_count": 6,
   "metadata": {},
   "outputs": [
    {
     "data": {
      "text/plain": [
       "18189"
      ]
     },
     "execution_count": 6,
     "metadata": {},
     "output_type": "execute_result"
    }
   ],
   "source": [
    "# from torch_inspect import summary\n",
    "# summary(model,[(1,7,34),(1)])\n",
    "PoseActDataFromCsvDir(DATA_PATH,True).__len__()"
   ]
  },
  {
   "cell_type": "code",
   "execution_count": 7,
   "metadata": {},
   "outputs": [],
   "source": [
    "from sklearn.model_selection import train_test_split\n",
    "train_data,test_data = PoseActDataFromCsvDir(DATA_PATH,True).split()"
   ]
  },
  {
   "cell_type": "code",
   "execution_count": 8,
   "metadata": {},
   "outputs": [
    {
     "data": {
      "text/plain": [
       "(14551, 3638)"
      ]
     },
     "execution_count": 8,
     "metadata": {},
     "output_type": "execute_result"
    }
   ],
   "source": [
    "len(train_data), len(test_data)"
   ]
  },
  {
   "cell_type": "code",
   "execution_count": 9,
   "metadata": {},
   "outputs": [
    {
     "data": {
      "text/plain": [
       "{'data': tensor([0.9643, 0.4085, 0.9643, 0.3944, 0.9286, 0.3944, 0.8929, 0.1690, 0.7321,\n",
       "         0.3521, 0.8571, 0.0845, 0.5893, 0.4085, 0.9107, 0.0000, 0.8750, 0.6761,\n",
       "         1.0000, 0.4225, 0.9821, 0.5634, 0.5893, 0.5070, 0.3750, 0.5634, 0.7500,\n",
       "         0.8310, 0.4643, 1.0000, 0.2500, 0.6620, 0.0000, 0.8310]),\n",
       " 'label': 0}"
      ]
     },
     "execution_count": 9,
     "metadata": {},
     "output_type": "execute_result"
    }
   ],
   "source": [
    "train_data[0]"
   ]
  },
  {
   "cell_type": "code",
   "execution_count": 10,
   "metadata": {},
   "outputs": [],
   "source": [
    "train_loader = DataLoader(train_data, batch_size=BATCH_SIZE,collate_fn=SeqDataset.collate_fn_pad,shuffle=SHUFFLE)\n",
    "test_loader  = DataLoader(test_data, batch_size=BATCH_SIZE,collate_fn=SeqDataset.collate_fn_pad,shuffle=SHUFFLE)"
   ]
  },
  {
   "cell_type": "code",
   "execution_count": 11,
   "metadata": {},
   "outputs": [],
   "source": [
    "def model_eval(batch):\n",
    "    label_ = torch.LongTensor(batch['label']).to(device)\n",
    "    input_= batch['data'][0].to(device)\n",
    "    len_ = batch['data'][1].to(device)\n",
    "    print(len(len_),len(input_))\n",
    "    \n",
    "    hc_ = (torch.randn(1,BATCH_SIZE,32).to(device),\n",
    "          torch.randn(1,BATCH_SIZE,32).to(device))#LSTM out\n",
    "    print(hc_[0].shape, hc_[1].shape)\n",
    "    out,_hc = model(input_,len_,hc_) # data,datalen\n",
    "    out = out.view(-1,9)\n",
    "    loss = criterion(out, label_)\n",
    "    \n",
    "    batch_acc = (out.argmax(1) == label_).sum().item()\n",
    "    return loss,batch_acc"
   ]
  },
  {
   "cell_type": "code",
   "execution_count": 12,
   "metadata": {},
   "outputs": [],
   "source": [
    "# optimizer = optim.SGD(model.parameters(), lr=0.05)\n",
    "optimizer = optim.Adadelta(model.parameters())\n",
    "scheduler = optim.lr_scheduler.StepLR(optimizer, 100, gamma=0.4)"
   ]
  },
  {
   "cell_type": "code",
   "execution_count": 13,
   "metadata": {
    "scrolled": true
   },
   "outputs": [],
   "source": [
    "import procession as pc\n",
    "import time\n",
    "_epoch = -1\n",
    "\n",
    "t = time.localtime(time.time())\n",
    "timestr = '%d-%d-%d_%d-%d'%(t[0],t[1],t[2],t[3],t[4])\n",
    "savepath = 'model/act_fcLstm%d_'%len(tagI2W)\n",
    "savepath +=timestr\n",
    "\n",
    "os.chdir(parpath)\n",
    "if not os.path.exists(savepath):\n",
    "    os.makedirs(savepath)"
   ]
  },
  {
   "cell_type": "code",
   "execution_count": 14,
   "metadata": {
    "scrolled": false
   },
   "outputs": [
    {
     "name": "stderr",
     "output_type": "stream",
     "text": [
      "2020-12-25 20:45:17.998 | ERROR    | __main__:<module>:7 - An error has been caught in function '<module>', process 'MainProcess' (80182), thread 'MainThread' (140591315527488):\n",
      "Traceback (most recent call last):\n",
      "\n",
      "  File \"/home/rasho/anaconda3/envs/alphapose/lib/python3.6/runpy.py\", line 193, in _run_module_as_main\n",
      "    \"__main__\", mod_spec)\n",
      "                └ ModuleSpec(name='ipykernel_launcher', loader=<_frozen_importlib_external.SourceFileLoader object at 0x7fddf6f29c18>, origin='...\n",
      "  File \"/home/rasho/anaconda3/envs/alphapose/lib/python3.6/runpy.py\", line 85, in _run_code\n",
      "    exec(code, run_globals)\n",
      "         │     └ {'__name__': '__main__', '__doc__': 'Entry point for launching an IPython kernel.\\n\\nThis is separate from the ipykernel pack...\n",
      "         └ <code object <module> at 0x7fddf6f93db0, file \"/home/rasho/anaconda3/envs/alphapose/lib/python3.6/site-packages/ipykernel_lau...\n",
      "  File \"/home/rasho/anaconda3/envs/alphapose/lib/python3.6/site-packages/ipykernel_launcher.py\", line 16, in <module>\n",
      "    app.launch_new_instance()\n",
      "    │   └ <bound method Application.launch_instance of <class 'ipykernel.kernelapp.IPKernelApp'>>\n",
      "    └ <module 'ipykernel.kernelapp' from '/home/rasho/anaconda3/envs/alphapose/lib/python3.6/site-packages/ipykernel/kernelapp.py'>\n",
      "  File \"/home/rasho/anaconda3/envs/alphapose/lib/python3.6/site-packages/traitlets/config/application.py\", line 664, in launch_instance\n",
      "    app.start()\n",
      "    │   └ <function IPKernelApp.start at 0x7fddf2fdaae8>\n",
      "    └ <ipykernel.kernelapp.IPKernelApp object at 0x7fddf703e860>\n",
      "  File \"/home/rasho/anaconda3/envs/alphapose/lib/python3.6/site-packages/ipykernel/kernelapp.py\", line 612, in start\n",
      "    self.io_loop.start()\n",
      "    │    │       └ <function BaseAsyncIOLoop.start at 0x7fddf310b7b8>\n",
      "    │    └ <tornado.platform.asyncio.AsyncIOMainLoop object at 0x7fddf2ff2cc0>\n",
      "    └ <ipykernel.kernelapp.IPKernelApp object at 0x7fddf703e860>\n",
      "  File \"/home/rasho/.local/lib/python3.6/site-packages/tornado-6.1-py3.6-linux-x86_64.egg/tornado/platform/asyncio.py\", line 199, in start\n",
      "    self.asyncio_loop.run_forever()\n",
      "    │    │            └ <function BaseEventLoop.run_forever at 0x7fddf60be598>\n",
      "    │    └ <_UnixSelectorEventLoop running=True closed=False debug=False>\n",
      "    └ <tornado.platform.asyncio.AsyncIOMainLoop object at 0x7fddf2ff2cc0>\n",
      "  File \"/home/rasho/anaconda3/envs/alphapose/lib/python3.6/asyncio/base_events.py\", line 442, in run_forever\n",
      "    self._run_once()\n",
      "    │    └ <function BaseEventLoop._run_once at 0x7fddf60bfa60>\n",
      "    └ <_UnixSelectorEventLoop running=True closed=False debug=False>\n",
      "  File \"/home/rasho/anaconda3/envs/alphapose/lib/python3.6/asyncio/base_events.py\", line 1462, in _run_once\n",
      "    handle._run()\n",
      "    │      └ <function Handle._run at 0x7fddf6090950>\n",
      "    └ <Handle IOLoop.add_future.<locals>.<lambda>(<Future finished result=None>) at /home/rasho/.local/lib/python3.6/site-packages/...\n",
      "  File \"/home/rasho/anaconda3/envs/alphapose/lib/python3.6/asyncio/events.py\", line 145, in _run\n",
      "    self._callback(*self._args)\n",
      "    │    │          │    └ <member '_args' of 'Handle' objects>\n",
      "    │    │          └ <Handle IOLoop.add_future.<locals>.<lambda>(<Future finished result=None>) at /home/rasho/.local/lib/python3.6/site-packages/...\n",
      "    │    └ <member '_callback' of 'Handle' objects>\n",
      "    └ <Handle IOLoop.add_future.<locals>.<lambda>(<Future finished result=None>) at /home/rasho/.local/lib/python3.6/site-packages/...\n",
      "  File \"/home/rasho/.local/lib/python3.6/site-packages/tornado-6.1-py3.6-linux-x86_64.egg/tornado/ioloop.py\", line 688, in <lambda>\n",
      "    lambda f: self._run_callback(functools.partial(callback, future))\n",
      "           │  │    │             │         │       │         └ <Future finished result=None>\n",
      "           │  │    │             │         │       └ <function Runner.handle_yield.<locals>.inner at 0x7fdd0b1190d0>\n",
      "           │  │    │             │         └ <class 'functools.partial'>\n",
      "           │  │    │             └ <module 'functools' from '/home/rasho/anaconda3/envs/alphapose/lib/python3.6/functools.py'>\n",
      "           │  │    └ <function IOLoop._run_callback at 0x7fddf34061e0>\n",
      "           │  └ <tornado.platform.asyncio.AsyncIOMainLoop object at 0x7fddf2ff2cc0>\n",
      "           └ <Future finished result=None>\n",
      "  File \"/home/rasho/.local/lib/python3.6/site-packages/tornado-6.1-py3.6-linux-x86_64.egg/tornado/ioloop.py\", line 741, in _run_callback\n",
      "    ret = callback()\n",
      "          └ functools.partial(<function Runner.handle_yield.<locals>.inner at 0x7fdd0b1190d0>, <Future finished result=None>)\n",
      "  File \"/home/rasho/.local/lib/python3.6/site-packages/tornado-6.1-py3.6-linux-x86_64.egg/tornado/gen.py\", line 814, in inner\n",
      "    self.ctx_run(self.run)\n",
      "    │    │       │    └ <function Runner.run at 0x7fddf3416f28>\n",
      "    │    │       └ <tornado.gen.Runner object at 0x7fddf076e9b0>\n",
      "    │    └ <bound method Context.run of <contextvars.Context object at 0x7fddf076ecc0>>\n",
      "    └ <tornado.gen.Runner object at 0x7fddf076e9b0>\n",
      "  File \"/home/rasho/anaconda3/envs/alphapose/lib/python3.6/site-packages/contextvars/__init__.py\", line 38, in run\n",
      "    return callable(*args, **kwargs)\n",
      "           │         │       └ {}\n",
      "           │         └ ()\n",
      "           └ <bound method Runner.run of <tornado.gen.Runner object at 0x7fddf076e9b0>>\n",
      "  File \"/home/rasho/.local/lib/python3.6/site-packages/tornado-6.1-py3.6-linux-x86_64.egg/tornado/gen.py\", line 775, in run\n",
      "    yielded = self.gen.send(value)\n",
      "              │    │   │    └ None\n",
      "              │    │   └ <method 'send' of 'generator' objects>\n",
      "              │    └ <generator object dispatch_queue at 0x7fddf07090a0>\n",
      "              └ <tornado.gen.Runner object at 0x7fddf076e9b0>\n",
      "  File \"/home/rasho/anaconda3/envs/alphapose/lib/python3.6/site-packages/ipykernel/kernelbase.py\", line 381, in dispatch_queue\n",
      "    yield self.process_one()\n",
      "          │    └ <function Kernel.process_one at 0x7fddf3026ae8>\n",
      "          └ <ipykernel.ipkernel.IPythonKernel object at 0x7fddf2ff2908>\n",
      "  File \"/home/rasho/.local/lib/python3.6/site-packages/tornado-6.1-py3.6-linux-x86_64.egg/tornado/gen.py\", line 250, in wrapper\n",
      "    runner = Runner(ctx_run, result, future, yielded)\n",
      "             │      │        │       │       └ <Future finished result=(10, 16, <bound method...7fddf2ff2908>>, (<zmq.eventloo...x7fddf2fd8cf8>, [<zmq.sugar.fr...x7fdd0b11a...\n",
      "             │      │        │       └ <Future pending>\n",
      "             │      │        └ <generator object process_one at 0x7fdd0b173ca8>\n",
      "             │      └ <bound method Context.run of <contextvars.Context object at 0x7fdd6605b438>>\n",
      "             └ <class 'tornado.gen.Runner'>\n",
      "  File \"/home/rasho/.local/lib/python3.6/site-packages/tornado-6.1-py3.6-linux-x86_64.egg/tornado/gen.py\", line 741, in __init__\n",
      "    self.ctx_run(self.run)\n",
      "    │    │       │    └ <function Runner.run at 0x7fddf3416f28>\n",
      "    │    │       └ <tornado.gen.Runner object at 0x7fddf07019e8>\n",
      "    │    └ <bound method Context.run of <contextvars.Context object at 0x7fdd6605b438>>\n",
      "    └ <tornado.gen.Runner object at 0x7fddf07019e8>\n",
      "  File \"/home/rasho/anaconda3/envs/alphapose/lib/python3.6/site-packages/contextvars/__init__.py\", line 38, in run\n",
      "    return callable(*args, **kwargs)\n",
      "           │         │       └ {}\n",
      "           │         └ ()\n",
      "           └ <bound method Runner.run of <tornado.gen.Runner object at 0x7fddf07019e8>>\n",
      "  File \"/home/rasho/.local/lib/python3.6/site-packages/tornado-6.1-py3.6-linux-x86_64.egg/tornado/gen.py\", line 775, in run\n",
      "    yielded = self.gen.send(value)\n",
      "              │    │   │    └ (10, 16, <bound method Kernel.dispatch_shell of <ipykernel.ipkernel.IPythonKernel object at 0x7fddf2ff2908>>, (<zmq.eventloop...\n",
      "              │    │   └ <method 'send' of 'generator' objects>\n",
      "              │    └ <generator object process_one at 0x7fdd0b173ca8>\n",
      "              └ <tornado.gen.Runner object at 0x7fddf07019e8>\n",
      "  File \"/home/rasho/anaconda3/envs/alphapose/lib/python3.6/site-packages/ipykernel/kernelbase.py\", line 365, in process_one\n",
      "    yield gen.maybe_future(dispatch(*args))\n",
      "          │   │            │         └ (<zmq.eventloop.zmqstream.ZMQStream object at 0x7fddf2fd8cf8>, [<zmq.sugar.frame.Frame object at 0x7fdd0b11aa58>, <zmq.sugar....\n",
      "          │   │            └ <bound method Kernel.dispatch_shell of <ipykernel.ipkernel.IPythonKernel object at 0x7fddf2ff2908>>\n",
      "          │   └ <function maybe_future at 0x7fddf3416b70>\n",
      "          └ <module 'tornado.gen' from '/home/rasho/.local/lib/python3.6/site-packages/tornado-6.1-py3.6-linux-x86_64.egg/tornado/gen.py'>\n",
      "  File \"/home/rasho/.local/lib/python3.6/site-packages/tornado-6.1-py3.6-linux-x86_64.egg/tornado/gen.py\", line 234, in wrapper\n",
      "    yielded = ctx_run(next, result)\n",
      "              │             └ <generator object dispatch_shell at 0x7fdd0b173e08>\n",
      "              └ <bound method Context.run of <contextvars.Context object at 0x7fddf07017b8>>\n",
      "  File \"/home/rasho/anaconda3/envs/alphapose/lib/python3.6/site-packages/contextvars/__init__.py\", line 38, in run\n",
      "    return callable(*args, **kwargs)\n",
      "           │         │       └ {}\n",
      "           │         └ (<generator object dispatch_shell at 0x7fdd0b173e08>,)\n",
      "           └ <built-in function next>\n",
      "  File \"/home/rasho/anaconda3/envs/alphapose/lib/python3.6/site-packages/ipykernel/kernelbase.py\", line 268, in dispatch_shell\n",
      "    yield gen.maybe_future(handler(stream, idents, msg))\n",
      "          │   │            │       │       │       └ {'header': {'msg_id': '2363c480a29649ea828210cb65a19678', 'username': 'username', 'session': '74d6493090fe41d1864295b2a88af43...\n",
      "          │   │            │       │       └ [b'74d6493090fe41d1864295b2a88af435']\n",
      "          │   │            │       └ <zmq.eventloop.zmqstream.ZMQStream object at 0x7fddf2fd8cf8>\n",
      "          │   │            └ <bound method Kernel.execute_request of <ipykernel.ipkernel.IPythonKernel object at 0x7fddf2ff2908>>\n",
      "          │   └ <function maybe_future at 0x7fddf3416b70>\n",
      "          └ <module 'tornado.gen' from '/home/rasho/.local/lib/python3.6/site-packages/tornado-6.1-py3.6-linux-x86_64.egg/tornado/gen.py'>\n",
      "  File \"/home/rasho/.local/lib/python3.6/site-packages/tornado-6.1-py3.6-linux-x86_64.egg/tornado/gen.py\", line 234, in wrapper\n",
      "    yielded = ctx_run(next, result)\n",
      "              │             └ <generator object execute_request at 0x7fdd33306a98>\n",
      "              └ <bound method Context.run of <contextvars.Context object at 0x7fdd6605b860>>\n",
      "  File \"/home/rasho/anaconda3/envs/alphapose/lib/python3.6/site-packages/contextvars/__init__.py\", line 38, in run\n",
      "    return callable(*args, **kwargs)\n",
      "           │         │       └ {}\n",
      "           │         └ (<generator object execute_request at 0x7fdd33306a98>,)\n",
      "           └ <built-in function next>\n",
      "  File \"/home/rasho/anaconda3/envs/alphapose/lib/python3.6/site-packages/ipykernel/kernelbase.py\", line 545, in execute_request\n",
      "    user_expressions, allow_stdin,\n",
      "    │                 └ True\n",
      "    └ {}\n",
      "  File \"/home/rasho/.local/lib/python3.6/site-packages/tornado-6.1-py3.6-linux-x86_64.egg/tornado/gen.py\", line 234, in wrapper\n",
      "    yielded = ctx_run(next, result)\n",
      "              │             └ <generator object do_execute at 0x7fdd0aeb3620>\n",
      "              └ <bound method Context.run of <contextvars.Context object at 0x7fdd6605b2e8>>\n",
      "  File \"/home/rasho/anaconda3/envs/alphapose/lib/python3.6/site-packages/contextvars/__init__.py\", line 38, in run\n",
      "    return callable(*args, **kwargs)\n",
      "           │         │       └ {}\n",
      "           │         └ (<generator object do_execute at 0x7fdd0aeb3620>,)\n",
      "           └ <built-in function next>\n",
      "  File \"/home/rasho/anaconda3/envs/alphapose/lib/python3.6/site-packages/ipykernel/ipkernel.py\", line 306, in do_execute\n",
      "    res = shell.run_cell(code, store_history=store_history, silent=silent)\n",
      "          │     │        │                   │                     └ False\n",
      "          │     │        │                   └ True\n",
      "          │     │        └ 'import hiddenlayer as hl\\ntrain_his = hl.History()\\nvaild_his = hl.History()\\ncanvas1 = hl.Canvas()\\nfor epoch in range(_epo...\n",
      "          │     └ <function ZMQInteractiveShell.run_cell at 0x7fddf2fc0ea0>\n",
      "          └ <ipykernel.zmqshell.ZMQInteractiveShell object at 0x7fddf2fd8fd0>\n",
      "  File \"/home/rasho/anaconda3/envs/alphapose/lib/python3.6/site-packages/ipykernel/zmqshell.py\", line 536, in run_cell\n",
      "    return super(ZMQInteractiveShell, self).run_cell(*args, **kwargs)\n",
      "                 │                    │               │       └ {'store_history': True, 'silent': False}\n",
      "                 │                    │               └ ('import hiddenlayer as hl\\ntrain_his = hl.History()\\nvaild_his = hl.History()\\ncanvas1 = hl.Canvas()\\nfor epoch in range(_ep...\n",
      "                 │                    └ <ipykernel.zmqshell.ZMQInteractiveShell object at 0x7fddf2fd8fd0>\n",
      "                 └ <class 'ipykernel.zmqshell.ZMQInteractiveShell'>\n",
      "  File \"/home/rasho/anaconda3/envs/alphapose/lib/python3.6/site-packages/IPython/core/interactiveshell.py\", line 2867, in run_cell\n",
      "    raw_cell, store_history, silent, shell_futures)\n",
      "    │         │              │       └ True\n",
      "    │         │              └ False\n",
      "    │         └ True\n",
      "    └ 'import hiddenlayer as hl\\ntrain_his = hl.History()\\nvaild_his = hl.History()\\ncanvas1 = hl.Canvas()\\nfor epoch in range(_epo...\n",
      "  File \"/home/rasho/anaconda3/envs/alphapose/lib/python3.6/site-packages/IPython/core/interactiveshell.py\", line 2895, in _run_cell\n",
      "    return runner(coro)\n",
      "           │      └ <coroutine object InteractiveShell.run_cell_async at 0x7fdd0aeb3678>\n",
      "           └ <function _pseudo_sync_runner at 0x7fddf6185e18>\n",
      "  File \"/home/rasho/anaconda3/envs/alphapose/lib/python3.6/site-packages/IPython/core/async_helpers.py\", line 68, in _pseudo_sync_runner\n",
      "    coro.send(None)\n",
      "    │    └ <method 'send' of 'coroutine' objects>\n",
      "    └ <coroutine object InteractiveShell.run_cell_async at 0x7fdd0aeb3678>\n",
      "  File \"/home/rasho/anaconda3/envs/alphapose/lib/python3.6/site-packages/IPython/core/interactiveshell.py\", line 3072, in run_cell_async\n",
      "    interactivity=interactivity, compiler=compiler, result=result)\n",
      "                  │                       │                └ <ExecutionResult object at 7fdd6e5d8b38, execution_count=14 error_before_exec=None error_in_exec=None info=<ExecutionInfo obj...\n",
      "                  │                       └ <IPython.core.compilerop.CachingCompiler object at 0x7fddf2fd8f60>\n",
      "                  └ 'last_expr'\n",
      "  File \"/home/rasho/anaconda3/envs/alphapose/lib/python3.6/site-packages/IPython/core/interactiveshell.py\", line 3263, in run_ast_nodes\n",
      "    if (await self.run_code(code, result,  async_=asy)):\n",
      "              │    │        │     │               └ False\n",
      "              │    │        │     └ <ExecutionResult object at 7fdd6e5d8b38, execution_count=14 error_before_exec=None error_in_exec=None info=<ExecutionInfo obj...\n",
      "              │    │        └ <code object <module> at 0x7fddf074fa50, file \"<ipython-input-14-5db87c859f95>\", line 5>\n",
      "              │    └ <function InteractiveShell.run_code at 0x7fddf619f950>\n",
      "              └ <ipykernel.zmqshell.ZMQInteractiveShell object at 0x7fddf2fd8fd0>\n",
      "  File \"/home/rasho/anaconda3/envs/alphapose/lib/python3.6/site-packages/IPython/core/interactiveshell.py\", line 3343, in run_code\n",
      "    exec(code_obj, self.user_global_ns, self.user_ns)\n",
      "         │         │    │               │    └ {'__name__': '__main__', '__doc__': 'Automatically created module for IPython interactive environment', '__package__': None, ...\n",
      "         │         │    │               └ <ipykernel.zmqshell.ZMQInteractiveShell object at 0x7fddf2fd8fd0>\n",
      "         │         │    └ <property object at 0x7fddf6197408>\n",
      "         │         └ <ipykernel.zmqshell.ZMQInteractiveShell object at 0x7fddf2fd8fd0>\n",
      "         └ <code object <module> at 0x7fddf074fa50, file \"<ipython-input-14-5db87c859f95>\", line 5>\n",
      "> File \"<ipython-input-14-5db87c859f95>\", line 7, in <module>\n",
      "    train_loss, train_acc = pc.train_epoch(model,train_loader,model_eval,optimizer,scheduler,BATCH_SIZE)\n",
      "                            │  │           │     │            │          │         │         └ 32\n",
      "                            │  │           │     │            │          │         └ <torch.optim.lr_scheduler.StepLR object at 0x7fdd0b0f7fd0>\n",
      "                            │  │           │     │            │          └ Adadelta (\n",
      "                            │  │           │     │            │            Parameter Group 0\n",
      "                            │  │           │     │            │                eps: 1e-06\n",
      "                            │  │           │     │            │                initial_lr: 1.0\n",
      "                            │  │           │     │            │                lr: 1.0\n",
      "                            │  │           │     │            │                rho: 0.9\n",
      "                            │  │           │     │            │                weight_decay: 0\n",
      "                            │  │           │     │            │            )\n",
      "                            │  │           │     │            └ <function model_eval at 0x7fdd0b101d08>\n",
      "                            │  │           │     └ <torch.utils.data.dataloader.DataLoader object at 0x7fdd0c011208>\n",
      "                            │  │           └ FcLstm(\n",
      "                            │  │               (fc1): Linear(in_features=34, out_features=64, bias=True)\n",
      "                            │  │               (fc2): Linear(in_features=128, out_features=64, bias=Tr...\n",
      "                            │  └ <function train_epoch at 0x7fdd6603ff28>\n",
      "                            └ <module 'procession' from '/home/rasho/AlphaPose/train/procession.py'>\n",
      "\n",
      "  File \"/home/rasho/AlphaPose/train/procession.py\", line 20, in train_epoch\n",
      "    batch_loss,batch_acc = eval_fn(batch)\n",
      "                           │       └ {'data': (tensor([[0.5652, 0.0361, 0.5217,  ..., 0.9036, 0.7391, 1.0000],\n",
      "                           │                 [0.1582, 0.6355, 0.1304,  ..., 0.1839, 0.96...\n",
      "                           └ <function model_eval at 0x7fdd0b101d08>\n",
      "\n",
      "  File \"<ipython-input-11-f88437903beb>\", line 10, in model_eval\n",
      "    out,_hc = model(input_,len_,hc_) # data,datalen\n",
      "              │     │      │    └ (tensor([[[-2.2886,  0.1752, -0.3207,  ...,  0.9031,  1.8389, -0.3163],\n",
      "              │     │      │               [-0.4539,  0.8480,  0.4062,  ...,  0.3170,  ...\n",
      "              │     │      └ tensor([34., 34., 34., 34., 34., 34., 34., 34., 34., 34., 34., 34., 34., 34.,\n",
      "              │     │                34., 34., 34., 34., 34., 34., 34., 34.,...\n",
      "              │     └ tensor([[0.5652, 0.0361, 0.5217,  ..., 0.9036, 0.7391, 1.0000],\n",
      "              │               [0.1582, 0.6355, 0.1304,  ..., 0.1839, 0.9639, 0.5165...\n",
      "              └ FcLstm(\n",
      "                  (fc1): Linear(in_features=34, out_features=64, bias=True)\n",
      "                  (fc2): Linear(in_features=128, out_features=64, bias=Tr...\n",
      "  File \"/home/rasho/anaconda3/envs/alphapose/lib/python3.6/site-packages/torch/nn/modules/module.py\", line 493, in __call__\n",
      "    result = self.forward(*input, **kwargs)\n",
      "             │    │        │        └ {}\n",
      "             │    │        └ (tensor([[0.5652, 0.0361, 0.5217,  ..., 0.9036, 0.7391, 1.0000],\n",
      "             │    │                  [0.1582, 0.6355, 0.1304,  ..., 0.1839, 0.9639, 0.516...\n",
      "             │    └ <function FcLstm.forward at 0x7fdd6e5beae8>\n",
      "             └ FcLstm(\n",
      "                 (fc1): Linear(in_features=34, out_features=64, bias=True)\n",
      "                 (fc2): Linear(in_features=128, out_features=64, bias=Tr...\n",
      "\n",
      "  File \"/home/rasho/AlphaPose/actRec/models.py\", line 52, in forward\n",
      "    _fc2   = self.fc2(_fc1)\n",
      "             │        └ tensor([[-2.8715,  1.6711,  4.6280,  ...,  6.2534, -1.5221,  3.6547],\n",
      "             │                  [-2.1369,  0.0170,  3.1518,  ...,  6.2430, -3.2...\n",
      "             └ FcLstm(\n",
      "                 (fc1): Linear(in_features=34, out_features=64, bias=True)\n",
      "                 (fc2): Linear(in_features=128, out_features=64, bias=Tr...\n",
      "\n",
      "  File \"/home/rasho/anaconda3/envs/alphapose/lib/python3.6/site-packages/torch/nn/modules/module.py\", line 493, in __call__\n",
      "    result = self.forward(*input, **kwargs)\n",
      "             │    │        │        └ {}\n",
      "             │    │        └ (tensor([[-2.8715,  1.6711,  4.6280,  ...,  6.2534, -1.5221,  3.6547],\n",
      "             │    │                  [-2.1369,  0.0170,  3.1518,  ...,  6.2430, -3....\n",
      "             │    └ <function Linear.forward at 0x7fdd6e7e8730>\n",
      "             └ Linear(in_features=128, out_features=64, bias=True)\n",
      "  File \"/home/rasho/anaconda3/envs/alphapose/lib/python3.6/site-packages/torch/nn/modules/linear.py\", line 92, in forward\n",
      "    return F.linear(input, self.weight, self.bias)\n",
      "           │ │      │      │            └ Linear(in_features=128, out_features=64, bias=True)\n",
      "           │ │      │      └ Linear(in_features=128, out_features=64, bias=True)\n",
      "           │ │      └ tensor([[-2.8715,  1.6711,  4.6280,  ...,  6.2534, -1.5221,  3.6547],\n",
      "           │ │                [-2.1369,  0.0170,  3.1518,  ...,  6.2430, -3.2...\n",
      "           │ └ <function linear at 0x7fdd6e85c158>\n",
      "           └ <module 'torch.nn.functional' from '/home/rasho/anaconda3/envs/alphapose/lib/python3.6/site-packages/torch/nn/functional.py'>\n",
      "  File \"/home/rasho/anaconda3/envs/alphapose/lib/python3.6/site-packages/torch/nn/functional.py\", line 1406, in linear\n",
      "    ret = torch.addmm(bias, input, weight.t())\n",
      "          │     │     │     │      │      └ <method 't' of 'torch._C._TensorBase' objects>\n",
      "          │     │     │     │      └ Parameter containing:\n",
      "          │     │     │     │        tensor([[-1.0991,  1.3772, -0.5309,  ...,  1.0604,  1.3897,  0.7627],\n",
      "          │     │     │     │                [ 1.0973,  0.3071,  0.556...\n",
      "          │     │     │     └ tensor([[-2.8715,  1.6711,  4.6280,  ...,  6.2534, -1.5221,  3.6547],\n",
      "          │     │     │               [-2.1369,  0.0170,  3.1518,  ...,  6.2430, -3.2...\n",
      "          │     │     └ Parameter containing:\n",
      "          │     │       tensor([0., 0., 0., 0., 0., 0., 0., 0., 0., 0., 0., 0., 0., 0., 0., 0., 0., 0., 0., 0., 0., 0., 0., 0.,...\n",
      "          │     └ <built-in method addmm of type object at 0x7fddc7821e20>\n",
      "          └ <module 'torch' from '/home/rasho/anaconda3/envs/alphapose/lib/python3.6/site-packages/torch/__init__.py'>\n",
      "\n",
      "RuntimeError: size mismatch, m1: [32 x 64], m2: [128 x 64] at /tmp/pip-req-build-jh50bw28/aten/src/THC/generic/THCTensorMathBlas.cu:268\n"
     ]
    },
    {
     "name": "stdout",
     "output_type": "stream",
     "text": [
      "32 32\n",
      "torch.Size([1, 32, 32]) torch.Size([1, 32, 32])\n",
      "fc1 torch.Size([32, 64])\n"
     ]
    },
    {
     "ename": "TypeError",
     "evalue": "'NoneType' object is not iterable",
     "output_type": "error",
     "traceback": [
      "\u001b[0;31m---------------------------------------------------------------------------\u001b[0m",
      "\u001b[0;31mTypeError\u001b[0m                                 Traceback (most recent call last)",
      "\u001b[0;32m<ipython-input-14-5db87c859f95>\u001b[0m in \u001b[0;36m<module>\u001b[0;34m\u001b[0m\n\u001b[1;32m      5\u001b[0m \u001b[0;32mfor\u001b[0m \u001b[0mepoch\u001b[0m \u001b[0;32min\u001b[0m \u001b[0mrange\u001b[0m\u001b[0;34m(\u001b[0m\u001b[0m_epoch\u001b[0m\u001b[0;34m+\u001b[0m\u001b[0;36m1\u001b[0m\u001b[0;34m,\u001b[0m\u001b[0mN_EPOCHS\u001b[0m\u001b[0;34m+\u001b[0m\u001b[0;36m1\u001b[0m\u001b[0;34m)\u001b[0m\u001b[0;34m:\u001b[0m\u001b[0;34m\u001b[0m\u001b[0;34m\u001b[0m\u001b[0m\n\u001b[1;32m      6\u001b[0m     \u001b[0mstart_time\u001b[0m \u001b[0;34m=\u001b[0m \u001b[0mtime\u001b[0m\u001b[0;34m.\u001b[0m\u001b[0mtime\u001b[0m\u001b[0;34m(\u001b[0m\u001b[0;34m)\u001b[0m\u001b[0;34m\u001b[0m\u001b[0;34m\u001b[0m\u001b[0m\n\u001b[0;32m----> 7\u001b[0;31m     \u001b[0mtrain_loss\u001b[0m\u001b[0;34m,\u001b[0m \u001b[0mtrain_acc\u001b[0m \u001b[0;34m=\u001b[0m \u001b[0mpc\u001b[0m\u001b[0;34m.\u001b[0m\u001b[0mtrain_epoch\u001b[0m\u001b[0;34m(\u001b[0m\u001b[0mmodel\u001b[0m\u001b[0;34m,\u001b[0m\u001b[0mtrain_loader\u001b[0m\u001b[0;34m,\u001b[0m\u001b[0mmodel_eval\u001b[0m\u001b[0;34m,\u001b[0m\u001b[0moptimizer\u001b[0m\u001b[0;34m,\u001b[0m\u001b[0mscheduler\u001b[0m\u001b[0;34m,\u001b[0m\u001b[0mBATCH_SIZE\u001b[0m\u001b[0;34m)\u001b[0m\u001b[0;34m\u001b[0m\u001b[0;34m\u001b[0m\u001b[0m\n\u001b[0m\u001b[1;32m      8\u001b[0m     \u001b[0mvalid_loss\u001b[0m\u001b[0;34m,\u001b[0m \u001b[0mvalid_acc\u001b[0m \u001b[0;34m=\u001b[0m \u001b[0mpc\u001b[0m\u001b[0;34m.\u001b[0m\u001b[0mevaluate\u001b[0m\u001b[0;34m(\u001b[0m\u001b[0mmodel\u001b[0m\u001b[0;34m,\u001b[0m\u001b[0mtest_loader\u001b[0m\u001b[0;34m,\u001b[0m\u001b[0mmodel_eval\u001b[0m\u001b[0;34m,\u001b[0m\u001b[0mBATCH_SIZE\u001b[0m\u001b[0;34m)\u001b[0m\u001b[0;34m\u001b[0m\u001b[0;34m\u001b[0m\u001b[0m\n\u001b[1;32m      9\u001b[0m     \u001b[0mtrain_his\u001b[0m\u001b[0;34m.\u001b[0m\u001b[0mlog\u001b[0m\u001b[0;34m(\u001b[0m\u001b[0mepoch\u001b[0m\u001b[0;34m,\u001b[0m \u001b[0mloss\u001b[0m\u001b[0;34m=\u001b[0m\u001b[0mtrain_loss\u001b[0m\u001b[0;34m,\u001b[0m \u001b[0maccuracy\u001b[0m\u001b[0;34m=\u001b[0m\u001b[0mtrain_acc\u001b[0m\u001b[0;34m)\u001b[0m\u001b[0;34m\u001b[0m\u001b[0;34m\u001b[0m\u001b[0m\n",
      "\u001b[0;31mTypeError\u001b[0m: 'NoneType' object is not iterable"
     ]
    }
   ],
   "source": [
    "import hiddenlayer as hl\n",
    "train_his = hl.History()\n",
    "vaild_his = hl.History()\n",
    "canvas1 = hl.Canvas()\n",
    "for epoch in range(_epoch+1,N_EPOCHS+1):\n",
    "    start_time = time.time()\n",
    "    train_loss, train_acc = pc.train_epoch(model,train_loader,model_eval,optimizer,scheduler,BATCH_SIZE)\n",
    "    valid_loss, valid_acc = pc.evaluate(model,test_loader,model_eval,BATCH_SIZE)\n",
    "    train_his.log(epoch, loss=train_loss, accuracy=train_acc)\n",
    "    vaild_his.log(epoch, loss=valid_loss, accuracy=valid_acc)\n",
    "    with canvas1:\n",
    "        canvas1.draw_plot([train_his[\"loss\"], vaild_his[\"loss\"]],labels=[\"train\", \"vaild\"])\n",
    "        canvas1.draw_plot([train_his[\"accuracy\"], vaild_his[\"accuracy\"]],labels=[\"train\", \"vaild\"])\n",
    "    pc.print_train_info(start_time,epoch,train_loss,train_acc,valid_loss,valid_acc)\n",
    "    _epoch=epoch\n",
    "    info =  {'train_loss':train_loss,'train_acc':train_acc,'valid_loss':valid_loss,'valid_acc':valid_acc}\n",
    "    if epoch % 500 ==0 and epoch != 0: \n",
    "        pc.save_model_with_info(model,optimizer,tagI2W,info,epoch,savepath)"
   ]
  },
  {
   "cell_type": "code",
   "execution_count": null,
   "metadata": {},
   "outputs": [],
   "source": []
  }
 ],
 "metadata": {
  "kernelspec": {
   "display_name": "Python 3",
   "language": "python",
   "name": "python3"
  },
  "language_info": {
   "codemirror_mode": {
    "name": "ipython",
    "version": 3
   },
   "file_extension": ".py",
   "mimetype": "text/x-python",
   "name": "python",
   "nbconvert_exporter": "python",
   "pygments_lexer": "ipython3",
   "version": "3.6.12"
  }
 },
 "nbformat": 4,
 "nbformat_minor": 4
}
