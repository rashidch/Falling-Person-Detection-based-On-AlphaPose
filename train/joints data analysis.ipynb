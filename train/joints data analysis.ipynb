{
 "cells": [
  {
   "cell_type": "raw",
   "metadata": {},
   "source": [
    "Result for COCO (18 body parts)\n",
    "{0,  \"Nose\"},{1,  \"Neck\"},{2,  \"RShoulder\"},{3,  \"RElbow\"},{4,  \"RWrist\"},{5,  \"LShoulder\"},\n",
    "{6,  \"LElbow\"},{7,  \"LWrist\"},{8,  \"RHip\"},{9,  \"RKnee\"},{10, \"RAnkle\"},{11, \"LHip\"},\n",
    "{12, \"LKnee\"},{13, \"LAnkle\"},{14, \"REye\"},{15, \"LEye\"},{16, \"REar\"},{17, \"LEar\"},"
   ]
  },
  {
   "cell_type": "code",
   "execution_count": 1,
   "metadata": {},
   "outputs": [],
   "source": [
    "import pandas as pd\n",
    "import numpy as np\n",
    "import os\n",
    "import matplotlib.pyplot as plt"
   ]
  },
  {
   "cell_type": "code",
   "execution_count": 2,
   "metadata": {},
   "outputs": [],
   "source": [
    "curr_dir = os.getcwd()\n",
    "csv_file_path = os.path.join(curr_dir, 'data/output.csv')"
   ]
  },
  {
   "cell_type": "code",
   "execution_count": 3,
   "metadata": {},
   "outputs": [],
   "source": [
    "df = pd.read_csv(csv_file_path)\n",
    "df = df.drop(['Unnamed: 0','idx'], axis=1)\n",
    "df = df.sort_values(['score'],ascending=False)"
   ]
  },
  {
   "cell_type": "code",
   "execution_count": 4,
   "metadata": {},
   "outputs": [],
   "source": [
    "df = df.drop_duplicates(subset = ['image_id','pos_class'], keep = 'first')\n",
    "df = df.sort_index()"
   ]
  },
  {
   "cell_type": "code",
   "execution_count": 5,
   "metadata": {},
   "outputs": [
    {
     "data": {
      "text/plain": [
       "Fall     7268\n",
       "Stand    6415\n",
       "Tie      5194\n",
       "Name: pos_class, dtype: int64"
      ]
     },
     "execution_count": 5,
     "metadata": {},
     "output_type": "execute_result"
    }
   ],
   "source": [
    "df['pos_class'].value_counts()"
   ]
  },
  {
   "cell_type": "code",
   "execution_count": 5,
   "metadata": {},
   "outputs": [
    {
     "data": {
      "text/plain": [
       "Index(['image_id', 'pos_class', 'box', 'score', 'nose_x', 'nose_y', 'LEye_x',\n",
       "       'LEye_y', 'REye_x', 'REye_y', 'LEar_x', 'LEar_y', 'REar_x', 'REar_y',\n",
       "       'LShoulder_x', 'LShoulder_y', 'RShoulder_x', 'RShoulder_y', 'LElbow_x',\n",
       "       'LElbow_y', 'RElbow_x', 'RElbow_y', 'LWrist_x', 'LWrist_y', 'RWrist_x',\n",
       "       'RWrist_y', 'LHip_x', 'LHip_y', 'RHip_x', 'RHip_y', 'LKnee_x',\n",
       "       'LKnee_y', 'Rknee_x', 'Rknee_y', 'LAnkle_x', 'LAnkle_y', 'RAnkle_x',\n",
       "       'RAnkle_y'],\n",
       "      dtype='object')"
      ]
     },
     "execution_count": 5,
     "metadata": {},
     "output_type": "execute_result"
    }
   ],
   "source": [
    "df.columns"
   ]
  },
  {
   "cell_type": "code",
   "execution_count": 6,
   "metadata": {},
   "outputs": [],
   "source": [
    "df = df.drop(['nose_x','nose_y','LEye_x',\n",
    "       'LEye_y', 'REye_x', 'REye_y', 'LEar_x', 'LEar_y', 'REar_x', 'REar_y'], axis=1)"
   ]
  },
  {
   "cell_type": "code",
   "execution_count": 8,
   "metadata": {},
   "outputs": [
    {
     "data": {
      "text/html": [
       "<div>\n",
       "<style scoped>\n",
       "    .dataframe tbody tr th:only-of-type {\n",
       "        vertical-align: middle;\n",
       "    }\n",
       "\n",
       "    .dataframe tbody tr th {\n",
       "        vertical-align: top;\n",
       "    }\n",
       "\n",
       "    .dataframe thead th {\n",
       "        text-align: right;\n",
       "    }\n",
       "</style>\n",
       "<table border=\"1\" class=\"dataframe\">\n",
       "  <thead>\n",
       "    <tr style=\"text-align: right;\">\n",
       "      <th></th>\n",
       "      <th>image_id</th>\n",
       "      <th>pos_class</th>\n",
       "      <th>box</th>\n",
       "      <th>score</th>\n",
       "      <th>LShoulder_x</th>\n",
       "      <th>LShoulder_y</th>\n",
       "      <th>RShoulder_x</th>\n",
       "      <th>RShoulder_y</th>\n",
       "      <th>LElbow_x</th>\n",
       "      <th>LElbow_y</th>\n",
       "      <th>...</th>\n",
       "      <th>RHip_x</th>\n",
       "      <th>RHip_y</th>\n",
       "      <th>LKnee_x</th>\n",
       "      <th>LKnee_y</th>\n",
       "      <th>Rknee_x</th>\n",
       "      <th>Rknee_y</th>\n",
       "      <th>LAnkle_x</th>\n",
       "      <th>LAnkle_y</th>\n",
       "      <th>RAnkle_x</th>\n",
       "      <th>RAnkle_y</th>\n",
       "    </tr>\n",
       "  </thead>\n",
       "  <tbody>\n",
       "    <tr>\n",
       "      <th>0</th>\n",
       "      <td>00001.png</td>\n",
       "      <td>Fall</td>\n",
       "      <td>[281.99066162109375, 252.75877380371094, 321.2...</td>\n",
       "      <td>2.826808</td>\n",
       "      <td>331.772522</td>\n",
       "      <td>361.536560</td>\n",
       "      <td>352.689270</td>\n",
       "      <td>457.753632</td>\n",
       "      <td>361.055969</td>\n",
       "      <td>307.153015</td>\n",
       "      <td>...</td>\n",
       "      <td>444.722992</td>\n",
       "      <td>399.186707</td>\n",
       "      <td>486.556488</td>\n",
       "      <td>269.502838</td>\n",
       "      <td>494.923187</td>\n",
       "      <td>441.020233</td>\n",
       "      <td>566.040161</td>\n",
       "      <td>298.786316</td>\n",
       "      <td>557.673462</td>\n",
       "      <td>369.903259</td>\n",
       "    </tr>\n",
       "    <tr>\n",
       "      <th>2</th>\n",
       "      <td>00002.png</td>\n",
       "      <td>Fall</td>\n",
       "      <td>[288.78521728515625, 255.32557678222656, 306.1...</td>\n",
       "      <td>2.198881</td>\n",
       "      <td>328.252716</td>\n",
       "      <td>366.554199</td>\n",
       "      <td>356.159027</td>\n",
       "      <td>458.246368</td>\n",
       "      <td>368.118866</td>\n",
       "      <td>302.768341</td>\n",
       "      <td>...</td>\n",
       "      <td>443.864594</td>\n",
       "      <td>402.433746</td>\n",
       "      <td>483.730743</td>\n",
       "      <td>270.875397</td>\n",
       "      <td>495.690613</td>\n",
       "      <td>446.286530</td>\n",
       "      <td>567.449707</td>\n",
       "      <td>298.781738</td>\n",
       "      <td>559.476440</td>\n",
       "      <td>370.540833</td>\n",
       "    </tr>\n",
       "    <tr>\n",
       "      <th>5</th>\n",
       "      <td>00003.png</td>\n",
       "      <td>Fall</td>\n",
       "      <td>[415.1852722167969, 249.65553283691406, 195.59...</td>\n",
       "      <td>1.732679</td>\n",
       "      <td>442.945038</td>\n",
       "      <td>308.439850</td>\n",
       "      <td>390.736267</td>\n",
       "      <td>459.972656</td>\n",
       "      <td>407.290283</td>\n",
       "      <td>349.188171</td>\n",
       "      <td>...</td>\n",
       "      <td>442.945038</td>\n",
       "      <td>410.310638</td>\n",
       "      <td>478.599823</td>\n",
       "      <td>270.238312</td>\n",
       "      <td>498.973969</td>\n",
       "      <td>445.965424</td>\n",
       "      <td>549.909363</td>\n",
       "      <td>290.612488</td>\n",
       "      <td>557.549683</td>\n",
       "      <td>372.109100</td>\n",
       "    </tr>\n",
       "    <tr>\n",
       "      <th>7</th>\n",
       "      <td>00004.png</td>\n",
       "      <td>Fall</td>\n",
       "      <td>[416.0980529785156, 253.36534118652344, 190.15...</td>\n",
       "      <td>1.868150</td>\n",
       "      <td>465.368866</td>\n",
       "      <td>281.390503</td>\n",
       "      <td>392.329224</td>\n",
       "      <td>468.322479</td>\n",
       "      <td>397.281067</td>\n",
       "      <td>364.333832</td>\n",
       "      <td>...</td>\n",
       "      <td>443.085602</td>\n",
       "      <td>405.186523</td>\n",
       "      <td>470.320709</td>\n",
       "      <td>273.962738</td>\n",
       "      <td>497.555847</td>\n",
       "      <td>447.277161</td>\n",
       "      <td>547.074219</td>\n",
       "      <td>286.342346</td>\n",
       "      <td>556.977905</td>\n",
       "      <td>375.475464</td>\n",
       "    </tr>\n",
       "    <tr>\n",
       "      <th>8</th>\n",
       "      <td>00005.png</td>\n",
       "      <td>Fall</td>\n",
       "      <td>[278.8832092285156, 265.8875732421875, 328.325...</td>\n",
       "      <td>2.389282</td>\n",
       "      <td>316.931335</td>\n",
       "      <td>375.438110</td>\n",
       "      <td>351.131897</td>\n",
       "      <td>465.214630</td>\n",
       "      <td>359.682068</td>\n",
       "      <td>307.036957</td>\n",
       "      <td>...</td>\n",
       "      <td>449.458557</td>\n",
       "      <td>401.088562</td>\n",
       "      <td>466.558868</td>\n",
       "      <td>272.836395</td>\n",
       "      <td>492.209290</td>\n",
       "      <td>448.114349</td>\n",
       "      <td>556.335388</td>\n",
       "      <td>289.936676</td>\n",
       "      <td>560.610413</td>\n",
       "      <td>366.887970</td>\n",
       "    </tr>\n",
       "  </tbody>\n",
       "</table>\n",
       "<p>5 rows × 28 columns</p>\n",
       "</div>"
      ],
      "text/plain": [
       "    image_id pos_class                                                box  \\\n",
       "0  00001.png      Fall  [281.99066162109375, 252.75877380371094, 321.2...   \n",
       "2  00002.png      Fall  [288.78521728515625, 255.32557678222656, 306.1...   \n",
       "5  00003.png      Fall  [415.1852722167969, 249.65553283691406, 195.59...   \n",
       "7  00004.png      Fall  [416.0980529785156, 253.36534118652344, 190.15...   \n",
       "8  00005.png      Fall  [278.8832092285156, 265.8875732421875, 328.325...   \n",
       "\n",
       "      score  LShoulder_x  LShoulder_y  RShoulder_x  RShoulder_y    LElbow_x  \\\n",
       "0  2.826808   331.772522   361.536560   352.689270   457.753632  361.055969   \n",
       "2  2.198881   328.252716   366.554199   356.159027   458.246368  368.118866   \n",
       "5  1.732679   442.945038   308.439850   390.736267   459.972656  407.290283   \n",
       "7  1.868150   465.368866   281.390503   392.329224   468.322479  397.281067   \n",
       "8  2.389282   316.931335   375.438110   351.131897   465.214630  359.682068   \n",
       "\n",
       "     LElbow_y  ...      RHip_x      RHip_y     LKnee_x     LKnee_y  \\\n",
       "0  307.153015  ...  444.722992  399.186707  486.556488  269.502838   \n",
       "2  302.768341  ...  443.864594  402.433746  483.730743  270.875397   \n",
       "5  349.188171  ...  442.945038  410.310638  478.599823  270.238312   \n",
       "7  364.333832  ...  443.085602  405.186523  470.320709  273.962738   \n",
       "8  307.036957  ...  449.458557  401.088562  466.558868  272.836395   \n",
       "\n",
       "      Rknee_x     Rknee_y    LAnkle_x    LAnkle_y    RAnkle_x    RAnkle_y  \n",
       "0  494.923187  441.020233  566.040161  298.786316  557.673462  369.903259  \n",
       "2  495.690613  446.286530  567.449707  298.781738  559.476440  370.540833  \n",
       "5  498.973969  445.965424  549.909363  290.612488  557.549683  372.109100  \n",
       "7  497.555847  447.277161  547.074219  286.342346  556.977905  375.475464  \n",
       "8  492.209290  448.114349  556.335388  289.936676  560.610413  366.887970  \n",
       "\n",
       "[5 rows x 28 columns]"
      ]
     },
     "execution_count": 8,
     "metadata": {},
     "output_type": "execute_result"
    }
   ],
   "source": [
    "df.head()"
   ]
  },
  {
   "cell_type": "code",
   "execution_count": null,
   "metadata": {},
   "outputs": [],
   "source": [
    "df.to_csv('data/drop_res.csv')"
   ]
  },
  {
   "cell_type": "code",
   "execution_count": null,
   "metadata": {},
   "outputs": [],
   "source": [
    "feat_df = df.iloc[:,4:]"
   ]
  },
  {
   "cell_type": "code",
   "execution_count": null,
   "metadata": {},
   "outputs": [],
   "source": [
    "feat_df.head()"
   ]
  },
  {
   "cell_type": "code",
   "execution_count": null,
   "metadata": {},
   "outputs": [],
   "source": [
    "df.columns"
   ]
  },
  {
   "cell_type": "code",
   "execution_count": null,
   "metadata": {},
   "outputs": [],
   "source": [
    "x1_diff,y1_diff = feat_df['LShoulder_x']-feat_df['nose_x'],feat_df['LShoulder_y']-feat_df['nose_y']\n",
    "x1y1_len = np.sqrt(np.square(x1_diff)+np.square(y1_diff))\n",
    "x1,y1 = x1_diff/x1y1_len,y1_diff/x1y1_len\n",
    "df['x1'] = x1\n",
    "df['y1'] = y1"
   ]
  },
  {
   "cell_type": "code",
   "execution_count": null,
   "metadata": {},
   "outputs": [],
   "source": [
    "x2_diff, y2_diff = feat_df['RShoulder_x']-feat_df['nose_x'],feat_df['RShoulder_y']-feat_df['nose_y']\n",
    "x2y2_len = np.sqrt(np.square(x2_diff)+np.square(y2_diff))\n",
    "x2, y2 = x2_diff/x2y2_len, y2_diff/x2y2_len\n",
    "df['x2'] = x2\n",
    "df['y2'] = y2"
   ]
  },
  {
   "cell_type": "code",
   "execution_count": null,
   "metadata": {},
   "outputs": [],
   "source": [
    "x3_diff,y3_diff = feat_df['LElbow_x']-feat_df['LShoulder_x'],feat_df['LElbow_y']-feat_df['LShoulder_y']\n",
    "x3y3_len = np.sqrt(np.square(x3_diff)+np.square(y3_diff))\n",
    "x3,y3 = x3_diff/x3y3_len,y3_diff/x3y3_len\n",
    "df['x3'] = x3\n",
    "df['y3'] = y3"
   ]
  },
  {
   "cell_type": "code",
   "execution_count": null,
   "metadata": {},
   "outputs": [],
   "source": [
    "x4_diff,y4_diff = feat_df['RElbow_x']-feat_df['RShoulder_x'],feat_df['RElbow_y']-feat_df['RShoulder_y']\n",
    "x4y4_len = np.sqrt(np.square(x4_diff)+np.square(y4_diff))\n",
    "x4,y4 = x4_diff/x4y4_len,y4_diff/x4y4_len\n",
    "df['x4'] = x4\n",
    "df['y4'] = y4"
   ]
  },
  {
   "cell_type": "code",
   "execution_count": null,
   "metadata": {},
   "outputs": [],
   "source": [
    "x5_diff,y5_diff = feat_df['RWrist_x']-feat_df['RElbow_x'],feat_df['RWrist_y']-feat_df['RElbow_y']\n",
    "x5y5_len = np.sqrt(np.square(x5_diff)+np.square(y5_diff))\n",
    "x5,y5 = x5_diff/x5y5_len,y5_diff/x5y5_len\n",
    "df['x5'] = x5\n",
    "df['y5'] = y5"
   ]
  },
  {
   "cell_type": "code",
   "execution_count": null,
   "metadata": {},
   "outputs": [],
   "source": [
    "x6_diff,y6_diff = feat_df['LWrist_x']-feat_df['LElbow_x'],feat_df['LWrist_y']-feat_df['LElbow_y']\n",
    "x6y6_len = np.sqrt(np.square(x6_diff)+np.square(y6_diff))\n",
    "x6,y6 = x6_diff/x6y6_len,y6_diff/x6y6_len\n",
    "df['x6'] = x6\n",
    "df['y6'] = y6"
   ]
  },
  {
   "cell_type": "code",
   "execution_count": null,
   "metadata": {},
   "outputs": [],
   "source": [
    "x7_diff, y7_diff = feat_df['RHip_x']-feat_df['nose_x'],feat_df['RHip_y']-feat_df['nose_y']\n",
    "x7y7_len = np.sqrt(np.square(x7_diff)+np.square(y7_diff))\n",
    "x7, y7 = x7_diff/x7y7_len, y7_diff/x7y7_len\n",
    "df['x7'] = x7\n",
    "df['y7'] = y7"
   ]
  },
  {
   "cell_type": "code",
   "execution_count": null,
   "metadata": {},
   "outputs": [],
   "source": [
    "x8_diff, y8_diff = feat_df['LHip_x']-feat_df['nose_x'],feat_df['LHip_y']-feat_df['nose_y']\n",
    "len_8 = np.sqrt(np.square(x8_diff)+np.square(y8_diff))\n",
    "x8, y8 = x8_diff/len_8, y8_diff/len_8\n",
    "df['x8'] = x8\n",
    "df['y8'] = y8"
   ]
  },
  {
   "cell_type": "code",
   "execution_count": null,
   "metadata": {},
   "outputs": [],
   "source": [
    "x9_diff, y9_diff = feat_df['LKnee_x']-feat_df['LHip_x'],feat_df['LKnee_y']-feat_df['LHip_y']\n",
    "len_9 = np.sqrt(np.square(x9_diff)+np.square(y9_diff))\n",
    "x9, y9 = x8_diff/len_9, y9_diff/len_9\n",
    "df['x9'] = x9\n",
    "df['y9'] = y9"
   ]
  },
  {
   "cell_type": "code",
   "execution_count": null,
   "metadata": {},
   "outputs": [],
   "source": [
    "x10_diff, y10_diff = feat_df['Rknee_x']-feat_df['RHip_x'],feat_df['Rknee_y']-feat_df['RHip_y']\n",
    "len_10 = np.sqrt(np.square(x10_diff)+np.square(y10_diff))\n",
    "x10, y10 = x10_diff/len_10, y10_diff/len_10\n",
    "df['x10'] = x10\n",
    "df['y10'] = y10"
   ]
  },
  {
   "cell_type": "code",
   "execution_count": null,
   "metadata": {},
   "outputs": [],
   "source": [
    "x12_diff, y12_diff = feat_df['RAnkle_x']-feat_df['Rknee_x'],feat_df['RAnkle_y']-feat_df['Rknee_y']\n",
    "len_12 = np.sqrt(np.square(x12_diff)+np.square(y12_diff))\n",
    "x12, y12 = x12_diff/len_12, y12_diff/len_12\n",
    "df['x12'] = x12\n",
    "df['y12'] = y12"
   ]
  },
  {
   "cell_type": "code",
   "execution_count": null,
   "metadata": {},
   "outputs": [],
   "source": [
    "x13_diff, y13_diff = feat_df['LAnkle_x']-feat_df['LKnee_x'],feat_df['LAnkle_y']-feat_df['LKnee_y']\n",
    "len_13 = np.sqrt(np.square(x13_diff)+np.square(y13_diff))\n",
    "x13, y13 = x13_diff/len_13, y13_diff/len_13\n",
    "df['x13'] = x13\n",
    "df['y13'] = y13"
   ]
  },
  {
   "cell_type": "code",
   "execution_count": null,
   "metadata": {},
   "outputs": [],
   "source": [
    "df.columns"
   ]
  },
  {
   "cell_type": "code",
   "execution_count": null,
   "metadata": {},
   "outputs": [],
   "source": [
    "df"
   ]
  },
  {
   "cell_type": "code",
   "execution_count": null,
   "metadata": {},
   "outputs": [],
   "source": [
    "df[df.iloc[:,30:].isna().any(axis=1)]"
   ]
  },
  {
   "cell_type": "code",
   "execution_count": null,
   "metadata": {},
   "outputs": [],
   "source": [
    "df = df.dropna()"
   ]
  },
  {
   "cell_type": "code",
   "execution_count": null,
   "metadata": {},
   "outputs": [],
   "source": [
    "df.isna().any()"
   ]
  },
  {
   "cell_type": "code",
   "execution_count": null,
   "metadata": {},
   "outputs": [],
   "source": [
    "df.to_csv('data/victorized_res.csv')"
   ]
  },
  {
   "cell_type": "code",
   "execution_count": null,
   "metadata": {},
   "outputs": [],
   "source": []
  },
  {
   "cell_type": "code",
   "execution_count": null,
   "metadata": {},
   "outputs": [],
   "source": [
    "curr_dir = os.getcwd()\n",
    "csv_file_path = os.path.join(curr_dir, 'data/res_with_flips.csv')"
   ]
  },
  {
   "cell_type": "code",
   "execution_count": null,
   "metadata": {},
   "outputs": [],
   "source": [
    "df2 = pd.read_csv(csv_file_path)\n",
    "df2 = df2.drop(['Unnamed: 0','idx'], axis=1)\n",
    "df2 = df2.sort_values(['score'],ascending=False)"
   ]
  },
  {
   "cell_type": "code",
   "execution_count": null,
   "metadata": {},
   "outputs": [],
   "source": [
    "df2 = df2.drop_duplicates(subset = ['image_id','pos_class'], keep = 'first')\n",
    "df2 = df2.sort_index()\n",
    "df2.head()"
   ]
  },
  {
   "cell_type": "code",
   "execution_count": null,
   "metadata": {},
   "outputs": [],
   "source": [
    "df2"
   ]
  },
  {
   "cell_type": "code",
   "execution_count": null,
   "metadata": {},
   "outputs": [],
   "source": [
    "df2.to_csv('data/clean_res_with_flips.csv')"
   ]
  },
  {
   "cell_type": "code",
   "execution_count": null,
   "metadata": {},
   "outputs": [],
   "source": []
  }
 ],
 "metadata": {
  "kernelspec": {
   "display_name": "Python 3",
   "language": "python",
   "name": "python3"
  },
  "language_info": {
   "codemirror_mode": {
    "name": "ipython",
    "version": 3
   },
   "file_extension": ".py",
   "mimetype": "text/x-python",
   "name": "python",
   "nbconvert_exporter": "python",
   "pygments_lexer": "ipython3",
   "version": "3.6.12"
  }
 },
 "nbformat": 4,
 "nbformat_minor": 4
}
