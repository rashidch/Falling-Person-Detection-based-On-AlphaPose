{
 "cells": [
  {
   "cell_type": "raw",
   "metadata": {},
   "source": [
    "Result for COCO (18 body parts)\n",
    "{0,  \"Nose\"},{1,  \"Neck\"},{2,  \"RShoulder\"},{3,  \"RElbow\"},{4,  \"RWrist\"},{5,  \"LShoulder\"},\n",
    "{6,  \"LElbow\"},{7,  \"LWrist\"},{8,  \"RHip\"},{9,  \"RKnee\"},{10, \"RAnkle\"},{11, \"LHip\"},\n",
    "{12, \"LKnee\"},{13, \"LAnkle\"},{14, \"REye\"},{15, \"LEye\"},{16, \"REar\"},{17, \"LEar\"},"
   ]
  },
  {
   "cell_type": "code",
   "execution_count": 1,
   "metadata": {},
   "outputs": [],
   "source": [
    "import pandas as pd\n",
    "import numpy as np\n",
    "import os\n",
    "import matplotlib.pyplot as plt"
   ]
  },
  {
   "cell_type": "code",
   "execution_count": 202,
   "metadata": {},
   "outputs": [
    {
     "name": "stdout",
     "output_type": "stream",
     "text": [
      "/home/rasho/Falling-Person-Detection-based-On-AlphaPose\n"
     ]
    }
   ],
   "source": [
    "curr_dir = os.getcwd()\n",
    "path = os.path.dirname(curr_dir)\n",
    "print(path)\n",
    "csv_file_path = os.path.join(path, 'dataset/DataCSV/taoyuan_angle1_2D_Original.csv')"
   ]
  },
  {
   "cell_type": "code",
   "execution_count": 203,
   "metadata": {},
   "outputs": [],
   "source": [
    "df = pd.read_csv(csv_file_path)\n",
    "df = df.drop(['Unnamed: 0','idx'], axis=1)\n",
    "#df = df.sort_values(['score'],ascending=False)"
   ]
  },
  {
   "cell_type": "code",
   "execution_count": 204,
   "metadata": {},
   "outputs": [],
   "source": [
    "#df = df.drop_duplicates(subset = ['image_id','pos_class'], keep = 'first')\n",
    "#df = df.sort_index()"
   ]
  },
  {
   "cell_type": "code",
   "execution_count": 205,
   "metadata": {},
   "outputs": [
    {
     "data": {
      "text/plain": [
       "FallingDown    5739\n",
       "Standing       5339\n",
       "Name: pos_class, dtype: int64"
      ]
     },
     "execution_count": 205,
     "metadata": {},
     "output_type": "execute_result"
    }
   ],
   "source": [
    "df['pos_class'].value_counts()"
   ]
  },
  {
   "cell_type": "code",
   "execution_count": 206,
   "metadata": {},
   "outputs": [
    {
     "data": {
      "text/plain": [
       "Index(['image_id', 'pos_class', 'box', 'score', 'Hip_x', 'Hip_y', 'RHip_x',\n",
       "       'RHip_y', 'RKnee_x', 'RKnee_y', 'RFoot_x', 'RFoot_y', 'LHip_x',\n",
       "       'LHip_y', 'LKnee_x', 'LKnee_y', 'LFoot_x', 'LFoot_y', 'Spine_x',\n",
       "       'Spine_y', 'Thorax_x', 'Thorax_y', 'Nose_x', 'Nose_y', 'Head_x',\n",
       "       'Head_y', 'LShoulder_x', 'LShoulder_y', 'LElbow_x', 'LElbow_y',\n",
       "       'LWrist_x', 'LWrist_y', 'RShoulder_x', 'RShoulder_y', 'RElbow_x',\n",
       "       'RElbow_y', 'RWrist_x', 'RWrist_y'],\n",
       "      dtype='object')"
      ]
     },
     "execution_count": 206,
     "metadata": {},
     "output_type": "execute_result"
    }
   ],
   "source": [
    "df.columns"
   ]
  },
  {
   "cell_type": "code",
   "execution_count": 17,
   "metadata": {},
   "outputs": [],
   "source": [
    "#df = df.drop(['nose_x','nose_y','LEye_x',\n",
    "#       'LEye_y', 'REye_x', 'REye_y', 'LEar_x', 'LEar_y', 'REar_x', 'REar_y'], axis=1)"
   ]
  },
  {
   "cell_type": "code",
   "execution_count": 207,
   "metadata": {
    "scrolled": true
   },
   "outputs": [
    {
     "data": {
      "text/plain": [
       "image_id                                               01257.png\n",
       "pos_class                                               Standing\n",
       "box            [677.9187622070312, 427.16796875, 203.74859619...\n",
       "score                                                    1.50505\n",
       "Hip_x                                                    769.999\n",
       "Hip_y                                                    707.564\n",
       "RHip_x                                                   797.982\n",
       "RHip_y                                                   708.964\n",
       "RKnee_x                                                  828.765\n",
       "RKnee_y                                                  538.263\n",
       "RFoot_x                                                  811.974\n",
       "RFoot_y                                                  518.675\n",
       "LHip_x                                                   742.015\n",
       "LHip_y                                                   706.165\n",
       "LKnee_x                                                  800.781\n",
       "LKnee_y                                                  493.489\n",
       "LFoot_x                                                  811.974\n",
       "LFoot_y                                                  496.288\n",
       "Spine_x                                                  771.398\n",
       "Spine_y                                                  708.964\n",
       "Thorax_x                                                 772.797\n",
       "Thorax_y                                                 710.363\n",
       "Nose_x                                                   803.579\n",
       "Nose_y                                                   476.699\n",
       "Head_x                                                   775.596\n",
       "Head_y                                                   651.597\n",
       "LShoulder_x                                               750.41\n",
       "LShoulder_y                                              717.359\n",
       "LElbow_x                                                 758.805\n",
       "LElbow_y                                                 700.568\n",
       "LWrist_x                                                 772.797\n",
       "LWrist_y                                                 708.964\n",
       "RShoulder_x                                              795.184\n",
       "RShoulder_y                                              703.367\n",
       "RElbow_x                                                 778.394\n",
       "RElbow_y                                                 706.165\n",
       "RWrist_x                                                 778.394\n",
       "RWrist_y                                                 708.964\n",
       "Name: 7000, dtype: object"
      ]
     },
     "execution_count": 207,
     "metadata": {},
     "output_type": "execute_result"
    }
   ],
   "source": [
    "df.iloc[7000]"
   ]
  },
  {
   "cell_type": "code",
   "execution_count": 208,
   "metadata": {},
   "outputs": [],
   "source": [
    "import math\n",
    "\n",
    "def get_angle(x,y):\n",
    "    #return angle in degrees\n",
    "    return (math.atan2(y,x)*(180/math.pi))"
   ]
  },
  {
   "cell_type": "code",
   "execution_count": 187,
   "metadata": {},
   "outputs": [],
   "source": [
    "df['foot_x'] = df['RFoot_x']- df['LFoot_x']\n",
    "df['foot_y'] = df['RFoot_y']- df['LFoot_y']\n",
    "df['angle_x']= df['Head_x']-df['foot_x']\n",
    "df['angle_y']= df['Head_y']-df['foot_y']"
   ]
  },
  {
   "cell_type": "code",
   "execution_count": 188,
   "metadata": {},
   "outputs": [
    {
     "data": {
      "text/html": [
       "<div>\n",
       "<style scoped>\n",
       "    .dataframe tbody tr th:only-of-type {\n",
       "        vertical-align: middle;\n",
       "    }\n",
       "\n",
       "    .dataframe tbody tr th {\n",
       "        vertical-align: top;\n",
       "    }\n",
       "\n",
       "    .dataframe thead th {\n",
       "        text-align: right;\n",
       "    }\n",
       "</style>\n",
       "<table border=\"1\" class=\"dataframe\">\n",
       "  <thead>\n",
       "    <tr style=\"text-align: right;\">\n",
       "      <th></th>\n",
       "      <th>angle_x</th>\n",
       "      <th>angle_y</th>\n",
       "    </tr>\n",
       "  </thead>\n",
       "  <tbody>\n",
       "    <tr>\n",
       "      <th>0</th>\n",
       "      <td>500.277008</td>\n",
       "      <td>4.101839</td>\n",
       "    </tr>\n",
       "    <tr>\n",
       "      <th>1</th>\n",
       "      <td>511.359970</td>\n",
       "      <td>-5.270096</td>\n",
       "    </tr>\n",
       "    <tr>\n",
       "      <th>2</th>\n",
       "      <td>498.159439</td>\n",
       "      <td>5.972019</td>\n",
       "    </tr>\n",
       "    <tr>\n",
       "      <th>3</th>\n",
       "      <td>498.322784</td>\n",
       "      <td>7.239643</td>\n",
       "    </tr>\n",
       "    <tr>\n",
       "      <th>4</th>\n",
       "      <td>501.590485</td>\n",
       "      <td>4.139412</td>\n",
       "    </tr>\n",
       "    <tr>\n",
       "      <th>...</th>\n",
       "      <td>...</td>\n",
       "      <td>...</td>\n",
       "    </tr>\n",
       "    <tr>\n",
       "      <th>11073</th>\n",
       "      <td>717.174225</td>\n",
       "      <td>109.702450</td>\n",
       "    </tr>\n",
       "    <tr>\n",
       "      <th>11074</th>\n",
       "      <td>714.393951</td>\n",
       "      <td>111.764980</td>\n",
       "    </tr>\n",
       "    <tr>\n",
       "      <th>11075</th>\n",
       "      <td>718.213501</td>\n",
       "      <td>149.597923</td>\n",
       "    </tr>\n",
       "    <tr>\n",
       "      <th>11076</th>\n",
       "      <td>714.300446</td>\n",
       "      <td>140.850685</td>\n",
       "    </tr>\n",
       "    <tr>\n",
       "      <th>11077</th>\n",
       "      <td>626.438843</td>\n",
       "      <td>133.196323</td>\n",
       "    </tr>\n",
       "  </tbody>\n",
       "</table>\n",
       "<p>11078 rows × 2 columns</p>\n",
       "</div>"
      ],
      "text/plain": [
       "          angle_x     angle_y\n",
       "0      500.277008    4.101839\n",
       "1      511.359970   -5.270096\n",
       "2      498.159439    5.972019\n",
       "3      498.322784    7.239643\n",
       "4      501.590485    4.139412\n",
       "...           ...         ...\n",
       "11073  717.174225  109.702450\n",
       "11074  714.393951  111.764980\n",
       "11075  718.213501  149.597923\n",
       "11076  714.300446  140.850685\n",
       "11077  626.438843  133.196323\n",
       "\n",
       "[11078 rows x 2 columns]"
      ]
     },
     "execution_count": 188,
     "metadata": {},
     "output_type": "execute_result"
    }
   ],
   "source": [
    "df[['angle_x','angle_y']]"
   ]
  },
  {
   "cell_type": "code",
   "execution_count": 194,
   "metadata": {},
   "outputs": [],
   "source": [
    "df['angle']= df.apply(lambda row: get_angle(x = row['angle_x'], y = row['angle_y']), axis=1)"
   ]
  },
  {
   "cell_type": "code",
   "execution_count": 209,
   "metadata": {},
   "outputs": [],
   "source": [
    "df['Knee_x'] = df['RKnee_x']- df['LKnee_x']\n",
    "df['Knee_y'] = df['RKnee_y']- df['LKnee_y']\n",
    "df['SK_x']= df['Spine_x']-df['Knee_x']\n",
    "df['SK_y']= df['Spine_y']-df['Knee_y']\n",
    "df['dist'] = np.sqrt(np.square(df['SK_x']+df['SK_y']))"
   ]
  },
  {
   "cell_type": "markdown",
   "metadata": {},
   "source": [
    "df3 = df[['pos_class','dist']]"
   ]
  },
  {
   "cell_type": "code",
   "execution_count": 221,
   "metadata": {},
   "outputs": [
    {
     "data": {
      "text/plain": [
       "1062.6763745675987"
      ]
     },
     "execution_count": 221,
     "metadata": {},
     "output_type": "execute_result"
    }
   ],
   "source": [
    "df3['dist'].mean()"
   ]
  },
  {
   "cell_type": "code",
   "execution_count": 216,
   "metadata": {},
   "outputs": [
    {
     "data": {
      "text/plain": [
       "0        0.335011\n",
       "1        0.340933\n",
       "2        0.343182\n",
       "3        0.343610\n",
       "4        0.346809\n",
       "           ...   \n",
       "11073    0.505819\n",
       "11074    0.495959\n",
       "11075    0.491503\n",
       "11076    0.491974\n",
       "11077    0.484782\n",
       "Name: dist, Length: 11078, dtype: float64"
      ]
     },
     "execution_count": 216,
     "metadata": {},
     "output_type": "execute_result"
    }
   ],
   "source": [
    "df3['dist']/df3['dist'].max()"
   ]
  },
  {
   "cell_type": "code",
   "execution_count": 223,
   "metadata": {},
   "outputs": [
    {
     "data": {
      "text/html": [
       "<div>\n",
       "<style scoped>\n",
       "    .dataframe tbody tr th:only-of-type {\n",
       "        vertical-align: middle;\n",
       "    }\n",
       "\n",
       "    .dataframe tbody tr th {\n",
       "        vertical-align: top;\n",
       "    }\n",
       "\n",
       "    .dataframe thead th {\n",
       "        text-align: right;\n",
       "    }\n",
       "</style>\n",
       "<table border=\"1\" class=\"dataframe\">\n",
       "  <thead>\n",
       "    <tr style=\"text-align: right;\">\n",
       "      <th></th>\n",
       "      <th>pos_class</th>\n",
       "      <th>dist</th>\n",
       "    </tr>\n",
       "  </thead>\n",
       "  <tbody>\n",
       "    <tr>\n",
       "      <th>5739</th>\n",
       "      <td>Standing</td>\n",
       "      <td>1008.469269</td>\n",
       "    </tr>\n",
       "    <tr>\n",
       "      <th>5740</th>\n",
       "      <td>Standing</td>\n",
       "      <td>1007.187965</td>\n",
       "    </tr>\n",
       "    <tr>\n",
       "      <th>5741</th>\n",
       "      <td>Standing</td>\n",
       "      <td>943.845444</td>\n",
       "    </tr>\n",
       "    <tr>\n",
       "      <th>5742</th>\n",
       "      <td>Standing</td>\n",
       "      <td>956.544617</td>\n",
       "    </tr>\n",
       "    <tr>\n",
       "      <th>5743</th>\n",
       "      <td>Standing</td>\n",
       "      <td>956.827789</td>\n",
       "    </tr>\n",
       "    <tr>\n",
       "      <th>...</th>\n",
       "      <td>...</td>\n",
       "      <td>...</td>\n",
       "    </tr>\n",
       "    <tr>\n",
       "      <th>11073</th>\n",
       "      <td>Standing</td>\n",
       "      <td>904.755068</td>\n",
       "    </tr>\n",
       "    <tr>\n",
       "      <th>11074</th>\n",
       "      <td>Standing</td>\n",
       "      <td>887.118208</td>\n",
       "    </tr>\n",
       "    <tr>\n",
       "      <th>11075</th>\n",
       "      <td>Standing</td>\n",
       "      <td>879.147766</td>\n",
       "    </tr>\n",
       "    <tr>\n",
       "      <th>11076</th>\n",
       "      <td>Standing</td>\n",
       "      <td>879.991457</td>\n",
       "    </tr>\n",
       "    <tr>\n",
       "      <th>11077</th>\n",
       "      <td>Standing</td>\n",
       "      <td>867.126949</td>\n",
       "    </tr>\n",
       "  </tbody>\n",
       "</table>\n",
       "<p>3074 rows × 2 columns</p>\n",
       "</div>"
      ],
      "text/plain": [
       "      pos_class         dist\n",
       "5739   Standing  1008.469269\n",
       "5740   Standing  1007.187965\n",
       "5741   Standing   943.845444\n",
       "5742   Standing   956.544617\n",
       "5743   Standing   956.827789\n",
       "...         ...          ...\n",
       "11073  Standing   904.755068\n",
       "11074  Standing   887.118208\n",
       "11075  Standing   879.147766\n",
       "11076  Standing   879.991457\n",
       "11077  Standing   867.126949\n",
       "\n",
       "[3074 rows x 2 columns]"
      ]
     },
     "execution_count": 223,
     "metadata": {},
     "output_type": "execute_result"
    }
   ],
   "source": [
    "df3.loc[(df3['pos_class']=='Standing')&(df3['dist']<1062)]"
   ]
  },
  {
   "cell_type": "code",
   "execution_count": 199,
   "metadata": {},
   "outputs": [
    {
     "data": {
      "text/html": [
       "<div>\n",
       "<style scoped>\n",
       "    .dataframe tbody tr th:only-of-type {\n",
       "        vertical-align: middle;\n",
       "    }\n",
       "\n",
       "    .dataframe tbody tr th {\n",
       "        vertical-align: top;\n",
       "    }\n",
       "\n",
       "    .dataframe thead th {\n",
       "        text-align: right;\n",
       "    }\n",
       "</style>\n",
       "<table border=\"1\" class=\"dataframe\">\n",
       "  <thead>\n",
       "    <tr style=\"text-align: right;\">\n",
       "      <th></th>\n",
       "      <th>image_id</th>\n",
       "      <th>pos_class</th>\n",
       "      <th>box</th>\n",
       "      <th>score</th>\n",
       "      <th>Hip_x</th>\n",
       "      <th>Hip_y</th>\n",
       "      <th>RHip_x</th>\n",
       "      <th>RHip_y</th>\n",
       "      <th>RKnee_x</th>\n",
       "      <th>RKnee_y</th>\n",
       "      <th>...</th>\n",
       "      <th>RElbow_x</th>\n",
       "      <th>RElbow_y</th>\n",
       "      <th>RWrist_x</th>\n",
       "      <th>RWrist_y</th>\n",
       "      <th>box_ratio</th>\n",
       "      <th>foot_x</th>\n",
       "      <th>foot_y</th>\n",
       "      <th>angle_x</th>\n",
       "      <th>angle_y</th>\n",
       "      <th>angle</th>\n",
       "    </tr>\n",
       "  </thead>\n",
       "  <tbody>\n",
       "    <tr>\n",
       "      <th>5929</th>\n",
       "      <td>00186.png</td>\n",
       "      <td>Standing</td>\n",
       "      <td>[522.7337646484375, 421.2015686035156, 211.585...</td>\n",
       "      <td>1.906449</td>\n",
       "      <td>563.783539</td>\n",
       "      <td>589.626801</td>\n",
       "      <td>572.048584</td>\n",
       "      <td>585.494263</td>\n",
       "      <td>698.779480</td>\n",
       "      <td>516.618774</td>\n",
       "      <td>...</td>\n",
       "      <td>574.803650</td>\n",
       "      <td>651.614746</td>\n",
       "      <td>665.719238</td>\n",
       "      <td>662.634827</td>\n",
       "      <td>2.071520</td>\n",
       "      <td>-11.020081</td>\n",
       "      <td>217.646484</td>\n",
       "      <td>698.779480</td>\n",
       "      <td>227.341827</td>\n",
       "      <td>18.021847</td>\n",
       "    </tr>\n",
       "    <tr>\n",
       "      <th>5930</th>\n",
       "      <td>00187.png</td>\n",
       "      <td>Standing</td>\n",
       "      <td>[527.5572509765625, 417.86962890625, 220.36425...</td>\n",
       "      <td>2.010271</td>\n",
       "      <td>632.000732</td>\n",
       "      <td>522.260712</td>\n",
       "      <td>639.174072</td>\n",
       "      <td>523.695374</td>\n",
       "      <td>705.168518</td>\n",
       "      <td>517.956726</td>\n",
       "      <td>...</td>\n",
       "      <td>604.742126</td>\n",
       "      <td>635.599121</td>\n",
       "      <td>676.475281</td>\n",
       "      <td>647.076416</td>\n",
       "      <td>2.044338</td>\n",
       "      <td>-17.215942</td>\n",
       "      <td>212.330170</td>\n",
       "      <td>642.043335</td>\n",
       "      <td>337.189117</td>\n",
       "      <td>27.707613</td>\n",
       "    </tr>\n",
       "    <tr>\n",
       "      <th>6024</th>\n",
       "      <td>00281.png</td>\n",
       "      <td>Standing</td>\n",
       "      <td>[661.1878051757812, 446.7486877441406, 226.481...</td>\n",
       "      <td>1.420357</td>\n",
       "      <td>747.887695</td>\n",
       "      <td>698.962097</td>\n",
       "      <td>764.107056</td>\n",
       "      <td>698.962097</td>\n",
       "      <td>784.749878</td>\n",
       "      <td>501.380707</td>\n",
       "      <td>...</td>\n",
       "      <td>861.423279</td>\n",
       "      <td>704.860046</td>\n",
       "      <td>746.413208</td>\n",
       "      <td>687.166199</td>\n",
       "      <td>2.032903</td>\n",
       "      <td>-29.489746</td>\n",
       "      <td>200.530365</td>\n",
       "      <td>787.698853</td>\n",
       "      <td>423.232849</td>\n",
       "      <td>28.249266</td>\n",
       "    </tr>\n",
       "    <tr>\n",
       "      <th>6027</th>\n",
       "      <td>00284.png</td>\n",
       "      <td>Standing</td>\n",
       "      <td>[663.3301391601562, 448.3830261230469, 236.572...</td>\n",
       "      <td>1.748560</td>\n",
       "      <td>752.352905</td>\n",
       "      <td>676.755280</td>\n",
       "      <td>767.754761</td>\n",
       "      <td>659.813232</td>\n",
       "      <td>770.835144</td>\n",
       "      <td>484.231995</td>\n",
       "      <td>...</td>\n",
       "      <td>813.960388</td>\n",
       "      <td>462.669373</td>\n",
       "      <td>786.237000</td>\n",
       "      <td>471.910492</td>\n",
       "      <td>2.013551</td>\n",
       "      <td>-12.321472</td>\n",
       "      <td>21.562561</td>\n",
       "      <td>795.478119</td>\n",
       "      <td>456.508682</td>\n",
       "      <td>29.850636</td>\n",
       "    </tr>\n",
       "    <tr>\n",
       "      <th>6028</th>\n",
       "      <td>00285.png</td>\n",
       "      <td>Standing</td>\n",
       "      <td>[672.1156616210938, 443.4112243652344, 233.752...</td>\n",
       "      <td>1.750730</td>\n",
       "      <td>731.162598</td>\n",
       "      <td>660.043488</td>\n",
       "      <td>726.597107</td>\n",
       "      <td>653.956177</td>\n",
       "      <td>772.251953</td>\n",
       "      <td>474.380493</td>\n",
       "      <td>...</td>\n",
       "      <td>817.906799</td>\n",
       "      <td>453.074890</td>\n",
       "      <td>766.164673</td>\n",
       "      <td>489.598755</td>\n",
       "      <td>2.022953</td>\n",
       "      <td>-9.130981</td>\n",
       "      <td>39.567566</td>\n",
       "      <td>790.513916</td>\n",
       "      <td>436.334747</td>\n",
       "      <td>28.897090</td>\n",
       "    </tr>\n",
       "    <tr>\n",
       "      <th>...</th>\n",
       "      <td>...</td>\n",
       "      <td>...</td>\n",
       "      <td>...</td>\n",
       "      <td>...</td>\n",
       "      <td>...</td>\n",
       "      <td>...</td>\n",
       "      <td>...</td>\n",
       "      <td>...</td>\n",
       "      <td>...</td>\n",
       "      <td>...</td>\n",
       "      <td>...</td>\n",
       "      <td>...</td>\n",
       "      <td>...</td>\n",
       "      <td>...</td>\n",
       "      <td>...</td>\n",
       "      <td>...</td>\n",
       "      <td>...</td>\n",
       "      <td>...</td>\n",
       "      <td>...</td>\n",
       "      <td>...</td>\n",
       "      <td>...</td>\n",
       "    </tr>\n",
       "    <tr>\n",
       "      <th>11073</th>\n",
       "      <td>05338.png</td>\n",
       "      <td>Standing</td>\n",
       "      <td>[493.2997741699219, 6.455013751983643, 318.989...</td>\n",
       "      <td>2.859610</td>\n",
       "      <td>644.487701</td>\n",
       "      <td>221.847359</td>\n",
       "      <td>600.875793</td>\n",
       "      <td>213.540329</td>\n",
       "      <td>592.568787</td>\n",
       "      <td>267.536011</td>\n",
       "      <td>...</td>\n",
       "      <td>530.266052</td>\n",
       "      <td>188.619232</td>\n",
       "      <td>551.033630</td>\n",
       "      <td>246.768448</td>\n",
       "      <td>2.006816</td>\n",
       "      <td>-87.223816</td>\n",
       "      <td>8.307037</td>\n",
       "      <td>717.174225</td>\n",
       "      <td>109.702450</td>\n",
       "      <td>8.696828</td>\n",
       "    </tr>\n",
       "    <tr>\n",
       "      <th>11074</th>\n",
       "      <td>05339.png</td>\n",
       "      <td>Standing</td>\n",
       "      <td>[491.9977722167969, 4.910760402679443, 322.873...</td>\n",
       "      <td>2.838507</td>\n",
       "      <td>642.924469</td>\n",
       "      <td>225.275299</td>\n",
       "      <td>600.883606</td>\n",
       "      <td>221.071213</td>\n",
       "      <td>596.679504</td>\n",
       "      <td>279.928436</td>\n",
       "      <td>...</td>\n",
       "      <td>533.618225</td>\n",
       "      <td>187.438522</td>\n",
       "      <td>550.434570</td>\n",
       "      <td>246.295731</td>\n",
       "      <td>2.009049</td>\n",
       "      <td>-84.081726</td>\n",
       "      <td>8.408173</td>\n",
       "      <td>714.393951</td>\n",
       "      <td>111.764980</td>\n",
       "      <td>8.891692</td>\n",
       "    </tr>\n",
       "    <tr>\n",
       "      <th>11075</th>\n",
       "      <td>05340.png</td>\n",
       "      <td>Standing</td>\n",
       "      <td>[496.0231628417969, 4.8509135246276855, 316.59...</td>\n",
       "      <td>2.660438</td>\n",
       "      <td>641.951569</td>\n",
       "      <td>213.493126</td>\n",
       "      <td>598.667725</td>\n",
       "      <td>209.370850</td>\n",
       "      <td>598.667725</td>\n",
       "      <td>287.693970</td>\n",
       "      <td>...</td>\n",
       "      <td>532.711426</td>\n",
       "      <td>188.759506</td>\n",
       "      <td>553.322754</td>\n",
       "      <td>246.471283</td>\n",
       "      <td>2.003770</td>\n",
       "      <td>-103.056702</td>\n",
       "      <td>-12.366791</td>\n",
       "      <td>718.213501</td>\n",
       "      <td>149.597923</td>\n",
       "      <td>11.766004</td>\n",
       "    </tr>\n",
       "    <tr>\n",
       "      <th>11076</th>\n",
       "      <td>05341.png</td>\n",
       "      <td>Standing</td>\n",
       "      <td>[495.2915344238281, 5.950863361358643, 317.956...</td>\n",
       "      <td>2.700341</td>\n",
       "      <td>641.849487</td>\n",
       "      <td>217.441696</td>\n",
       "      <td>598.378906</td>\n",
       "      <td>213.301636</td>\n",
       "      <td>598.378906</td>\n",
       "      <td>287.822632</td>\n",
       "      <td>...</td>\n",
       "      <td>532.138000</td>\n",
       "      <td>188.461304</td>\n",
       "      <td>552.838318</td>\n",
       "      <td>246.422089</td>\n",
       "      <td>2.005803</td>\n",
       "      <td>-99.361328</td>\n",
       "      <td>-8.280121</td>\n",
       "      <td>714.300446</td>\n",
       "      <td>140.850685</td>\n",
       "      <td>11.154869</td>\n",
       "    </tr>\n",
       "    <tr>\n",
       "      <th>11077</th>\n",
       "      <td>05342.png</td>\n",
       "      <td>Standing</td>\n",
       "      <td>[493.2742614746094, 5.808394432067871, 320.596...</td>\n",
       "      <td>2.274351</td>\n",
       "      <td>649.398254</td>\n",
       "      <td>216.685074</td>\n",
       "      <td>609.741089</td>\n",
       "      <td>216.685074</td>\n",
       "      <td>609.741089</td>\n",
       "      <td>279.301636</td>\n",
       "      <td>...</td>\n",
       "      <td>534.601196</td>\n",
       "      <td>191.638458</td>\n",
       "      <td>555.473389</td>\n",
       "      <td>245.906143</td>\n",
       "      <td>2.004109</td>\n",
       "      <td>0.000000</td>\n",
       "      <td>-4.174438</td>\n",
       "      <td>626.438843</td>\n",
       "      <td>133.196323</td>\n",
       "      <td>12.003731</td>\n",
       "    </tr>\n",
       "  </tbody>\n",
       "</table>\n",
       "<p>3962 rows × 44 columns</p>\n",
       "</div>"
      ],
      "text/plain": [
       "        image_id pos_class                                                box  \\\n",
       "5929   00186.png  Standing  [522.7337646484375, 421.2015686035156, 211.585...   \n",
       "5930   00187.png  Standing  [527.5572509765625, 417.86962890625, 220.36425...   \n",
       "6024   00281.png  Standing  [661.1878051757812, 446.7486877441406, 226.481...   \n",
       "6027   00284.png  Standing  [663.3301391601562, 448.3830261230469, 236.572...   \n",
       "6028   00285.png  Standing  [672.1156616210938, 443.4112243652344, 233.752...   \n",
       "...          ...       ...                                                ...   \n",
       "11073  05338.png  Standing  [493.2997741699219, 6.455013751983643, 318.989...   \n",
       "11074  05339.png  Standing  [491.9977722167969, 4.910760402679443, 322.873...   \n",
       "11075  05340.png  Standing  [496.0231628417969, 4.8509135246276855, 316.59...   \n",
       "11076  05341.png  Standing  [495.2915344238281, 5.950863361358643, 317.956...   \n",
       "11077  05342.png  Standing  [493.2742614746094, 5.808394432067871, 320.596...   \n",
       "\n",
       "          score       Hip_x       Hip_y      RHip_x      RHip_y     RKnee_x  \\\n",
       "5929   1.906449  563.783539  589.626801  572.048584  585.494263  698.779480   \n",
       "5930   2.010271  632.000732  522.260712  639.174072  523.695374  705.168518   \n",
       "6024   1.420357  747.887695  698.962097  764.107056  698.962097  784.749878   \n",
       "6027   1.748560  752.352905  676.755280  767.754761  659.813232  770.835144   \n",
       "6028   1.750730  731.162598  660.043488  726.597107  653.956177  772.251953   \n",
       "...         ...         ...         ...         ...         ...         ...   \n",
       "11073  2.859610  644.487701  221.847359  600.875793  213.540329  592.568787   \n",
       "11074  2.838507  642.924469  225.275299  600.883606  221.071213  596.679504   \n",
       "11075  2.660438  641.951569  213.493126  598.667725  209.370850  598.667725   \n",
       "11076  2.700341  641.849487  217.441696  598.378906  213.301636  598.378906   \n",
       "11077  2.274351  649.398254  216.685074  609.741089  216.685074  609.741089   \n",
       "\n",
       "          RKnee_y  ...    RElbow_x    RElbow_y    RWrist_x    RWrist_y  \\\n",
       "5929   516.618774  ...  574.803650  651.614746  665.719238  662.634827   \n",
       "5930   517.956726  ...  604.742126  635.599121  676.475281  647.076416   \n",
       "6024   501.380707  ...  861.423279  704.860046  746.413208  687.166199   \n",
       "6027   484.231995  ...  813.960388  462.669373  786.237000  471.910492   \n",
       "6028   474.380493  ...  817.906799  453.074890  766.164673  489.598755   \n",
       "...           ...  ...         ...         ...         ...         ...   \n",
       "11073  267.536011  ...  530.266052  188.619232  551.033630  246.768448   \n",
       "11074  279.928436  ...  533.618225  187.438522  550.434570  246.295731   \n",
       "11075  287.693970  ...  532.711426  188.759506  553.322754  246.471283   \n",
       "11076  287.822632  ...  532.138000  188.461304  552.838318  246.422089   \n",
       "11077  279.301636  ...  534.601196  191.638458  555.473389  245.906143   \n",
       "\n",
       "       box_ratio      foot_x      foot_y     angle_x     angle_y      angle  \n",
       "5929    2.071520  -11.020081  217.646484  698.779480  227.341827  18.021847  \n",
       "5930    2.044338  -17.215942  212.330170  642.043335  337.189117  27.707613  \n",
       "6024    2.032903  -29.489746  200.530365  787.698853  423.232849  28.249266  \n",
       "6027    2.013551  -12.321472   21.562561  795.478119  456.508682  29.850636  \n",
       "6028    2.022953   -9.130981   39.567566  790.513916  436.334747  28.897090  \n",
       "...          ...         ...         ...         ...         ...        ...  \n",
       "11073   2.006816  -87.223816    8.307037  717.174225  109.702450   8.696828  \n",
       "11074   2.009049  -84.081726    8.408173  714.393951  111.764980   8.891692  \n",
       "11075   2.003770 -103.056702  -12.366791  718.213501  149.597923  11.766004  \n",
       "11076   2.005803  -99.361328   -8.280121  714.300446  140.850685  11.154869  \n",
       "11077   2.004109    0.000000   -4.174438  626.438843  133.196323  12.003731  \n",
       "\n",
       "[3962 rows x 44 columns]"
      ]
     },
     "execution_count": 199,
     "metadata": {},
     "output_type": "execute_result"
    }
   ],
   "source": [
    "df.loc[(df['pos_class']=='Standing')&(df['angle']<30)]"
   ]
  },
  {
   "cell_type": "code",
   "execution_count": null,
   "metadata": {},
   "outputs": [],
   "source": []
  },
  {
   "cell_type": "code",
   "execution_count": null,
   "metadata": {},
   "outputs": [],
   "source": []
  },
  {
   "cell_type": "code",
   "execution_count": 157,
   "metadata": {},
   "outputs": [],
   "source": [
    "def get_ratio(box):\n",
    "    \n",
    "    x = float(box.strip('[,]').split(',')[0])\n",
    "    y = float(box.strip('[,]').split(',')[1])\n",
    "    w = float(box.strip('[,]').split(',')[2])\n",
    "    h = float(box.strip('[,]').split(',')[3])\n",
    "    \n",
    "    return (w/h)+(h/w)"
   ]
  },
  {
   "cell_type": "code",
   "execution_count": 158,
   "metadata": {},
   "outputs": [
    {
     "data": {
      "text/plain": [
       "(11078, 39)"
      ]
     },
     "execution_count": 158,
     "metadata": {},
     "output_type": "execute_result"
    }
   ],
   "source": [
    "df.shape"
   ]
  },
  {
   "cell_type": "code",
   "execution_count": 159,
   "metadata": {},
   "outputs": [],
   "source": [
    "df['box'] = df['box']"
   ]
  },
  {
   "cell_type": "code",
   "execution_count": 160,
   "metadata": {},
   "outputs": [],
   "source": [
    "df['box_ratio']=df['box'].map(get_ratio)"
   ]
  },
  {
   "cell_type": "code",
   "execution_count": 161,
   "metadata": {},
   "outputs": [
    {
     "data": {
      "text/plain": [
       "2.7493856182968752"
      ]
     },
     "execution_count": 161,
     "metadata": {},
     "output_type": "execute_result"
    }
   ],
   "source": [
    "df['box_ratio'][5273]"
   ]
  },
  {
   "cell_type": "code",
   "execution_count": 162,
   "metadata": {},
   "outputs": [],
   "source": [
    "df2 = df[['image_id','pos_class','box_ratio']]"
   ]
  },
  {
   "cell_type": "code",
   "execution_count": 166,
   "metadata": {},
   "outputs": [
    {
     "data": {
      "text/html": [
       "<div>\n",
       "<style scoped>\n",
       "    .dataframe tbody tr th:only-of-type {\n",
       "        vertical-align: middle;\n",
       "    }\n",
       "\n",
       "    .dataframe tbody tr th {\n",
       "        vertical-align: top;\n",
       "    }\n",
       "\n",
       "    .dataframe thead th {\n",
       "        text-align: right;\n",
       "    }\n",
       "</style>\n",
       "<table border=\"1\" class=\"dataframe\">\n",
       "  <thead>\n",
       "    <tr style=\"text-align: right;\">\n",
       "      <th></th>\n",
       "      <th>image_id</th>\n",
       "      <th>pos_class</th>\n",
       "      <th>box_ratio</th>\n",
       "    </tr>\n",
       "  </thead>\n",
       "  <tbody>\n",
       "    <tr>\n",
       "      <th>0</th>\n",
       "      <td>00001.png</td>\n",
       "      <td>FallingDown</td>\n",
       "      <td>2.001408</td>\n",
       "    </tr>\n",
       "    <tr>\n",
       "      <th>1</th>\n",
       "      <td>00002.png</td>\n",
       "      <td>FallingDown</td>\n",
       "      <td>2.001573</td>\n",
       "    </tr>\n",
       "    <tr>\n",
       "      <th>2</th>\n",
       "      <td>00003.png</td>\n",
       "      <td>FallingDown</td>\n",
       "      <td>2.001447</td>\n",
       "    </tr>\n",
       "    <tr>\n",
       "      <th>3</th>\n",
       "      <td>00004.png</td>\n",
       "      <td>FallingDown</td>\n",
       "      <td>2.000927</td>\n",
       "    </tr>\n",
       "    <tr>\n",
       "      <th>4</th>\n",
       "      <td>00005.png</td>\n",
       "      <td>FallingDown</td>\n",
       "      <td>2.001133</td>\n",
       "    </tr>\n",
       "    <tr>\n",
       "      <th>...</th>\n",
       "      <td>...</td>\n",
       "      <td>...</td>\n",
       "      <td>...</td>\n",
       "    </tr>\n",
       "    <tr>\n",
       "      <th>5734</th>\n",
       "      <td>05804.png</td>\n",
       "      <td>FallingDown</td>\n",
       "      <td>2.126952</td>\n",
       "    </tr>\n",
       "    <tr>\n",
       "      <th>5735</th>\n",
       "      <td>05805.png</td>\n",
       "      <td>FallingDown</td>\n",
       "      <td>2.139340</td>\n",
       "    </tr>\n",
       "    <tr>\n",
       "      <th>5736</th>\n",
       "      <td>05806.png</td>\n",
       "      <td>FallingDown</td>\n",
       "      <td>2.133540</td>\n",
       "    </tr>\n",
       "    <tr>\n",
       "      <th>5737</th>\n",
       "      <td>05807.png</td>\n",
       "      <td>FallingDown</td>\n",
       "      <td>2.133524</td>\n",
       "    </tr>\n",
       "    <tr>\n",
       "      <th>5738</th>\n",
       "      <td>05808.png</td>\n",
       "      <td>FallingDown</td>\n",
       "      <td>2.133398</td>\n",
       "    </tr>\n",
       "  </tbody>\n",
       "</table>\n",
       "<p>5739 rows × 3 columns</p>\n",
       "</div>"
      ],
      "text/plain": [
       "       image_id    pos_class  box_ratio\n",
       "0     00001.png  FallingDown   2.001408\n",
       "1     00002.png  FallingDown   2.001573\n",
       "2     00003.png  FallingDown   2.001447\n",
       "3     00004.png  FallingDown   2.000927\n",
       "4     00005.png  FallingDown   2.001133\n",
       "...         ...          ...        ...\n",
       "5734  05804.png  FallingDown   2.126952\n",
       "5735  05805.png  FallingDown   2.139340\n",
       "5736  05806.png  FallingDown   2.133540\n",
       "5737  05807.png  FallingDown   2.133524\n",
       "5738  05808.png  FallingDown   2.133398\n",
       "\n",
       "[5739 rows x 3 columns]"
      ]
     },
     "execution_count": 166,
     "metadata": {},
     "output_type": "execute_result"
    }
   ],
   "source": [
    "df2.loc[(df2['pos_class']=='FallingDown')&(df2['box_ratio']>2)]"
   ]
  },
  {
   "cell_type": "code",
   "execution_count": 165,
   "metadata": {},
   "outputs": [
    {
     "data": {
      "text/html": [
       "<div>\n",
       "<style scoped>\n",
       "    .dataframe tbody tr th:only-of-type {\n",
       "        vertical-align: middle;\n",
       "    }\n",
       "\n",
       "    .dataframe tbody tr th {\n",
       "        vertical-align: top;\n",
       "    }\n",
       "\n",
       "    .dataframe thead th {\n",
       "        text-align: right;\n",
       "    }\n",
       "</style>\n",
       "<table border=\"1\" class=\"dataframe\">\n",
       "  <thead>\n",
       "    <tr style=\"text-align: right;\">\n",
       "      <th></th>\n",
       "      <th>image_id</th>\n",
       "      <th>pos_class</th>\n",
       "      <th>box_ratio</th>\n",
       "    </tr>\n",
       "  </thead>\n",
       "  <tbody>\n",
       "  </tbody>\n",
       "</table>\n",
       "</div>"
      ],
      "text/plain": [
       "Empty DataFrame\n",
       "Columns: [image_id, pos_class, box_ratio]\n",
       "Index: []"
      ]
     },
     "execution_count": 165,
     "metadata": {},
     "output_type": "execute_result"
    }
   ],
   "source": [
    "df2.loc[(df2['pos_class']=='FallingDown')&(df2['box_ratio']<2)]"
   ]
  },
  {
   "cell_type": "code",
   "execution_count": 168,
   "metadata": {},
   "outputs": [
    {
     "data": {
      "text/html": [
       "<div>\n",
       "<style scoped>\n",
       "    .dataframe tbody tr th:only-of-type {\n",
       "        vertical-align: middle;\n",
       "    }\n",
       "\n",
       "    .dataframe tbody tr th {\n",
       "        vertical-align: top;\n",
       "    }\n",
       "\n",
       "    .dataframe thead th {\n",
       "        text-align: right;\n",
       "    }\n",
       "</style>\n",
       "<table border=\"1\" class=\"dataframe\">\n",
       "  <thead>\n",
       "    <tr style=\"text-align: right;\">\n",
       "      <th></th>\n",
       "      <th>image_id</th>\n",
       "      <th>pos_class</th>\n",
       "      <th>box_ratio</th>\n",
       "    </tr>\n",
       "  </thead>\n",
       "  <tbody>\n",
       "    <tr>\n",
       "      <th>5739</th>\n",
       "      <td>00001.png</td>\n",
       "      <td>Standing</td>\n",
       "      <td>2.081794</td>\n",
       "    </tr>\n",
       "    <tr>\n",
       "      <th>5740</th>\n",
       "      <td>00002.png</td>\n",
       "      <td>Standing</td>\n",
       "      <td>2.081275</td>\n",
       "    </tr>\n",
       "    <tr>\n",
       "      <th>5741</th>\n",
       "      <td>00003.png</td>\n",
       "      <td>Standing</td>\n",
       "      <td>2.081977</td>\n",
       "    </tr>\n",
       "    <tr>\n",
       "      <th>5742</th>\n",
       "      <td>00004.png</td>\n",
       "      <td>Standing</td>\n",
       "      <td>2.083166</td>\n",
       "    </tr>\n",
       "    <tr>\n",
       "      <th>5743</th>\n",
       "      <td>00005.png</td>\n",
       "      <td>Standing</td>\n",
       "      <td>2.083208</td>\n",
       "    </tr>\n",
       "    <tr>\n",
       "      <th>...</th>\n",
       "      <td>...</td>\n",
       "      <td>...</td>\n",
       "      <td>...</td>\n",
       "    </tr>\n",
       "    <tr>\n",
       "      <th>11073</th>\n",
       "      <td>05338.png</td>\n",
       "      <td>Standing</td>\n",
       "      <td>2.006816</td>\n",
       "    </tr>\n",
       "    <tr>\n",
       "      <th>11074</th>\n",
       "      <td>05339.png</td>\n",
       "      <td>Standing</td>\n",
       "      <td>2.009049</td>\n",
       "    </tr>\n",
       "    <tr>\n",
       "      <th>11075</th>\n",
       "      <td>05340.png</td>\n",
       "      <td>Standing</td>\n",
       "      <td>2.003770</td>\n",
       "    </tr>\n",
       "    <tr>\n",
       "      <th>11076</th>\n",
       "      <td>05341.png</td>\n",
       "      <td>Standing</td>\n",
       "      <td>2.005803</td>\n",
       "    </tr>\n",
       "    <tr>\n",
       "      <th>11077</th>\n",
       "      <td>05342.png</td>\n",
       "      <td>Standing</td>\n",
       "      <td>2.004109</td>\n",
       "    </tr>\n",
       "  </tbody>\n",
       "</table>\n",
       "<p>5339 rows × 3 columns</p>\n",
       "</div>"
      ],
      "text/plain": [
       "        image_id pos_class  box_ratio\n",
       "5739   00001.png  Standing   2.081794\n",
       "5740   00002.png  Standing   2.081275\n",
       "5741   00003.png  Standing   2.081977\n",
       "5742   00004.png  Standing   2.083166\n",
       "5743   00005.png  Standing   2.083208\n",
       "...          ...       ...        ...\n",
       "11073  05338.png  Standing   2.006816\n",
       "11074  05339.png  Standing   2.009049\n",
       "11075  05340.png  Standing   2.003770\n",
       "11076  05341.png  Standing   2.005803\n",
       "11077  05342.png  Standing   2.004109\n",
       "\n",
       "[5339 rows x 3 columns]"
      ]
     },
     "execution_count": 168,
     "metadata": {},
     "output_type": "execute_result"
    }
   ],
   "source": [
    "df2.loc[(df2['pos_class']=='Standing')&(df2['box_ratio']>2)]"
   ]
  },
  {
   "cell_type": "code",
   "execution_count": null,
   "metadata": {},
   "outputs": [],
   "source": []
  },
  {
   "cell_type": "code",
   "execution_count": 137,
   "metadata": {},
   "outputs": [
    {
     "data": {
      "text/html": [
       "<div>\n",
       "<style scoped>\n",
       "    .dataframe tbody tr th:only-of-type {\n",
       "        vertical-align: middle;\n",
       "    }\n",
       "\n",
       "    .dataframe tbody tr th {\n",
       "        vertical-align: top;\n",
       "    }\n",
       "\n",
       "    .dataframe thead th {\n",
       "        text-align: right;\n",
       "    }\n",
       "</style>\n",
       "<table border=\"1\" class=\"dataframe\">\n",
       "  <thead>\n",
       "    <tr style=\"text-align: right;\">\n",
       "      <th></th>\n",
       "      <th>image_id</th>\n",
       "      <th>pos_class</th>\n",
       "      <th>box_ratio</th>\n",
       "    </tr>\n",
       "  </thead>\n",
       "  <tbody>\n",
       "    <tr>\n",
       "      <th>0</th>\n",
       "      <td>00001.png</td>\n",
       "      <td>FallingDown</td>\n",
       "      <td>0.963168</td>\n",
       "    </tr>\n",
       "    <tr>\n",
       "      <th>1</th>\n",
       "      <td>00002.png</td>\n",
       "      <td>FallingDown</td>\n",
       "      <td>0.961119</td>\n",
       "    </tr>\n",
       "    <tr>\n",
       "      <th>2</th>\n",
       "      <td>00003.png</td>\n",
       "      <td>FallingDown</td>\n",
       "      <td>0.962675</td>\n",
       "    </tr>\n",
       "    <tr>\n",
       "      <th>3</th>\n",
       "      <td>00004.png</td>\n",
       "      <td>FallingDown</td>\n",
       "      <td>0.970006</td>\n",
       "    </tr>\n",
       "    <tr>\n",
       "      <th>4</th>\n",
       "      <td>00005.png</td>\n",
       "      <td>FallingDown</td>\n",
       "      <td>0.966907</td>\n",
       "    </tr>\n",
       "    <tr>\n",
       "      <th>...</th>\n",
       "      <td>...</td>\n",
       "      <td>...</td>\n",
       "      <td>...</td>\n",
       "    </tr>\n",
       "    <tr>\n",
       "      <th>10842</th>\n",
       "      <td>05107.png</td>\n",
       "      <td>Standing</td>\n",
       "      <td>0.835617</td>\n",
       "    </tr>\n",
       "    <tr>\n",
       "      <th>10843</th>\n",
       "      <td>05108.png</td>\n",
       "      <td>Standing</td>\n",
       "      <td>0.834048</td>\n",
       "    </tr>\n",
       "    <tr>\n",
       "      <th>10844</th>\n",
       "      <td>05109.png</td>\n",
       "      <td>Standing</td>\n",
       "      <td>0.832011</td>\n",
       "    </tr>\n",
       "    <tr>\n",
       "      <th>10845</th>\n",
       "      <td>05110.png</td>\n",
       "      <td>Standing</td>\n",
       "      <td>0.827191</td>\n",
       "    </tr>\n",
       "    <tr>\n",
       "      <th>10846</th>\n",
       "      <td>05111.png</td>\n",
       "      <td>Standing</td>\n",
       "      <td>0.828647</td>\n",
       "    </tr>\n",
       "  </tbody>\n",
       "</table>\n",
       "<p>5532 rows × 3 columns</p>\n",
       "</div>"
      ],
      "text/plain": [
       "        image_id    pos_class  box_ratio\n",
       "0      00001.png  FallingDown   0.963168\n",
       "1      00002.png  FallingDown   0.961119\n",
       "2      00003.png  FallingDown   0.962675\n",
       "3      00004.png  FallingDown   0.970006\n",
       "4      00005.png  FallingDown   0.966907\n",
       "...          ...          ...        ...\n",
       "10842  05107.png     Standing   0.835617\n",
       "10843  05108.png     Standing   0.834048\n",
       "10844  05109.png     Standing   0.832011\n",
       "10845  05110.png     Standing   0.827191\n",
       "10846  05111.png     Standing   0.828647\n",
       "\n",
       "[5532 rows x 3 columns]"
      ]
     },
     "execution_count": 137,
     "metadata": {},
     "output_type": "execute_result"
    }
   ],
   "source": [
    "df2.loc[(df2['pos_class']=='FallingDown')& (df2['box_ratio']>0.95) | (df2['pos_class']=='Standing')& (df2['box_ratio']<0.95)]"
   ]
  },
  {
   "cell_type": "code",
   "execution_count": 131,
   "metadata": {},
   "outputs": [
    {
     "data": {
      "text/plain": [
       "<bound method Series.unique of 0        FallingDown\n",
       "1        FallingDown\n",
       "2        FallingDown\n",
       "3        FallingDown\n",
       "4        FallingDown\n",
       "            ...     \n",
       "11073       Standing\n",
       "11074       Standing\n",
       "11075       Standing\n",
       "11076       Standing\n",
       "11077       Standing\n",
       "Name: pos_class, Length: 11078, dtype: object>"
      ]
     },
     "execution_count": 131,
     "metadata": {},
     "output_type": "execute_result"
    }
   ],
   "source": [
    "df2['pos_class'].unique"
   ]
  },
  {
   "cell_type": "code",
   "execution_count": 111,
   "metadata": {},
   "outputs": [
    {
     "data": {
      "text/plain": [
       "0.7110332059463901"
      ]
     },
     "execution_count": 111,
     "metadata": {},
     "output_type": "execute_result"
    }
   ],
   "source": [
    "x = float(box.strip('[,]').split(',')[0])\n",
    "y = float(box.strip('[,]').split(',')[1])\n",
    "w = float(box.strip('[,]').split(',')[2])\n",
    "h = float(box.strip('[,]').split(',')[3])\n",
    "\n",
    "w/h"
   ]
  },
  {
   "cell_type": "code",
   "execution_count": 112,
   "metadata": {},
   "outputs": [
    {
     "data": {
      "text/plain": [
       "1.4064040773862214"
      ]
     },
     "execution_count": 112,
     "metadata": {},
     "output_type": "execute_result"
    }
   ],
   "source": [
    "h/w"
   ]
  },
  {
   "cell_type": "code",
   "execution_count": 113,
   "metadata": {},
   "outputs": [
    {
     "name": "stdout",
     "output_type": "stream",
     "text": [
      "351.60493453155146\n"
     ]
    }
   ],
   "source": [
    "x = float(box.strip('[,]').split(',')[0])\n",
    "y = float(box.strip('[,]').split(',')[1])\n",
    "w = float(box.strip('[,]').split(',')[2])\n",
    "h = float(box.strip('[,]').split(',')[3])\n",
    "\n",
    "x1 = x-w/2\n",
    "y1 = y-h/2\n",
    "x2 = x+w/2\n",
    "\n",
    "y2 = y+h/2\n",
    "print(np.sqrt(np.square(x2-x1)+np.square(y2-y1)))"
   ]
  },
  {
   "cell_type": "code",
   "execution_count": 20,
   "metadata": {},
   "outputs": [],
   "source": [
    "df.to_csv('data/drop_skeleton_fall2.csv')"
   ]
  },
  {
   "cell_type": "code",
   "execution_count": null,
   "metadata": {},
   "outputs": [],
   "source": [
    "feat_df = df.iloc[:,4:]"
   ]
  },
  {
   "cell_type": "code",
   "execution_count": null,
   "metadata": {},
   "outputs": [],
   "source": [
    "feat_df.head()"
   ]
  },
  {
   "cell_type": "code",
   "execution_count": null,
   "metadata": {},
   "outputs": [],
   "source": [
    "df.columns"
   ]
  },
  {
   "cell_type": "code",
   "execution_count": null,
   "metadata": {},
   "outputs": [],
   "source": [
    "x1_diff,y1_diff = feat_df['LShoulder_x']-feat_df['nose_x'],feat_df['LShoulder_y']-feat_df['nose_y']\n",
    "x1y1_len = np.sqrt(np.square(x1_diff)+np.square(y1_diff))\n",
    "x1,y1 = x1_diff/x1y1_len,y1_diff/x1y1_len\n",
    "df['x1'] = x1\n",
    "df['y1'] = y1"
   ]
  },
  {
   "cell_type": "code",
   "execution_count": null,
   "metadata": {},
   "outputs": [],
   "source": [
    "x2_diff, y2_diff = feat_df['RShoulder_x']-feat_df['nose_x'],feat_df['RShoulder_y']-feat_df['nose_y']\n",
    "x2y2_len = np.sqrt(np.square(x2_diff)+np.square(y2_diff))\n",
    "x2, y2 = x2_diff/x2y2_len, y2_diff/x2y2_len\n",
    "df['x2'] = x2\n",
    "df['y2'] = y2"
   ]
  },
  {
   "cell_type": "code",
   "execution_count": null,
   "metadata": {},
   "outputs": [],
   "source": [
    "x3_diff,y3_diff = feat_df['LElbow_x']-feat_df['LShoulder_x'],feat_df['LElbow_y']-feat_df['LShoulder_y']\n",
    "x3y3_len = np.sqrt(np.square(x3_diff)+np.square(y3_diff))\n",
    "x3,y3 = x3_diff/x3y3_len,y3_diff/x3y3_len\n",
    "df['x3'] = x3\n",
    "df['y3'] = y3"
   ]
  },
  {
   "cell_type": "code",
   "execution_count": null,
   "metadata": {},
   "outputs": [],
   "source": [
    "x4_diff,y4_diff = feat_df['RElbow_x']-feat_df['RShoulder_x'],feat_df['RElbow_y']-feat_df['RShoulder_y']\n",
    "x4y4_len = np.sqrt(np.square(x4_diff)+np.square(y4_diff))\n",
    "x4,y4 = x4_diff/x4y4_len,y4_diff/x4y4_len\n",
    "df['x4'] = x4\n",
    "df['y4'] = y4"
   ]
  },
  {
   "cell_type": "code",
   "execution_count": null,
   "metadata": {},
   "outputs": [],
   "source": [
    "x5_diff,y5_diff = feat_df['RWrist_x']-feat_df['RElbow_x'],feat_df['RWrist_y']-feat_df['RElbow_y']\n",
    "x5y5_len = np.sqrt(np.square(x5_diff)+np.square(y5_diff))\n",
    "x5,y5 = x5_diff/x5y5_len,y5_diff/x5y5_len\n",
    "df['x5'] = x5\n",
    "df['y5'] = y5"
   ]
  },
  {
   "cell_type": "code",
   "execution_count": null,
   "metadata": {},
   "outputs": [],
   "source": [
    "x6_diff,y6_diff = feat_df['LWrist_x']-feat_df['LElbow_x'],feat_df['LWrist_y']-feat_df['LElbow_y']\n",
    "x6y6_len = np.sqrt(np.square(x6_diff)+np.square(y6_diff))\n",
    "x6,y6 = x6_diff/x6y6_len,y6_diff/x6y6_len\n",
    "df['x6'] = x6\n",
    "df['y6'] = y6"
   ]
  },
  {
   "cell_type": "code",
   "execution_count": null,
   "metadata": {},
   "outputs": [],
   "source": [
    "x7_diff, y7_diff = feat_df['RHip_x']-feat_df['nose_x'],feat_df['RHip_y']-feat_df['nose_y']\n",
    "x7y7_len = np.sqrt(np.square(x7_diff)+np.square(y7_diff))\n",
    "x7, y7 = x7_diff/x7y7_len, y7_diff/x7y7_len\n",
    "df['x7'] = x7\n",
    "df['y7'] = y7"
   ]
  },
  {
   "cell_type": "code",
   "execution_count": null,
   "metadata": {},
   "outputs": [],
   "source": [
    "x8_diff, y8_diff = feat_df['LHip_x']-feat_df['nose_x'],feat_df['LHip_y']-feat_df['nose_y']\n",
    "len_8 = np.sqrt(np.square(x8_diff)+np.square(y8_diff))\n",
    "x8, y8 = x8_diff/len_8, y8_diff/len_8\n",
    "df['x8'] = x8\n",
    "df['y8'] = y8"
   ]
  },
  {
   "cell_type": "code",
   "execution_count": null,
   "metadata": {},
   "outputs": [],
   "source": [
    "x9_diff, y9_diff = feat_df['LKnee_x']-feat_df['LHip_x'],feat_df['LKnee_y']-feat_df['LHip_y']\n",
    "len_9 = np.sqrt(np.square(x9_diff)+np.square(y9_diff))\n",
    "x9, y9 = x8_diff/len_9, y9_diff/len_9\n",
    "df['x9'] = x9\n",
    "df['y9'] = y9"
   ]
  },
  {
   "cell_type": "code",
   "execution_count": null,
   "metadata": {},
   "outputs": [],
   "source": [
    "x10_diff, y10_diff = feat_df['Rknee_x']-feat_df['RHip_x'],feat_df['Rknee_y']-feat_df['RHip_y']\n",
    "len_10 = np.sqrt(np.square(x10_diff)+np.square(y10_diff))\n",
    "x10, y10 = x10_diff/len_10, y10_diff/len_10\n",
    "df['x10'] = x10\n",
    "df['y10'] = y10"
   ]
  },
  {
   "cell_type": "code",
   "execution_count": null,
   "metadata": {},
   "outputs": [],
   "source": [
    "x12_diff, y12_diff = feat_df['RAnkle_x']-feat_df['Rknee_x'],feat_df['RAnkle_y']-feat_df['Rknee_y']\n",
    "len_12 = np.sqrt(np.square(x12_diff)+np.square(y12_diff))\n",
    "x12, y12 = x12_diff/len_12, y12_diff/len_12\n",
    "df['x12'] = x12\n",
    "df['y12'] = y12"
   ]
  },
  {
   "cell_type": "code",
   "execution_count": null,
   "metadata": {},
   "outputs": [],
   "source": [
    "x13_diff, y13_diff = feat_df['LAnkle_x']-feat_df['LKnee_x'],feat_df['LAnkle_y']-feat_df['LKnee_y']\n",
    "len_13 = np.sqrt(np.square(x13_diff)+np.square(y13_diff))\n",
    "x13, y13 = x13_diff/len_13, y13_diff/len_13\n",
    "df['x13'] = x13\n",
    "df['y13'] = y13"
   ]
  },
  {
   "cell_type": "code",
   "execution_count": null,
   "metadata": {},
   "outputs": [],
   "source": [
    "df.columns"
   ]
  },
  {
   "cell_type": "code",
   "execution_count": null,
   "metadata": {},
   "outputs": [],
   "source": [
    "df"
   ]
  },
  {
   "cell_type": "code",
   "execution_count": null,
   "metadata": {},
   "outputs": [],
   "source": [
    "df[df.iloc[:,30:].isna().any(axis=1)]"
   ]
  },
  {
   "cell_type": "code",
   "execution_count": null,
   "metadata": {},
   "outputs": [],
   "source": [
    "df = df.dropna()"
   ]
  },
  {
   "cell_type": "code",
   "execution_count": null,
   "metadata": {},
   "outputs": [],
   "source": [
    "df.isna().any()"
   ]
  },
  {
   "cell_type": "code",
   "execution_count": null,
   "metadata": {},
   "outputs": [],
   "source": [
    "df.to_csv('data/victorized_res.csv')"
   ]
  },
  {
   "cell_type": "code",
   "execution_count": null,
   "metadata": {},
   "outputs": [],
   "source": []
  },
  {
   "cell_type": "code",
   "execution_count": null,
   "metadata": {},
   "outputs": [],
   "source": [
    "curr_dir = os.getcwd()\n",
    "csv_file_path = os.path.join(curr_dir, 'data/res_with_flips.csv')"
   ]
  },
  {
   "cell_type": "code",
   "execution_count": null,
   "metadata": {},
   "outputs": [],
   "source": [
    "df2 = pd.read_csv(csv_file_path)\n",
    "df2 = df2.drop(['Unnamed: 0','idx'], axis=1)\n",
    "df2 = df2.sort_values(['score'],ascending=False)"
   ]
  },
  {
   "cell_type": "code",
   "execution_count": null,
   "metadata": {},
   "outputs": [],
   "source": [
    "df2 = df2.drop_duplicates(subset = ['image_id','pos_class'], keep = 'first')\n",
    "df2 = df2.sort_index()\n",
    "df2.head()"
   ]
  },
  {
   "cell_type": "code",
   "execution_count": null,
   "metadata": {},
   "outputs": [],
   "source": [
    "df2"
   ]
  },
  {
   "cell_type": "code",
   "execution_count": null,
   "metadata": {},
   "outputs": [],
   "source": [
    "df2.to_csv('data/clean_res_with_flips.csv')"
   ]
  },
  {
   "cell_type": "code",
   "execution_count": null,
   "metadata": {},
   "outputs": [],
   "source": []
  }
 ],
 "metadata": {
  "kernelspec": {
   "display_name": "Python 3",
   "language": "python",
   "name": "python3"
  },
  "language_info": {
   "codemirror_mode": {
    "name": "ipython",
    "version": 3
   },
   "file_extension": ".py",
   "mimetype": "text/x-python",
   "name": "python",
   "nbconvert_exporter": "python",
   "pygments_lexer": "ipython3",
   "version": "3.6.12"
  }
 },
 "nbformat": 4,
 "nbformat_minor": 4
}
