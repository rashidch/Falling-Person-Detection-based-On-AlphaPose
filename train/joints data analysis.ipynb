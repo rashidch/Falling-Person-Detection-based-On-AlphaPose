{
 "cells": [
  {
   "cell_type": "raw",
   "metadata": {},
   "source": [
    "Result for COCO (18 body parts)\n",
    "{0,  \"Nose\"},{1,  \"Neck\"},{2,  \"RShoulder\"},{3,  \"RElbow\"},{4,  \"RWrist\"},{5,  \"LShoulder\"},\n",
    "{6,  \"LElbow\"},{7,  \"LWrist\"},{8,  \"RHip\"},{9,  \"RKnee\"},{10, \"RAnkle\"},{11, \"LHip\"},\n",
    "{12, \"LKnee\"},{13, \"LAnkle\"},{14, \"REye\"},{15, \"LEye\"},{16, \"REar\"},{17, \"LEar\"},"
   ]
  },
  {
   "cell_type": "code",
   "execution_count": 12,
   "metadata": {},
   "outputs": [],
   "source": [
    "import pandas as pd\n",
    "import numpy as np\n",
    "import os\n",
    "import matplotlib.pyplot as plt"
   ]
  },
  {
   "cell_type": "code",
   "execution_count": 13,
   "metadata": {},
   "outputs": [],
   "source": [
    "curr_dir = os.getcwd()\n",
    "csv_file_path = os.path.join(curr_dir, 'data/Skeleton_output.csv')"
   ]
  },
  {
   "cell_type": "code",
   "execution_count": 14,
   "metadata": {},
   "outputs": [],
   "source": [
    "df = pd.read_csv(csv_file_path)\n",
    "#df = df.drop(['Unnamed: 0','idx'], axis=1)\n",
    "#df = df.sort_values(['score'],ascending=False)"
   ]
  },
  {
   "cell_type": "code",
   "execution_count": 6,
   "metadata": {},
   "outputs": [],
   "source": [
    "#df = df.drop_duplicates(subset = ['image_id','pos_class'], keep = 'first')\n",
    "#df = df.sort_index()"
   ]
  },
  {
   "cell_type": "code",
   "execution_count": 15,
   "metadata": {},
   "outputs": [
    {
     "data": {
      "text/plain": [
       "Stand    33924\n",
       "Fall     18828\n",
       "Name: pos_class, dtype: int64"
      ]
     },
     "execution_count": 15,
     "metadata": {},
     "output_type": "execute_result"
    }
   ],
   "source": [
    "df['pos_class'].value_counts()"
   ]
  },
  {
   "cell_type": "code",
   "execution_count": 16,
   "metadata": {},
   "outputs": [
    {
     "data": {
      "text/plain": [
       "Index(['Unnamed: 0', 'image_id', 'idx', 'pos_class', 'box', 'score', 'nose_x',\n",
       "       'nose_y', 'LEye_x', 'LEye_y', 'REye_x', 'REye_y', 'LEar_x', 'LEar_y',\n",
       "       'REar_x', 'REar_y', 'LShoulder_x', 'LShoulder_y', 'RShoulder_x',\n",
       "       'RShoulder_y', 'LElbow_x', 'LElbow_y', 'RElbow_x', 'RElbow_y',\n",
       "       'LWrist_x', 'LWrist_y', 'RWrist_x', 'RWrist_y', 'LHip_x', 'LHip_y',\n",
       "       'RHip_x', 'RHip_y', 'LKnee_x', 'LKnee_y', 'Rknee_x', 'Rknee_y',\n",
       "       'LAnkle_x', 'LAnkle_y', 'RAnkle_x', 'RAnkle_y'],\n",
       "      dtype='object')"
      ]
     },
     "execution_count": 16,
     "metadata": {},
     "output_type": "execute_result"
    }
   ],
   "source": [
    "df.columns"
   ]
  },
  {
   "cell_type": "code",
   "execution_count": 17,
   "metadata": {},
   "outputs": [],
   "source": [
    "df = df.drop(['nose_x','nose_y','LEye_x',\n",
    "       'LEye_y', 'REye_x', 'REye_y', 'LEar_x', 'LEar_y', 'REar_x', 'REar_y'], axis=1)"
   ]
  },
  {
   "cell_type": "code",
   "execution_count": 18,
   "metadata": {
    "scrolled": true
   },
   "outputs": [
    {
     "data": {
      "text/html": [
       "<div>\n",
       "<style scoped>\n",
       "    .dataframe tbody tr th:only-of-type {\n",
       "        vertical-align: middle;\n",
       "    }\n",
       "\n",
       "    .dataframe tbody tr th {\n",
       "        vertical-align: top;\n",
       "    }\n",
       "\n",
       "    .dataframe thead th {\n",
       "        text-align: right;\n",
       "    }\n",
       "</style>\n",
       "<table border=\"1\" class=\"dataframe\">\n",
       "  <thead>\n",
       "    <tr style=\"text-align: right;\">\n",
       "      <th></th>\n",
       "      <th>Unnamed: 0</th>\n",
       "      <th>image_id</th>\n",
       "      <th>idx</th>\n",
       "      <th>pos_class</th>\n",
       "      <th>box</th>\n",
       "      <th>score</th>\n",
       "      <th>LShoulder_x</th>\n",
       "      <th>LShoulder_y</th>\n",
       "      <th>RShoulder_x</th>\n",
       "      <th>RShoulder_y</th>\n",
       "      <th>...</th>\n",
       "      <th>RHip_x</th>\n",
       "      <th>RHip_y</th>\n",
       "      <th>LKnee_x</th>\n",
       "      <th>LKnee_y</th>\n",
       "      <th>Rknee_x</th>\n",
       "      <th>Rknee_y</th>\n",
       "      <th>LAnkle_x</th>\n",
       "      <th>LAnkle_y</th>\n",
       "      <th>RAnkle_x</th>\n",
       "      <th>RAnkle_y</th>\n",
       "    </tr>\n",
       "  </thead>\n",
       "  <tbody>\n",
       "    <tr>\n",
       "      <th>0</th>\n",
       "      <td>0</td>\n",
       "      <td>00000.png</td>\n",
       "      <td>0.0</td>\n",
       "      <td>Fall</td>\n",
       "      <td>[336.5726013183594, 164.6943817138672, 182.944...</td>\n",
       "      <td>3.013832</td>\n",
       "      <td>488.358612</td>\n",
       "      <td>291.937378</td>\n",
       "      <td>457.228851</td>\n",
       "      <td>256.916382</td>\n",
       "      <td>...</td>\n",
       "      <td>414.425385</td>\n",
       "      <td>393.109161</td>\n",
       "      <td>356.057068</td>\n",
       "      <td>490.389709</td>\n",
       "      <td>348.274628</td>\n",
       "      <td>451.477478</td>\n",
       "      <td>391.078064</td>\n",
       "      <td>572.105408</td>\n",
       "      <td>406.642944</td>\n",
       "      <td>533.193176</td>\n",
       "    </tr>\n",
       "    <tr>\n",
       "      <th>1</th>\n",
       "      <td>1</td>\n",
       "      <td>00000.png</td>\n",
       "      <td>0.0</td>\n",
       "      <td>Fall</td>\n",
       "      <td>[158.96102905273438, 36.401363372802734, 183.1...</td>\n",
       "      <td>1.935334</td>\n",
       "      <td>339.518250</td>\n",
       "      <td>102.698494</td>\n",
       "      <td>290.504822</td>\n",
       "      <td>53.685070</td>\n",
       "      <td>...</td>\n",
       "      <td>246.650696</td>\n",
       "      <td>128.495041</td>\n",
       "      <td>233.752426</td>\n",
       "      <td>275.535309</td>\n",
       "      <td>233.752426</td>\n",
       "      <td>275.535309</td>\n",
       "      <td>189.898300</td>\n",
       "      <td>221.362579</td>\n",
       "      <td>184.738998</td>\n",
       "      <td>221.362579</td>\n",
       "    </tr>\n",
       "    <tr>\n",
       "      <th>2</th>\n",
       "      <td>2</td>\n",
       "      <td>00001.png</td>\n",
       "      <td>0.0</td>\n",
       "      <td>Fall</td>\n",
       "      <td>[336.7330017089844, 164.3777313232422, 183.024...</td>\n",
       "      <td>3.009903</td>\n",
       "      <td>488.640747</td>\n",
       "      <td>291.793213</td>\n",
       "      <td>457.468781</td>\n",
       "      <td>252.828247</td>\n",
       "      <td>...</td>\n",
       "      <td>414.607330</td>\n",
       "      <td>389.205658</td>\n",
       "      <td>356.159851</td>\n",
       "      <td>490.514587</td>\n",
       "      <td>348.366852</td>\n",
       "      <td>451.549591</td>\n",
       "      <td>391.228333</td>\n",
       "      <td>572.341003</td>\n",
       "      <td>406.814331</td>\n",
       "      <td>533.376038</td>\n",
       "    </tr>\n",
       "    <tr>\n",
       "      <th>3</th>\n",
       "      <td>3</td>\n",
       "      <td>00001.png</td>\n",
       "      <td>0.0</td>\n",
       "      <td>Fall</td>\n",
       "      <td>[158.01773071289062, 35.56503677368164, 185.01...</td>\n",
       "      <td>1.912334</td>\n",
       "      <td>339.832611</td>\n",
       "      <td>102.091469</td>\n",
       "      <td>293.238220</td>\n",
       "      <td>55.497082</td>\n",
       "      <td>...</td>\n",
       "      <td>249.232422</td>\n",
       "      <td>125.388657</td>\n",
       "      <td>233.700958</td>\n",
       "      <td>275.526123</td>\n",
       "      <td>233.700958</td>\n",
       "      <td>275.526123</td>\n",
       "      <td>192.283722</td>\n",
       "      <td>221.166000</td>\n",
       "      <td>187.106567</td>\n",
       "      <td>221.166000</td>\n",
       "    </tr>\n",
       "    <tr>\n",
       "      <th>4</th>\n",
       "      <td>4</td>\n",
       "      <td>00002.png</td>\n",
       "      <td>0.0</td>\n",
       "      <td>Fall</td>\n",
       "      <td>[337.05609130859375, 165.1505126953125, 183.01...</td>\n",
       "      <td>3.007703</td>\n",
       "      <td>488.716980</td>\n",
       "      <td>292.053986</td>\n",
       "      <td>457.670227</td>\n",
       "      <td>253.245575</td>\n",
       "      <td>...</td>\n",
       "      <td>414.980988</td>\n",
       "      <td>389.075012</td>\n",
       "      <td>356.768372</td>\n",
       "      <td>489.976868</td>\n",
       "      <td>349.006683</td>\n",
       "      <td>451.168457</td>\n",
       "      <td>391.695953</td>\n",
       "      <td>571.474548</td>\n",
       "      <td>407.219299</td>\n",
       "      <td>532.666138</td>\n",
       "    </tr>\n",
       "  </tbody>\n",
       "</table>\n",
       "<p>5 rows × 30 columns</p>\n",
       "</div>"
      ],
      "text/plain": [
       "   Unnamed: 0   image_id  idx pos_class  \\\n",
       "0           0  00000.png  0.0      Fall   \n",
       "1           1  00000.png  0.0      Fall   \n",
       "2           2  00001.png  0.0      Fall   \n",
       "3           3  00001.png  0.0      Fall   \n",
       "4           4  00002.png  0.0      Fall   \n",
       "\n",
       "                                                 box     score  LShoulder_x  \\\n",
       "0  [336.5726013183594, 164.6943817138672, 182.944...  3.013832   488.358612   \n",
       "1  [158.96102905273438, 36.401363372802734, 183.1...  1.935334   339.518250   \n",
       "2  [336.7330017089844, 164.3777313232422, 183.024...  3.009903   488.640747   \n",
       "3  [158.01773071289062, 35.56503677368164, 185.01...  1.912334   339.832611   \n",
       "4  [337.05609130859375, 165.1505126953125, 183.01...  3.007703   488.716980   \n",
       "\n",
       "   LShoulder_y  RShoulder_x  RShoulder_y  ...      RHip_x      RHip_y  \\\n",
       "0   291.937378   457.228851   256.916382  ...  414.425385  393.109161   \n",
       "1   102.698494   290.504822    53.685070  ...  246.650696  128.495041   \n",
       "2   291.793213   457.468781   252.828247  ...  414.607330  389.205658   \n",
       "3   102.091469   293.238220    55.497082  ...  249.232422  125.388657   \n",
       "4   292.053986   457.670227   253.245575  ...  414.980988  389.075012   \n",
       "\n",
       "      LKnee_x     LKnee_y     Rknee_x     Rknee_y    LAnkle_x    LAnkle_y  \\\n",
       "0  356.057068  490.389709  348.274628  451.477478  391.078064  572.105408   \n",
       "1  233.752426  275.535309  233.752426  275.535309  189.898300  221.362579   \n",
       "2  356.159851  490.514587  348.366852  451.549591  391.228333  572.341003   \n",
       "3  233.700958  275.526123  233.700958  275.526123  192.283722  221.166000   \n",
       "4  356.768372  489.976868  349.006683  451.168457  391.695953  571.474548   \n",
       "\n",
       "     RAnkle_x    RAnkle_y  \n",
       "0  406.642944  533.193176  \n",
       "1  184.738998  221.362579  \n",
       "2  406.814331  533.376038  \n",
       "3  187.106567  221.166000  \n",
       "4  407.219299  532.666138  \n",
       "\n",
       "[5 rows x 30 columns]"
      ]
     },
     "execution_count": 18,
     "metadata": {},
     "output_type": "execute_result"
    }
   ],
   "source": [
    "df.head()"
   ]
  },
  {
   "cell_type": "code",
   "execution_count": 19,
   "metadata": {},
   "outputs": [
    {
     "data": {
      "text/plain": [
       "(52752, 30)"
      ]
     },
     "execution_count": 19,
     "metadata": {},
     "output_type": "execute_result"
    }
   ],
   "source": [
    "df.shape"
   ]
  },
  {
   "cell_type": "code",
   "execution_count": 20,
   "metadata": {},
   "outputs": [],
   "source": [
    "df.to_csv('data/drop_skeleton_fall2.csv')"
   ]
  },
  {
   "cell_type": "code",
   "execution_count": null,
   "metadata": {},
   "outputs": [],
   "source": [
    "feat_df = df.iloc[:,4:]"
   ]
  },
  {
   "cell_type": "code",
   "execution_count": null,
   "metadata": {},
   "outputs": [],
   "source": [
    "feat_df.head()"
   ]
  },
  {
   "cell_type": "code",
   "execution_count": null,
   "metadata": {},
   "outputs": [],
   "source": [
    "df.columns"
   ]
  },
  {
   "cell_type": "code",
   "execution_count": null,
   "metadata": {},
   "outputs": [],
   "source": [
    "x1_diff,y1_diff = feat_df['LShoulder_x']-feat_df['nose_x'],feat_df['LShoulder_y']-feat_df['nose_y']\n",
    "x1y1_len = np.sqrt(np.square(x1_diff)+np.square(y1_diff))\n",
    "x1,y1 = x1_diff/x1y1_len,y1_diff/x1y1_len\n",
    "df['x1'] = x1\n",
    "df['y1'] = y1"
   ]
  },
  {
   "cell_type": "code",
   "execution_count": null,
   "metadata": {},
   "outputs": [],
   "source": [
    "x2_diff, y2_diff = feat_df['RShoulder_x']-feat_df['nose_x'],feat_df['RShoulder_y']-feat_df['nose_y']\n",
    "x2y2_len = np.sqrt(np.square(x2_diff)+np.square(y2_diff))\n",
    "x2, y2 = x2_diff/x2y2_len, y2_diff/x2y2_len\n",
    "df['x2'] = x2\n",
    "df['y2'] = y2"
   ]
  },
  {
   "cell_type": "code",
   "execution_count": null,
   "metadata": {},
   "outputs": [],
   "source": [
    "x3_diff,y3_diff = feat_df['LElbow_x']-feat_df['LShoulder_x'],feat_df['LElbow_y']-feat_df['LShoulder_y']\n",
    "x3y3_len = np.sqrt(np.square(x3_diff)+np.square(y3_diff))\n",
    "x3,y3 = x3_diff/x3y3_len,y3_diff/x3y3_len\n",
    "df['x3'] = x3\n",
    "df['y3'] = y3"
   ]
  },
  {
   "cell_type": "code",
   "execution_count": null,
   "metadata": {},
   "outputs": [],
   "source": [
    "x4_diff,y4_diff = feat_df['RElbow_x']-feat_df['RShoulder_x'],feat_df['RElbow_y']-feat_df['RShoulder_y']\n",
    "x4y4_len = np.sqrt(np.square(x4_diff)+np.square(y4_diff))\n",
    "x4,y4 = x4_diff/x4y4_len,y4_diff/x4y4_len\n",
    "df['x4'] = x4\n",
    "df['y4'] = y4"
   ]
  },
  {
   "cell_type": "code",
   "execution_count": null,
   "metadata": {},
   "outputs": [],
   "source": [
    "x5_diff,y5_diff = feat_df['RWrist_x']-feat_df['RElbow_x'],feat_df['RWrist_y']-feat_df['RElbow_y']\n",
    "x5y5_len = np.sqrt(np.square(x5_diff)+np.square(y5_diff))\n",
    "x5,y5 = x5_diff/x5y5_len,y5_diff/x5y5_len\n",
    "df['x5'] = x5\n",
    "df['y5'] = y5"
   ]
  },
  {
   "cell_type": "code",
   "execution_count": null,
   "metadata": {},
   "outputs": [],
   "source": [
    "x6_diff,y6_diff = feat_df['LWrist_x']-feat_df['LElbow_x'],feat_df['LWrist_y']-feat_df['LElbow_y']\n",
    "x6y6_len = np.sqrt(np.square(x6_diff)+np.square(y6_diff))\n",
    "x6,y6 = x6_diff/x6y6_len,y6_diff/x6y6_len\n",
    "df['x6'] = x6\n",
    "df['y6'] = y6"
   ]
  },
  {
   "cell_type": "code",
   "execution_count": null,
   "metadata": {},
   "outputs": [],
   "source": [
    "x7_diff, y7_diff = feat_df['RHip_x']-feat_df['nose_x'],feat_df['RHip_y']-feat_df['nose_y']\n",
    "x7y7_len = np.sqrt(np.square(x7_diff)+np.square(y7_diff))\n",
    "x7, y7 = x7_diff/x7y7_len, y7_diff/x7y7_len\n",
    "df['x7'] = x7\n",
    "df['y7'] = y7"
   ]
  },
  {
   "cell_type": "code",
   "execution_count": null,
   "metadata": {},
   "outputs": [],
   "source": [
    "x8_diff, y8_diff = feat_df['LHip_x']-feat_df['nose_x'],feat_df['LHip_y']-feat_df['nose_y']\n",
    "len_8 = np.sqrt(np.square(x8_diff)+np.square(y8_diff))\n",
    "x8, y8 = x8_diff/len_8, y8_diff/len_8\n",
    "df['x8'] = x8\n",
    "df['y8'] = y8"
   ]
  },
  {
   "cell_type": "code",
   "execution_count": null,
   "metadata": {},
   "outputs": [],
   "source": [
    "x9_diff, y9_diff = feat_df['LKnee_x']-feat_df['LHip_x'],feat_df['LKnee_y']-feat_df['LHip_y']\n",
    "len_9 = np.sqrt(np.square(x9_diff)+np.square(y9_diff))\n",
    "x9, y9 = x8_diff/len_9, y9_diff/len_9\n",
    "df['x9'] = x9\n",
    "df['y9'] = y9"
   ]
  },
  {
   "cell_type": "code",
   "execution_count": null,
   "metadata": {},
   "outputs": [],
   "source": [
    "x10_diff, y10_diff = feat_df['Rknee_x']-feat_df['RHip_x'],feat_df['Rknee_y']-feat_df['RHip_y']\n",
    "len_10 = np.sqrt(np.square(x10_diff)+np.square(y10_diff))\n",
    "x10, y10 = x10_diff/len_10, y10_diff/len_10\n",
    "df['x10'] = x10\n",
    "df['y10'] = y10"
   ]
  },
  {
   "cell_type": "code",
   "execution_count": null,
   "metadata": {},
   "outputs": [],
   "source": [
    "x12_diff, y12_diff = feat_df['RAnkle_x']-feat_df['Rknee_x'],feat_df['RAnkle_y']-feat_df['Rknee_y']\n",
    "len_12 = np.sqrt(np.square(x12_diff)+np.square(y12_diff))\n",
    "x12, y12 = x12_diff/len_12, y12_diff/len_12\n",
    "df['x12'] = x12\n",
    "df['y12'] = y12"
   ]
  },
  {
   "cell_type": "code",
   "execution_count": null,
   "metadata": {},
   "outputs": [],
   "source": [
    "x13_diff, y13_diff = feat_df['LAnkle_x']-feat_df['LKnee_x'],feat_df['LAnkle_y']-feat_df['LKnee_y']\n",
    "len_13 = np.sqrt(np.square(x13_diff)+np.square(y13_diff))\n",
    "x13, y13 = x13_diff/len_13, y13_diff/len_13\n",
    "df['x13'] = x13\n",
    "df['y13'] = y13"
   ]
  },
  {
   "cell_type": "code",
   "execution_count": null,
   "metadata": {},
   "outputs": [],
   "source": [
    "df.columns"
   ]
  },
  {
   "cell_type": "code",
   "execution_count": null,
   "metadata": {},
   "outputs": [],
   "source": [
    "df"
   ]
  },
  {
   "cell_type": "code",
   "execution_count": null,
   "metadata": {},
   "outputs": [],
   "source": [
    "df[df.iloc[:,30:].isna().any(axis=1)]"
   ]
  },
  {
   "cell_type": "code",
   "execution_count": null,
   "metadata": {},
   "outputs": [],
   "source": [
    "df = df.dropna()"
   ]
  },
  {
   "cell_type": "code",
   "execution_count": null,
   "metadata": {},
   "outputs": [],
   "source": [
    "df.isna().any()"
   ]
  },
  {
   "cell_type": "code",
   "execution_count": null,
   "metadata": {},
   "outputs": [],
   "source": [
    "df.to_csv('data/victorized_res.csv')"
   ]
  },
  {
   "cell_type": "code",
   "execution_count": null,
   "metadata": {},
   "outputs": [],
   "source": []
  },
  {
   "cell_type": "code",
   "execution_count": null,
   "metadata": {},
   "outputs": [],
   "source": [
    "curr_dir = os.getcwd()\n",
    "csv_file_path = os.path.join(curr_dir, 'data/res_with_flips.csv')"
   ]
  },
  {
   "cell_type": "code",
   "execution_count": null,
   "metadata": {},
   "outputs": [],
   "source": [
    "df2 = pd.read_csv(csv_file_path)\n",
    "df2 = df2.drop(['Unnamed: 0','idx'], axis=1)\n",
    "df2 = df2.sort_values(['score'],ascending=False)"
   ]
  },
  {
   "cell_type": "code",
   "execution_count": null,
   "metadata": {},
   "outputs": [],
   "source": [
    "df2 = df2.drop_duplicates(subset = ['image_id','pos_class'], keep = 'first')\n",
    "df2 = df2.sort_index()\n",
    "df2.head()"
   ]
  },
  {
   "cell_type": "code",
   "execution_count": null,
   "metadata": {},
   "outputs": [],
   "source": [
    "df2"
   ]
  },
  {
   "cell_type": "code",
   "execution_count": null,
   "metadata": {},
   "outputs": [],
   "source": [
    "df2.to_csv('data/clean_res_with_flips.csv')"
   ]
  },
  {
   "cell_type": "code",
   "execution_count": null,
   "metadata": {},
   "outputs": [],
   "source": []
  }
 ],
 "metadata": {
  "kernelspec": {
   "display_name": "Python 3",
   "language": "python",
   "name": "python3"
  },
  "language_info": {
   "codemirror_mode": {
    "name": "ipython",
    "version": 3
   },
   "file_extension": ".py",
   "mimetype": "text/x-python",
   "name": "python",
   "nbconvert_exporter": "python",
   "pygments_lexer": "ipython3",
   "version": "3.6.12"
  }
 },
 "nbformat": 4,
 "nbformat_minor": 4
}
